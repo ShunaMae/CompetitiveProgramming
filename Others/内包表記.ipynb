{
 "cells": [
  {
   "cell_type": "markdown",
   "id": "0efe2c1d",
   "metadata": {},
   "source": [
    "## 内包表記"
   ]
  },
  {
   "cell_type": "code",
   "execution_count": 2,
   "id": "da8adbcb",
   "metadata": {},
   "outputs": [
    {
     "data": {
      "text/plain": [
       "25"
      ]
     },
     "execution_count": 2,
     "metadata": {},
     "output_type": "execute_result"
    }
   ],
   "source": [
    "import random \n",
    "random.randint(1,100)\n",
    "# 1から100までの乱数を生成する"
   ]
  },
  {
   "cell_type": "code",
   "execution_count": 8,
   "id": "c4d504ee",
   "metadata": {},
   "outputs": [
    {
     "data": {
      "text/plain": [
       "1000"
      ]
     },
     "execution_count": 8,
     "metadata": {},
     "output_type": "execute_result"
    }
   ],
   "source": [
    "#1000個の乱数をリストに突っ込む\n",
    "\n",
    "data = []\n",
    "for _ in range(1000): \n",
    "    x = random.randint(1,100)\n",
    "    data.append(x)\n",
    "    \n",
    "len(data)"
   ]
  },
  {
   "cell_type": "code",
   "execution_count": 14,
   "id": "d3a16d02",
   "metadata": {},
   "outputs": [
    {
     "name": "stdout",
     "output_type": "stream",
     "text": [
      "111 µs ± 3 µs per loop (mean ± std. dev. of 7 runs, 10000 loops each)\n"
     ]
    }
   ],
   "source": [
    "%%timeit\n",
    "data_10x = []\n",
    "\n",
    "for i in data: \n",
    "    data_10x.append(10*i)\n",
    "    \n",
    "data_10x[:10]\n",
    "#show first 10"
   ]
  },
  {
   "cell_type": "code",
   "execution_count": 16,
   "id": "bde222de",
   "metadata": {},
   "outputs": [
    {
     "name": "stdout",
     "output_type": "stream",
     "text": [
      "71.2 µs ± 2.61 µs per loop (mean ± std. dev. of 7 runs, 10000 loops each)\n"
     ]
    }
   ],
   "source": [
    "%%timeit\n",
    "\n",
    "# 内包表記\n",
    "# [what you want for loop]\n",
    "# one-liner \n",
    "# one-liner is quicker \n",
    "\n",
    "\n",
    "new_data_10x = [10*i for i in data]\n",
    "new_data_10x[:10]"
   ]
  },
  {
   "cell_type": "markdown",
   "id": "a54bd04d",
   "metadata": {},
   "source": [
    "## if文込みの内包表記"
   ]
  },
  {
   "cell_type": "code",
   "execution_count": 18,
   "id": "27a7cf10",
   "metadata": {},
   "outputs": [
    {
     "data": {
      "text/plain": [
       "[21, 61, 15, 87, 7, 63, 35, 43, 85, 11]"
      ]
     },
     "execution_count": 18,
     "metadata": {},
     "output_type": "execute_result"
    }
   ],
   "source": [
    "# only odd numbers \n",
    "\n",
    "data_odd = []\n",
    "for i in data: \n",
    "    if i%2 == 1:\n",
    "        data_odd.append(i)\n",
    "data_odd[:10]"
   ]
  },
  {
   "cell_type": "code",
   "execution_count": 21,
   "id": "15cdb7be",
   "metadata": {},
   "outputs": [
    {
     "data": {
      "text/plain": [
       "[21, 61, 15, 87, 7, 63, 35, 43, 85, 11]"
      ]
     },
     "execution_count": 21,
     "metadata": {},
     "output_type": "execute_result"
    }
   ],
   "source": [
    "new_data_odd = [i for i in data if i%2 == 1]\n",
    "new_data_odd[:10]"
   ]
  },
  {
   "cell_type": "markdown",
   "id": "42793635",
   "metadata": {},
   "source": [
    "## ifelseの内包表記"
   ]
  },
  {
   "cell_type": "code",
   "execution_count": 25,
   "id": "4a020c7f",
   "metadata": {},
   "outputs": [
    {
     "data": {
      "text/plain": [
       "[94, 2100, 4400, 61, 1500, 72, 2600, 87, 66, 700]"
      ]
     },
     "execution_count": 25,
     "metadata": {},
     "output_type": "execute_result"
    }
   ],
   "source": [
    "data_over = []\n",
    "\n",
    "for i in data: \n",
    "    if i >= 50:\n",
    "        data_over.append(i)\n",
    "    else:\n",
    "        data_over.append(100*i)\n",
    "\n",
    "data_over[:10]"
   ]
  },
  {
   "cell_type": "code",
   "execution_count": 27,
   "id": "ea52f3a7",
   "metadata": {},
   "outputs": [
    {
     "data": {
      "text/plain": [
       "[94, 2100, 4400, 61, 1500, 72, 2600, 87, 66, 700]"
      ]
     },
     "execution_count": 27,
     "metadata": {},
     "output_type": "execute_result"
    }
   ],
   "source": [
    "new_data_over = [i if i>=50 else i*100 for i in data]\n",
    "new_data_over[:10]"
   ]
  },
  {
   "cell_type": "markdown",
   "id": "d2ca5b4b",
   "metadata": {},
   "source": [
    "## FizzBuzz問題\n",
    "\n",
    "1から50までの数字を出力するプログラムを書く。\\\n",
    "数字が3の倍数の時は数字の代わりにFizzと出力し、\\\n",
    "5の倍数の時は数字の代わりにBuzzと出力し、\\\n",
    "3と5の倍数の時は、FizzBuzzと出力すること。"
   ]
  },
  {
   "cell_type": "code",
   "execution_count": 36,
   "id": "036fb9fc",
   "metadata": {},
   "outputs": [],
   "source": [
    "# my solution\n",
    "# which did not work (why?)\n",
    "Q = []\n",
    "\n",
    "for num in range(1,51):\n",
    "    if num%3 == 0 and num%5 == 0:\n",
    "        Q.append(\"FizzBuzz\")\n",
    "    elif num%3 == 0 and num%5 != 0:\n",
    "        Q.append(\"Fizz\")\n",
    "    elif num%3 != 0 and num%5 == 0:\n",
    "        Q.append(\"Buzz\")\n",
    "    else:\n",
    "        Q.append(i)"
   ]
  },
  {
   "cell_type": "code",
   "execution_count": 40,
   "id": "8f84aebc",
   "metadata": {},
   "outputs": [],
   "source": [
    "# model solution for for loop \n",
    "\n",
    "fizz_buzz = []\n",
    "\n",
    "for i in range(1,51):\n",
    "    if i%15 == 0: \n",
    "        fizz_buzz.append(\"FizzBuzz\")\n",
    "    elif i%3 == 0: \n",
    "        fizz_buzz.append(\"Fizz\")\n",
    "    elif i%5 == 0: \n",
    "        fizz_buzz.append(\"Buzz\")\n",
    "    else: \n",
    "        fizz_buzz.append(i)\n"
   ]
  },
  {
   "cell_type": "markdown",
   "id": "9cdfadf2",
   "metadata": {},
   "source": [
    "### 内包表記"
   ]
  },
  {
   "cell_type": "code",
   "execution_count": 41,
   "id": "09d599e4",
   "metadata": {},
   "outputs": [
    {
     "ename": "SyntaxError",
     "evalue": "invalid syntax (<ipython-input-41-221b191535e5>, line 4)",
     "output_type": "error",
     "traceback": [
      "\u001b[1;36m  File \u001b[1;32m\"<ipython-input-41-221b191535e5>\"\u001b[1;36m, line \u001b[1;32m4\u001b[0m\n\u001b[1;33m    \"Fizz\" elif i%3 == 0\u001b[0m\n\u001b[1;37m    ^\u001b[0m\n\u001b[1;31mSyntaxError\u001b[0m\u001b[1;31m:\u001b[0m invalid syntax\n"
     ]
    }
   ],
   "source": [
    "# my solution \n",
    "\n",
    "#Q2 = [\"FizzBuzz\" if i%15 == 0 \n",
    "     # \"Fizz\" elif i%3 == 0\n",
    "     # \"Buzz\" elif i%5 == 0\n",
    "     # i else for i in range(1,51)]"
   ]
  },
  {
   "cell_type": "code",
   "execution_count": 43,
   "id": "4bea613e",
   "metadata": {},
   "outputs": [],
   "source": [
    "#順番が変わることに注意！\n",
    "# outcome if condition else outcome if condition2...else i for i in range(1,51)\n",
    "new_fizz_buzz = [\"FizzBuzz\" if i%15 == 0 else\"Fizz\" if i%3 == 0 else \"Buzz\" if i%5 == 0 else i for i in range(1,51)]"
   ]
  }
 ],
 "metadata": {
  "kernelspec": {
   "display_name": "Python 3",
   "language": "python",
   "name": "python3"
  },
  "language_info": {
   "codemirror_mode": {
    "name": "ipython",
    "version": 3
   },
   "file_extension": ".py",
   "mimetype": "text/x-python",
   "name": "python",
   "nbconvert_exporter": "python",
   "pygments_lexer": "ipython3",
   "version": "3.8.8"
  },
  "toc": {
   "base_numbering": 1,
   "nav_menu": {},
   "number_sections": true,
   "sideBar": true,
   "skip_h1_title": false,
   "title_cell": "Table of Contents",
   "title_sidebar": "Contents",
   "toc_cell": false,
   "toc_position": {},
   "toc_section_display": true,
   "toc_window_display": false
  }
 },
 "nbformat": 4,
 "nbformat_minor": 5
}
