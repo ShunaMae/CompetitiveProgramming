{
 "cells": [
  {
   "cell_type": "markdown",
   "id": "35b2d4aa",
   "metadata": {},
   "source": [
    "# 問題とアルゴリズム"
   ]
  },
  {
   "cell_type": "markdown",
   "id": "b51696e6",
   "metadata": {},
   "source": [
    "## Top 3\n",
    "\n",
    "10人分のプレイヤーの得点が記録されたデータを読み込んで、その中から上位3人の得点を順に出力してください。ただし、得点は100点満点とします。\n"
   ]
  },
  {
   "cell_type": "code",
   "execution_count": 14,
   "id": "4a9f85b1",
   "metadata": {},
   "outputs": [
    {
     "name": "stdout",
     "output_type": "stream",
     "text": [
      "1 3 8 7 6 2 9 10 5 4 \n",
      "10 9 8\n"
     ]
    }
   ],
   "source": [
    "scores = list(map(int, input().split()))\n",
    "\n",
    "scores.sort(reverse = True)\n",
    "print(scores[0], scores[1], scores[2])\n",
    "\n",
    "# 1 3 8 7 6 2 9 10 5 4 \n"
   ]
  },
  {
   "cell_type": "markdown",
   "id": "fdbc2f30",
   "metadata": {},
   "source": [
    "アルゴリズムの効率は主に以下の二つの計算量で評価される。\n",
    "\n",
    "1. time complexity: プログラムの実行に必要な時間。計算機のプロセッサをどれだけ利用するか見積もる。\n",
    "\n",
    "2. space complexity: プログラムの実行に必要な記憶領域を評価する。計算機の目盛りをどれだけ利用するかを見積もる。\n",
    "\n",
    "時間計算量の方が問題になることが多い。"
   ]
  },
  {
   "cell_type": "markdown",
   "id": "47a4bded",
   "metadata": {},
   "source": [
    "## O表記法 / Big-Oh-Notation\n",
    "\n",
    "$O(g(n))$は計算量が$g(n)$に比例することを表す。"
   ]
  },
  {
   "cell_type": "markdown",
   "id": "f5e8af42",
   "metadata": {},
   "source": [
    "## Top N\n",
    "\n",
    "$m$個の整数 $a_j$ $(i = 1,2,3,...,m)$が与えられます。その中で値が大きい順に$n$個出力してください。\n",
    "\n",
    "制約\n",
    "1. $m\\leq{1,000,000}$ \n",
    "2. $n \\leq{1,000}$ \n",
    "3. $0 \\leq{a_i}\\leq{10^6}$"
   ]
  },
  {
   "cell_type": "code",
   "execution_count": 19,
   "id": "5785dc9c",
   "metadata": {},
   "outputs": [
    {
     "name": "stdout",
     "output_type": "stream",
     "text": [
      "10 3\n",
      "1 3 8 7 6 2 9 10 5 4 \n",
      "10 9 8\n"
     ]
    }
   ],
   "source": [
    "m,n = map(int, input().split())\n",
    "A = list(map(int, input().split()))\n",
    "\n",
    "A.sort(reverse = True)\n",
    "B = []\n",
    "for i in range(n):\n",
    "    x = A[i]\n",
    "    B.append(x)\n",
    "\n",
    "print(*B)"
   ]
  },
  {
   "cell_type": "markdown",
   "id": "3e5ab33a",
   "metadata": {},
   "source": [
    "## ALDS1_1_D: Maximum Profit \n",
    "\n",
    "FX取引では、異なる国の通貨を交換することで為替差の利益を得ることができます。\n",
    "\n",
    "ある通貨において、時刻$t$における価格$R_t$$(t=0,1,2,...,n-1)$が入力として与えられるので、価格の差$R_j-R_i$（但し$j>i$とする）の最大値を求めてください。\n",
    "\n",
    "制約\\\n",
    "$2\\leq{n}\\leq{200,000}$\\\n",
    "$1\\leq{R_t}\\leq{10^9}$"
   ]
  },
  {
   "cell_type": "markdown",
   "id": "37a9adec",
   "metadata": {},
   "source": [
    "全探索すると、$n$回の比較を$n$要素分行うので計算量は$O(n^2)$になり、制限時間内に処理を終えることはできなくなる。"
   ]
  },
  {
   "cell_type": "code",
   "execution_count": 36,
   "id": "0c7b6b0c",
   "metadata": {},
   "outputs": [
    {
     "name": "stdout",
     "output_type": "stream",
     "text": [
      "3\n",
      "4\n",
      "3\n",
      "2\n",
      "-1\n"
     ]
    }
   ],
   "source": [
    "n = int(input())\n",
    "#縦で入力値が来るときは内包表記のfor文で処理できる。\n",
    "R = [int(input()) for _ in range(n)] \n",
    "\n",
    "#まずは最小値を最初の値に設定。そこから随時更新していく。\n",
    "minR = R[0]\n",
    "maxR = -10**9\n",
    "#なんでmaxRをこう設定するかというと、制約のRtの最大値が10^9だから\n",
    "#最初が10^9で二日目が１だと10^9-1の減少になる\n",
    "#あり得る最低の為替差-1を設定しておいて更新してもらう。\n",
    "\n",
    "#回るのはR[1]から始めてもらうので、for文も1からでいい\n",
    "for i in range(1,n):\n",
    "    #為替差の更新してもらっといて\n",
    "    maxR = max(maxR, R[i] - minR)\n",
    "    #最小値は随時更新、これで計算量をO(n)に抑えられる\n",
    "    minR = min(minR, R[i])\n",
    "#んで出したらおしまい。\n",
    "print(maxR)   "
   ]
  },
  {
   "cell_type": "markdown",
   "id": "3b6949ae",
   "metadata": {},
   "source": [
    "# 初等的整列"
   ]
  },
  {
   "cell_type": "markdown",
   "id": "dfe69505",
   "metadata": {},
   "source": [
    "## 挿入ソート\n",
    "\n",
    "N個の要素を含む数列Aを昇順に並び替える挿入ソートのプログラムを作成してください。\n",
    "\n",
    "入力：最初の行に、数列の長さを示す整数$N$が与えられる。\\\n",
    "出力：出力は$N$行からなります。挿入ソートの書く計算ステップでの途中結果を1行に出力すること。\n",
    "\n",
    "制約 \\\n",
    "$1\\leq{N}\\leq{100}$\\\n",
    "$0\\leq{Aの要素}\\leq{1,000}$"
   ]
  },
  {
   "cell_type": "code",
   "execution_count": 16,
   "id": "df56f563",
   "metadata": {},
   "outputs": [
    {
     "name": "stdout",
     "output_type": "stream",
     "text": [
      "6\n",
      "1 3 5 4 2 6\n",
      "6 5 4 3 2 1\n"
     ]
    }
   ],
   "source": [
    "n = int(input())\n",
    "A = list(map(int, input().split()))\n",
    "A.sort(reverse = True)\n",
    "print(*A)"
   ]
  },
  {
   "cell_type": "markdown",
   "id": "71a204c9",
   "metadata": {},
   "source": [
    "# データ構造"
   ]
  },
  {
   "cell_type": "markdown",
   "id": "9f2bd3ec",
   "metadata": {},
   "source": [
    "## スタック"
   ]
  },
  {
   "cell_type": "markdown",
   "id": "785fdced",
   "metadata": {},
   "source": [
    "一時的にデータを対比したいときに有効なデータ構造。データの中で最後に入ったものが最初に取り出される後入れ先出しの規則に従いデータを管理する。（popによって取り出される要素は、最後にpushされた要素、すなわちpushされてからの時間が最も短い要素）"
   ]
  },
  {
   "cell_type": "markdown",
   "id": "4e18e239",
   "metadata": {},
   "source": [
    "## キュー"
   ]
  },
  {
   "cell_type": "markdown",
   "id": "9e56ab57",
   "metadata": {},
   "source": [
    "待ち行列ともよばれ、データを到着順に処理したいときに使用するデータ構造。データの中で最初に入ったものが最初に取り出される、先入れ先出しの規則に従ってデータを管理する。"
   ]
  },
  {
   "cell_type": "markdown",
   "id": "7df4e26c",
   "metadata": {},
   "source": [
    "## リスト"
   ]
  },
  {
   "cell_type": "markdown",
   "id": "76d5c05f",
   "metadata": {},
   "source": [
    "順序を保ちつつ特定の位置へのデータの挿入、削除を行うデータ構造。双方向連結リストが便利(なんやそれ？？？)"
   ]
  },
  {
   "cell_type": "markdown",
   "id": "a2f6f026",
   "metadata": {},
   "source": [
    "## 逆オペランド記法\n",
    "\n",
    "逆ポーランド記法は、演算子をオペランドの後に記述する記法。中間記法で必要とした括弧が不必要であるというメリットがある。\n",
    "\n",
    "$(1+2)*(4+5)$\\\n",
    "$1$ $2$ + $4$ $5$ + *\n",
    "\n",
    "逆ポーランド記法で与えられた数式の計算結果を出力する。\n",
    "\n",
    "制約\\\n",
    "$2\\leq{式に含まれるオペランドの数}\\leq{100}$\\\n",
    "$1\\leq{式に含まれる演算子の数}\\leq{99}$\\\n",
    "演算子は$+,-,*$のみを含み、1つのオペランドは$10^6$以下の正の整数\\\n",
    "$-1\\times{10^9}\\leq{計算途中の値}\\leq{10^9}$"
   ]
  },
  {
   "cell_type": "code",
   "execution_count": 3,
   "id": "c58a9a14",
   "metadata": {},
   "outputs": [
    {
     "name": "stdout",
     "output_type": "stream",
     "text": [
      "3 4 + 5 6 + *\n",
      "77\n"
     ]
    }
   ],
   "source": [
    "Input = list(input().split())\n",
    "stack = []\n",
    "\n",
    "for x in Input: \n",
    "    if x.isdigit() == True:\n",
    "        stack.append(x)\n",
    "    else:\n",
    "        second_item = stack.pop()\n",
    "        first_item = stack.pop()\n",
    "        tmp = eval(first_item + x + second_item)\n",
    "        stack.append(str(tmp))\n",
    "\n",
    "print(int(stack.pop()))"
   ]
  },
  {
   "cell_type": "markdown",
   "id": "6f4afb92",
   "metadata": {},
   "source": [
    "まずはオペラントを二つstackに格納する。そのあとに演算子が来るのでstackには格納せず、xのまま置いておく。stackに入っている二つのオペラントを後入れ先出しの法則にしたがい、second_itemとfirst_itemにそれぞれアサインする。second_itemを最初にアサインするのは、そのオペラントが一番最後に入ったヤツだから。二つのオペラントを引数で格納し終わったら、演算子として置いてあるｘを持ってきてeval()で計算式として扱う。計算結果をstringとしてstackに格納しておく。（最後の計算で使うから）最後に出力するときはpop()で一番最後に入ったのを出してくることで最後の計算結果を扱うことができる。計算は常に二つのオペラントと一つの演算子で行われるからこう操作できる。"
   ]
  },
  {
   "cell_type": "markdown",
   "id": "7647dcc6",
   "metadata": {},
   "source": [
    "## Queue\n",
    "\n",
    "ラウンドロビンスケジューリング：各プロセスは最大$qms$(クオンタム)だけ処理が実行される。$qms$だけ処理を行っても、まだそのプロセスが完了しなければ、そのプロセスは列の最後尾に移動し、次のプロセスに移動する。"
   ]
  },
  {
   "cell_type": "code",
   "execution_count": 7,
   "id": "eebef2f1",
   "metadata": {},
   "outputs": [
    {
     "name": "stdout",
     "output_type": "stream",
     "text": [
      "5 100\n",
      "p1 130\n",
      "p2 120\n",
      "p3 140\n",
      "p4 80\n",
      "p5 70\n",
      "p4 380\n",
      "p5 450\n",
      "p1 480\n",
      "p2 500\n",
      "p3 540\n"
     ]
    }
   ],
   "source": [
    "n,q = list(map(int, input().split()))\n",
    "\n",
    "from collections import deque \n",
    "#dequeはこうやって扱うみたい。\n",
    "que = deque([])\n",
    "\n",
    "#整数は整数として、それ以外はそれ以外として格納。\n",
    "#内包表記の新しい書き方。\n",
    "for _ in range(n): \n",
    "    que.append((int(x) if x.isdigit() else x for x in input().split()))\n",
    "\n",
    "#最初は０に設定しとこう。\n",
    "tottime = 0 \n",
    "#while文！\n",
    "while que: \n",
    "    name, lefttime = que.popleft()\n",
    "    #もし所要時間がクオンタム内ならそのまま出力\n",
    "    #かかった時間はそのままtotal timeに追加\n",
    "    if lefttime <= q: \n",
    "        # a+=b: a = a+b\n",
    "        tottime += lefttime\n",
    "        print(name, tottime)\n",
    "    #もし所要時間がクオンタムより大きければ\n",
    "    #所要時間からクオンタムを引いたうえで\n",
    "    #queに追加しなおし\n",
    "    else: \n",
    "        # a -= b: a = a-b\n",
    "        lefttime -= q\n",
    "        tottime += q\n",
    "        que.append((name, lefttime))"
   ]
  },
  {
   "cell_type": "markdown",
   "id": "c179a32d",
   "metadata": {},
   "source": [
    "### pop()\n",
    "\n",
    "Dequeはどちらの側からも appendとpopが可能で、どちらの方向からもおよそ O(1)のパフォーマンスで実行できる。\n",
    "\n",
    "両端のみの要素の追加、取り出し、削除、アクセスができる。両端以外の要素に頻繁にアクセスする場合はリストを使ったほうが良い。\n",
    " \n",
    "1. append(): 末尾/右側に要素を追加する\n",
    "2. appendleft(): 先頭/左側に要素を追加する\n",
    "3. extend(): 末尾にリストなどを追加する\n",
    "4. expandleft(): 先頭にリストなどを追加する。要素の順番が逆転するので注意。\n",
    "5. insert(): 途中に要素を追加する。第一引数で位置、第二引数で何を追加するのか指定する。\n",
    "6. pop(): 末尾から要素をひとつ削除し、その値を返す。\n",
    "7. popleft(): 先頭から要素をひとつ削除し、その値を返す。\n",
    "8. これ以外の操作 (remove, rotate, clear, index, len, count, inについてはhttps://note.nkmk.me/python-collections-deque/ を参照。)\n"
   ]
  },
  {
   "cell_type": "markdown",
   "id": "760471b1",
   "metadata": {},
   "source": [
    "dequeをキューとして使うには、エンキューとしてappend()、デキューとしてpopleft()を使う。\n",
    "\n",
    "後入れ先出しのスタックとして使うには、プッシュとしてappend()、ポップとしてpop()を使う。\n",
    "\n"
   ]
  },
  {
   "cell_type": "markdown",
   "id": "9219c637",
   "metadata": {},
   "source": [
    "## 連結リスト\n",
    "\n",
    "以下の命令を受け付ける双方向連結リストを実装する\n",
    "\n",
    "1. insert x: 連結リストの先頭にキーxを持つ要素を継ぎ足す\n",
    "2. delete x: キーxを持つ最初の要素を連結リストから削除する\n",
    "3. deleteFirst: 連結リストの先頭の要素を削除する\n",
    "4. deleteLast: 連結リストの末尾の要素を削除する\n",
    "\n"
   ]
  },
  {
   "cell_type": "code",
   "execution_count": null,
   "id": "be71a0c5",
   "metadata": {},
   "outputs": [],
   "source": []
  }
 ],
 "metadata": {
  "kernelspec": {
   "display_name": "Python 3",
   "language": "python",
   "name": "python3"
  },
  "language_info": {
   "codemirror_mode": {
    "name": "ipython",
    "version": 3
   },
   "file_extension": ".py",
   "mimetype": "text/x-python",
   "name": "python",
   "nbconvert_exporter": "python",
   "pygments_lexer": "ipython3",
   "version": "3.8.8"
  },
  "toc": {
   "base_numbering": 1,
   "nav_menu": {},
   "number_sections": true,
   "sideBar": true,
   "skip_h1_title": false,
   "title_cell": "Table of Contents",
   "title_sidebar": "Contents",
   "toc_cell": false,
   "toc_position": {},
   "toc_section_display": true,
   "toc_window_display": false
  }
 },
 "nbformat": 4,
 "nbformat_minor": 5
}
