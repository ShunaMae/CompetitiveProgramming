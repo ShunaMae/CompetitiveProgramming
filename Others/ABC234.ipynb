{
 "cells": [
  {
   "cell_type": "markdown",
   "id": "ae269e2c",
   "metadata": {},
   "source": [
    "# ABC234A"
   ]
  },
  {
   "cell_type": "code",
   "execution_count": 3,
   "id": "e8906237",
   "metadata": {},
   "outputs": [
    {
     "name": "stdout",
     "output_type": "stream",
     "text": [
      "3\n",
      "722502\n"
     ]
    }
   ],
   "source": [
    "t = int(input())\n",
    "\n",
    "ft = t ** 2 + t * 2 + 3\n",
    "s = ft + t \n",
    "sec = ft ** 2 + ft * 2 + 3\n",
    "thi = s ** 2 + s * 2 + 3\n",
    "\n",
    "com = sec + thi\n",
    "ans = com ** 2 + com * 2 + 3\n",
    "\n",
    "print(ans)\n",
    "    "
   ]
  },
  {
   "cell_type": "markdown",
   "id": "83cd7b56",
   "metadata": {},
   "source": [
    "# ABC234B"
   ]
  },
  {
   "cell_type": "code",
   "execution_count": 4,
   "id": "38fa59b3",
   "metadata": {},
   "outputs": [
    {
     "name": "stdout",
     "output_type": "stream",
     "text": [
      "3\n",
      "0 0\n",
      "0 1\n",
      "1 1\n",
      "1.4142135623730951\n"
     ]
    }
   ],
   "source": [
    "def solve():\n",
    "    n = int(input())\n",
    "    A = [list(map(int, input().split())) for _ in range(n)]\n",
    "    \n",
    "    length = []\n",
    "    from itertools import permutations \n",
    "    import math \n",
    "    \n",
    "    for i in permutations(A,2):\n",
    "        combination = math.sqrt((i[0][0] - i[1][0])**2 + (i[0][1] - i[1][1])**2)\n",
    "        length.append(combination)\n",
    "    \n",
    "    return max(length)\n",
    "\n",
    "print(solve())"
   ]
  },
  {
   "cell_type": "code",
   "execution_count": 22,
   "id": "1286ec9f",
   "metadata": {},
   "outputs": [
    {
     "name": "stdout",
     "output_type": "stream",
     "text": [
      "923423423420220108\n",
      "220022020000202020002022022000002020002222002200002022002200\n"
     ]
    }
   ],
   "source": [
    "def solve():\n",
    "    k = int(input())\n",
    "    bin_k = list(format(k, \"b\"))\n",
    "    \n",
    "    A = []\n",
    "    for element in bin_k:\n",
    "        if element == \"1\":\n",
    "            A.append(str(2))\n",
    "        else:\n",
    "            A.append(str(0))\n",
    "    \n",
    "    ans = \"\".join(A)\n",
    "    \n",
    "    return ans\n",
    "\n",
    "print(solve())\n",
    "    \n",
    "    "
   ]
  },
  {
   "cell_type": "code",
   "execution_count": 44,
   "id": "4ada2f13",
   "metadata": {},
   "outputs": [
    {
     "name": "stdout",
     "output_type": "stream",
     "text": [
      "11 5\n",
      " 3 7 2 5 11 6 1 9 8 10 4                            \n",
      "2\n",
      "3\n",
      "3\n",
      "5\n",
      "6\n",
      "7\n",
      "7\n",
      "\n"
     ]
    }
   ],
   "source": [
    "def solve():\n",
    "    n,k = map(int, input().split())\n",
    "    P = list(map(int, input().split()))\n",
    "    import bisect \n",
    "    A = []\n",
    "    for i in range(n-k+1):\n",
    "        if i == 0:\n",
    "            new = sorted(P[:k], reverse = False)\n",
    "            big = new[0]\n",
    "            A.append(big)\n",
    "            print(A[i])\n",
    "        else:\n",
    "            bisect.insort(new,P[k+i-1])\n",
    "            A.append(new[i])\n",
    "            print(A[i])\n",
    "    return print()\n",
    "\n",
    "solve()\n",
    "                \n",
    "            \n",
    "    \n",
    "    "
   ]
  },
  {
   "cell_type": "code",
   "execution_count": 24,
   "id": "50351c28",
   "metadata": {},
   "outputs": [
    {
     "name": "stdout",
     "output_type": "stream",
     "text": [
      "None\n"
     ]
    }
   ],
   "source": [
    "p = [1,2,3,4,5,6]\n",
    "print(p[:3].sort())"
   ]
  },
  {
   "cell_type": "code",
   "execution_count": 5,
   "id": "3504c9bc",
   "metadata": {},
   "outputs": [
    {
     "name": "stdout",
     "output_type": "stream",
     "text": [
      "21\n",
      "27\n"
     ]
    }
   ],
   "source": [
    "x = int(input())\n",
    "\n",
    "rem = 0\n",
    "if x > 0:\n",
    "    rem = 24 - x\n",
    "print(24 + rem)"
   ]
  },
  {
   "cell_type": "code",
   "execution_count": 11,
   "id": "dbb488f4",
   "metadata": {},
   "outputs": [
    {
     "name": "stdout",
     "output_type": "stream",
     "text": [
      "4 5\n",
      "Posssible\n"
     ]
    }
   ],
   "source": [
    "def solve():\n",
    "    a,b = map(int, input().split())\n",
    "    c = a+b\n",
    "    ans = 'Impossible'\n",
    "    if a % 3 == 0 or b % 3 == 0 or c % 3 == 0: \n",
    "        ans = 'Possible'\n",
    "    return ans \n",
    "print(solve())"
   ]
  },
  {
   "cell_type": "code",
   "execution_count": 15,
   "id": "75bcab8b",
   "metadata": {},
   "outputs": [
    {
     "name": "stdout",
     "output_type": "stream",
     "text": [
      "5\n",
      "2\n",
      "5\n",
      "10\n",
      "1000000000000000000\n",
      "1000000000000000000\n",
      "1000000000000000000\n"
     ]
    }
   ],
   "source": [
    "def solve():\n",
    "    from math import gcd\n",
    "    start = 1\n",
    "    \n",
    "    n = int(input())\n",
    "    for i in range(n):\n",
    "        x = int(input())\n",
    "        start = (start * x) // gcd(start, x)\n",
    "    return start \n",
    "print(solve())\n",
    "    "
   ]
  },
  {
   "cell_type": "markdown",
   "id": "a5aac11d",
   "metadata": {},
   "source": [
    "# ABC128C"
   ]
  },
  {
   "cell_type": "code",
   "execution_count": 27,
   "id": "1b4fb553",
   "metadata": {},
   "outputs": [
    {
     "name": "stdout",
     "output_type": "stream",
     "text": [
      "5 2\n",
      "3 1 2 5\n",
      "2 2 3\n",
      "1 0\n",
      "8\n"
     ]
    }
   ],
   "source": [
    "def solve():\n",
    "    n,m = map(int,input().split())\n",
    "    b = []\n",
    "    \n",
    "    for i in range(m):\n",
    "        x = tuple(map(int, input().split()))\n",
    "        b.append(x[1:])\n",
    "    \n",
    "    p = list(map(int, input().split()))\n",
    "    \n",
    "    ans = 0\n",
    "    \n",
    "    # すべてのスイッチがon/offの2通りずつあるので総数は2^n\n",
    "    for j in range(2 ** n):\n",
    "        # 電球を用意する\n",
    "        c = [0] * m\n",
    "        \n",
    "        for k, e in enumerate(b):\n",
    "            count = 0\n",
    "            for bulb in e:\n",
    "                if j >> (bulb - 1) & 1:\n",
    "                    count += 1\n",
    "                \n",
    "                \n",
    "            if count % 2 == p[k]:\n",
    "                c[k] = True\n",
    "            else:\n",
    "                c[k] = False\n",
    "            \n",
    "            if all(c):\n",
    "                ans += 1\n",
    "    return ans\n",
    "    \n",
    "print(solve())\n",
    "    "
   ]
  },
  {
   "cell_type": "code",
   "execution_count": 6,
   "id": "6dd50768",
   "metadata": {},
   "outputs": [
    {
     "name": "stdout",
     "output_type": "stream",
     "text": [
      "999\n",
      "2997\n"
     ]
    }
   ],
   "source": [
    "i = input()\n",
    "x = [int(a) for a in str(i)]\n",
    "\n",
    "print(111 * sum(x))"
   ]
  },
  {
   "cell_type": "code",
   "execution_count": 18,
   "id": "6c0534c5",
   "metadata": {},
   "outputs": [
    {
     "name": "stdout",
     "output_type": "stream",
     "text": [
      "3\n",
      "100 100 100\n",
      "100\n"
     ]
    }
   ],
   "source": [
    "def solve():\n",
    "    n = int(input())\n",
    "    h = list(map(int, input().split()))\n",
    "    \n",
    "    height = h[0]\n",
    "    for i in range(n-1):\n",
    "        if h[i] >= h[i+1]:\n",
    "            break \n",
    "        else:\n",
    "            height = h[i+1]\n",
    "    return height \n",
    "print(solve())\n",
    "        \n",
    "        "
   ]
  },
  {
   "cell_type": "code",
   "execution_count": 28,
   "id": "76a15d3b",
   "metadata": {},
   "outputs": [
    {
     "name": "stdout",
     "output_type": "stream",
     "text": [
      "3 2\n",
      "0 1000000000 999999999\n",
      "1000000000 1\n",
      "2\n",
      "[(1000000000, 2)]\n",
      "123456789 1\n",
      "-1\n",
      "[]\n"
     ]
    }
   ],
   "source": [
    "n,q = map(int,input().split())\n",
    "a = list(map(int,input().split()))\n",
    "\n",
    "ans = -1 \n",
    "\n",
    "b = []\n",
    "for i in range(1,n+1):\n",
    "    b.append(i)\n",
    "A = list(zip(a,b))\n",
    "\n",
    "\n",
    "for i in range(q):\n",
    "    x,k = map(int, input().split())\n",
    "    selected = [A[j] for j in range(n) if A[j][0] == x]\n",
    "    if len(selected) >= k:\n",
    "        ans = selected[k-1][1]\n",
    "    else:\n",
    "        ans = -1\n",
    "    print(ans)\n",
    "\n",
    "    \n",
    "    "
   ]
  },
  {
   "cell_type": "code",
   "execution_count": null,
   "id": "4bbeab46",
   "metadata": {},
   "outputs": [
    {
     "name": "stdout",
     "output_type": "stream",
     "text": [
      "6 8\n",
      "1 1 2 3 1 2\n",
      "1 1\n",
      "-1\n"
     ]
    }
   ],
   "source": [
    "n,q = map(int,input().split())\n",
    "a = list(map(int,input().split()))\n",
    "\n",
    "ans = 0\n",
    "List = [[] for _ in range(2*10**5)]\n",
    "for i in range(n):\n",
    "    List[a[i]].append(i+1)\n",
    "\n",
    "for j in range(q):\n",
    "    x,k = map(int,input().split())\n",
    "    if k <= len(List[x-1]):\n",
    "        ans = List[x-1][k-1] \n",
    "    else:\n",
    "        ans = -1\n",
    "    print(ans)\n",
    "    "
   ]
  },
  {
   "cell_type": "code",
   "execution_count": 39,
   "id": "4da34577",
   "metadata": {},
   "outputs": [
    {
     "name": "stdout",
     "output_type": "stream",
     "text": [
      "6 8\n",
      "1 1 2 3 1 2\n",
      "1 1\n",
      "2 1\n",
      "3 2\n",
      "4 3\n",
      "5 1\n",
      "6 2\n"
     ]
    }
   ],
   "source": [
    "n,q = map(int,input().split())\n",
    "a = list(map(int,input().split()))\n",
    "\n",
    "for j in range(q):\n",
    "    x,k = map(int, input().split())\n",
    "    \n",
    "for i, element in enumerate(a,1):\n",
    "    "
   ]
  },
  {
   "cell_type": "code",
   "execution_count": 5,
   "id": "25224a40",
   "metadata": {},
   "outputs": [
    {
     "name": "stdout",
     "output_type": "stream",
     "text": [
      "50\n",
      "625\n"
     ]
    }
   ],
   "source": [
    "def solve():\n",
    "    k = int(input())\n",
    "    a = k // 2\n",
    "    b = k - a\n",
    "    ans = a * b\n",
    "    return ans \n",
    "print(solve())\n",
    "    "
   ]
  },
  {
   "cell_type": "code",
   "execution_count": 10,
   "id": "1a9db9bb",
   "metadata": {},
   "outputs": [
    {
     "name": "stdout",
     "output_type": "stream",
     "text": [
      "4 60 7\n",
      "28\n"
     ]
    }
   ],
   "source": [
    "def solve():\n",
    "    n,a, b = map(int, input().split())\n",
    "    if n >= 5:\n",
    "        n -= 5\n",
    "        ans = a * n + b * 5\n",
    "    else:\n",
    "        ans = b * n\n",
    "    return ans\n",
    "print(solve())"
   ]
  },
  {
   "cell_type": "code",
   "execution_count": 14,
   "id": "39c2af5e",
   "metadata": {},
   "outputs": [
    {
     "name": "stdout",
     "output_type": "stream",
     "text": [
      "3 4\n",
      ".#..\n",
      "..#.\n",
      "..##\n",
      "[['.', '#', '.', '.'], ['.', '.', '#', '.'], ['.', '.', '#', '#']]\n",
      ".\n",
      ".\n"
     ]
    },
    {
     "ename": "IndexError",
     "evalue": "list index out of range",
     "output_type": "error",
     "traceback": [
      "\u001b[1;31m---------------------------------------------------------------------------\u001b[0m",
      "\u001b[1;31mIndexError\u001b[0m                                Traceback (most recent call last)",
      "\u001b[1;32m<ipython-input-14-f426ea2c3c62>\u001b[0m in \u001b[0;36m<module>\u001b[1;34m\u001b[0m\n\u001b[0;32m     20\u001b[0m \u001b[1;33m\u001b[0m\u001b[0m\n\u001b[0;32m     21\u001b[0m     \u001b[1;32mreturn\u001b[0m \u001b[0mans\u001b[0m\u001b[1;33m\u001b[0m\u001b[1;33m\u001b[0m\u001b[0m\n\u001b[1;32m---> 22\u001b[1;33m \u001b[0mprint\u001b[0m\u001b[1;33m(\u001b[0m\u001b[0msolve\u001b[0m\u001b[1;33m(\u001b[0m\u001b[1;33m)\u001b[0m\u001b[1;33m)\u001b[0m\u001b[1;33m\u001b[0m\u001b[1;33m\u001b[0m\u001b[0m\n\u001b[0m\u001b[0;32m     23\u001b[0m \u001b[1;33m\u001b[0m\u001b[0m\n\u001b[0;32m     24\u001b[0m \u001b[1;33m\u001b[0m\u001b[0m\n",
      "\u001b[1;32m<ipython-input-14-f426ea2c3c62>\u001b[0m in \u001b[0;36msolve\u001b[1;34m()\u001b[0m\n\u001b[0;32m     10\u001b[0m     \u001b[1;32mfor\u001b[0m \u001b[0mi\u001b[0m \u001b[1;32min\u001b[0m \u001b[0mrange\u001b[0m\u001b[1;33m(\u001b[0m\u001b[0mh\u001b[0m\u001b[1;33m-\u001b[0m\u001b[1;36m1\u001b[0m\u001b[1;33m)\u001b[0m\u001b[1;33m:\u001b[0m\u001b[1;33m\u001b[0m\u001b[1;33m\u001b[0m\u001b[0m\n\u001b[0;32m     11\u001b[0m         \u001b[1;32mfor\u001b[0m \u001b[0mj\u001b[0m \u001b[1;32min\u001b[0m \u001b[0mrange\u001b[0m\u001b[1;33m(\u001b[0m\u001b[0mw\u001b[0m\u001b[1;33m-\u001b[0m\u001b[1;36m1\u001b[0m\u001b[1;33m)\u001b[0m\u001b[1;33m:\u001b[0m\u001b[1;33m\u001b[0m\u001b[1;33m\u001b[0m\u001b[0m\n\u001b[1;32m---> 12\u001b[1;33m             \u001b[1;32mif\u001b[0m \u001b[0mC\u001b[0m\u001b[1;33m[\u001b[0m\u001b[0mnow\u001b[0m\u001b[1;33m[\u001b[0m\u001b[1;36m0\u001b[0m\u001b[1;33m]\u001b[0m \u001b[1;33m+\u001b[0m \u001b[1;36m1\u001b[0m\u001b[1;33m]\u001b[0m\u001b[1;33m[\u001b[0m\u001b[0mj\u001b[0m\u001b[1;33m]\u001b[0m \u001b[1;33m==\u001b[0m \u001b[1;34m\".\"\u001b[0m\u001b[1;33m:\u001b[0m\u001b[1;33m\u001b[0m\u001b[1;33m\u001b[0m\u001b[0m\n\u001b[0m\u001b[0;32m     13\u001b[0m                 \u001b[0mprint\u001b[0m\u001b[1;33m(\u001b[0m\u001b[0mC\u001b[0m\u001b[1;33m[\u001b[0m\u001b[0mnow\u001b[0m\u001b[1;33m[\u001b[0m\u001b[1;36m0\u001b[0m\u001b[1;33m]\u001b[0m \u001b[1;33m+\u001b[0m \u001b[1;36m1\u001b[0m\u001b[1;33m]\u001b[0m\u001b[1;33m[\u001b[0m\u001b[0mj\u001b[0m\u001b[1;33m]\u001b[0m\u001b[1;33m)\u001b[0m\u001b[1;33m\u001b[0m\u001b[1;33m\u001b[0m\u001b[0m\n\u001b[0;32m     14\u001b[0m                 \u001b[0mans\u001b[0m \u001b[1;33m+=\u001b[0m \u001b[1;36m1\u001b[0m\u001b[1;33m\u001b[0m\u001b[1;33m\u001b[0m\u001b[0m\n",
      "\u001b[1;31mIndexError\u001b[0m: list index out of range"
     ]
    }
   ],
   "source": [
    "def solve():\n",
    "    h,w = map(int, input().split())\n",
    "    C = []\n",
    "    for _ in range(h):\n",
    "        c = list(input())\n",
    "        C.append(c)\n",
    "    print(C)\n",
    "    ans = 1\n",
    "    now = [0,0]\n",
    "    for i in range(h-1):\n",
    "        for j in range(w-1):\n",
    "            if C[now[0] + 1][j] == \".\":\n",
    "                print(C[now[0] + 1][j])\n",
    "                ans += 1\n",
    "                now[0] += 1\n",
    "            \n",
    "            if C[i][now[1]+1] == \".\":\n",
    "                ans += 1\n",
    "                now[1] += 1\n",
    "            \n",
    "    return ans \n",
    "print(solve())\n",
    "            \n",
    "        "
   ]
  },
  {
   "cell_type": "code",
   "execution_count": 3,
   "id": "cee4cdd0",
   "metadata": {},
   "outputs": [
    {
     "name": "stdout",
     "output_type": "stream",
     "text": [
      "130 100\n",
      "110.000000\n"
     ]
    }
   ],
   "source": [
    "a,b = map(int, input().split())\n",
    "print(f\"{(a-b)/3+b:8f}\")"
   ]
  },
  {
   "cell_type": "code",
   "execution_count": 4,
   "id": "fb9eca11",
   "metadata": {},
   "outputs": [
    {
     "name": "stdout",
     "output_type": "stream",
     "text": [
      "5 3 20 15\n",
      "90\n"
     ]
    }
   ],
   "source": [
    "n,a,x,y = map(int, input().split())\n",
    "ans = 0\n",
    "for i in range(n):\n",
    "    if i <= a-1:\n",
    "        ans += x\n",
    "    else:\n",
    "        ans += y\n",
    "print(ans)"
   ]
  },
  {
   "cell_type": "code",
   "execution_count": 8,
   "id": "11287f68",
   "metadata": {},
   "outputs": [
    {
     "name": "stdout",
     "output_type": "stream",
     "text": [
      "3 2\n",
      "0\n"
     ]
    }
   ],
   "source": [
    "a,b = map(int, input().split())\n",
    "print(b-a+1 if a < b else 0)"
   ]
  },
  {
   "cell_type": "code",
   "execution_count": 9,
   "id": "5638d8e4",
   "metadata": {},
   "outputs": [
    {
     "name": "stdout",
     "output_type": "stream",
     "text": [
      "2 13\n",
      "No\n"
     ]
    }
   ],
   "source": [
    "a,b = map(int, input().split())\n",
    "ran = 6 * a\n",
    "print(\"Yes\" if ran >= b and a <= b else \"No\")"
   ]
  },
  {
   "cell_type": "code",
   "execution_count": 2,
   "id": "d6996710",
   "metadata": {},
   "outputs": [
    {
     "name": "stdout",
     "output_type": "stream",
     "text": [
      "3 4 5\n",
      "9\n"
     ]
    }
   ],
   "source": [
    "A = list(map(int, input().split()))\n",
    "A.sort()\n",
    "print(A[1] + A[2])"
   ]
  },
  {
   "cell_type": "code",
   "execution_count": 3,
   "id": "c3959664",
   "metadata": {},
   "outputs": [
    {
     "name": "stdout",
     "output_type": "stream",
     "text": [
      "180\n",
      "Yay!\n"
     ]
    }
   ],
   "source": [
    "n = int(input())\n",
    "from math import floor\n",
    "x = floor(1.08 * n)\n",
    "if x < 206:\n",
    "    print(\"Yay!\")\n",
    "elif x == 206:\n",
    "    print(\"so-so\")\n",
    "else:\n",
    "    print(\":(\")"
   ]
  }
 ],
 "metadata": {
  "kernelspec": {
   "display_name": "Python 3",
   "language": "python",
   "name": "python3"
  },
  "language_info": {
   "codemirror_mode": {
    "name": "ipython",
    "version": 3
   },
   "file_extension": ".py",
   "mimetype": "text/x-python",
   "name": "python",
   "nbconvert_exporter": "python",
   "pygments_lexer": "ipython3",
   "version": "3.8.8"
  },
  "toc": {
   "base_numbering": 1,
   "nav_menu": {},
   "number_sections": true,
   "sideBar": true,
   "skip_h1_title": false,
   "title_cell": "Table of Contents",
   "title_sidebar": "Contents",
   "toc_cell": false,
   "toc_position": {},
   "toc_section_display": true,
   "toc_window_display": false
  }
 },
 "nbformat": 4,
 "nbformat_minor": 5
}
