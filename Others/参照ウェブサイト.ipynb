{
 "cells": [
  {
   "cell_type": "markdown",
   "id": "61b10b84",
   "metadata": {},
   "source": [
    "# Atcoder \n",
    "\n",
    "典型90問：https://note.nkmk.me/python-collections-deque/"
   ]
  },
  {
   "cell_type": "markdown",
   "id": "3ecb078e",
   "metadata": {},
   "source": [
    "# 演算子\n",
    "\n",
    "https://www.tohoho-web.com/python/operators.html\n"
   ]
  },
  {
   "cell_type": "markdown",
   "id": "e6b53d69",
   "metadata": {},
   "source": [
    "# Dequeの使い方\n",
    "\n",
    "https://note.nkmk.me/python-collections-deque/\n"
   ]
  },
  {
   "cell_type": "markdown",
   "id": "9c2485da",
   "metadata": {},
   "source": [
    "# 螺旋本解説\n",
    "\n",
    "https://aotamasaki.hatenablog.com/entry/2019/10/11/%E8%9E%BA%E6%97%8B%E6%9C%AC%E3%82%92Python%E3%81%A7%E8%A7%A3%E3%81%8F_Part1#P87-ALDS1_3_B-Queue"
   ]
  },
  {
   "cell_type": "code",
   "execution_count": 2,
   "id": "87b88257",
   "metadata": {},
   "outputs": [
    {
     "ename": "SyntaxError",
     "evalue": "invalid syntax (<ipython-input-2-d709079d8fda>, line 2)",
     "output_type": "error",
     "traceback": [
      "\u001b[1;36m  File \u001b[1;32m\"<ipython-input-2-d709079d8fda>\"\u001b[1;36m, line \u001b[1;32m2\u001b[0m\n\u001b[1;33m    pip install jupyterthemes\u001b[0m\n\u001b[1;37m        ^\u001b[0m\n\u001b[1;31mSyntaxError\u001b[0m\u001b[1;31m:\u001b[0m invalid syntax\n"
     ]
    }
   ],
   "source": [
    "# install jupyterthemes\n",
    "pip install jupyterthemes\n",
    "\n",
    "# upgrade to latest version\n",
    "pip install --upgrade jupyterthemes"
   ]
  },
  {
   "cell_type": "code",
   "execution_count": null,
   "id": "919d8d64",
   "metadata": {},
   "outputs": [],
   "source": [
    "\n",
    "jt -t monokai -T -N -ofs 11 -f inconsolata -tfs 11 -cellw 75%"
   ]
  }
 ],
 "metadata": {
  "kernelspec": {
   "display_name": "Python 3",
   "language": "python",
   "name": "python3"
  },
  "language_info": {
   "codemirror_mode": {
    "name": "ipython",
    "version": 3
   },
   "file_extension": ".py",
   "mimetype": "text/x-python",
   "name": "python",
   "nbconvert_exporter": "python",
   "pygments_lexer": "ipython3",
   "version": "3.8.8"
  },
  "toc": {
   "base_numbering": 1,
   "nav_menu": {},
   "number_sections": true,
   "sideBar": true,
   "skip_h1_title": false,
   "title_cell": "Table of Contents",
   "title_sidebar": "Contents",
   "toc_cell": false,
   "toc_position": {},
   "toc_section_display": true,
   "toc_window_display": false
  }
 },
 "nbformat": 4,
 "nbformat_minor": 5
}
