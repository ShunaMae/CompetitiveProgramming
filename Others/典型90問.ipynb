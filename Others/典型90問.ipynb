{
 "cells": [
  {
   "cell_type": "markdown",
   "id": "0d19180e",
   "metadata": {},
   "source": [
    "## 004 CrossSum \n",
    "\n",
    "$H$行 $W$列のマス目があります。上から $i$ $(1\\leq i \\leq H)$行目、左から$j$ $(1\\leq{j}\\leq{W})$列目にあるマス $(i,j)$ には、整数 $A_{i,j}$が書かれています。 すべてのマス $(i,j)$ $(1\\leq i \\leq H, 1\\leq{j}\\leq{W})$ について、以下の値を求めてください。\n",
    "\n",
    "マス $(i,j)$ と同じ行または同じ列にあるマス（自分自身を含む）に書かれている整数をすべて合計した値"
   ]
  },
  {
   "cell_type": "code",
   "execution_count": 3,
   "id": "db804ec5",
   "metadata": {},
   "outputs": [
    {
     "name": "stdout",
     "output_type": "stream",
     "text": [
      "3 3 \n",
      "1 1 1\n",
      "1 1 1\n",
      "1 1 1\n",
      "555\n",
      "555\n",
      "555\n"
     ]
    }
   ],
   "source": [
    "# 列、行の値の受け取り\n",
    "# H,Wに個別で値を突っ込む\n",
    "H,W = map(int, input().split())\n",
    "\n",
    "# 内包表記\n",
    "A = [list(map(int, input().split())) for k in range(H)]\n",
    "\n",
    "rows = list(map(sum, A))\n",
    "columns = list(map(sum, zip(*A)))\n",
    "\n",
    "for i in range(H):\n",
    "    print(''.join(map(lambda j: str(rows[i] + columns[j] - A[i][j]), range(W))))\n"
   ]
  },
  {
   "cell_type": "code",
   "execution_count": 4,
   "id": "3c36ea8a",
   "metadata": {},
   "outputs": [
    {
     "name": "stdout",
     "output_type": "stream",
     "text": [
      "3 3 \n",
      "1 1 1\n",
      "1 1 1\n",
      "1 1 1\n",
      "5 5 5\n",
      "5 5 5\n",
      "5 5 5\n"
     ]
    }
   ],
   "source": [
    "\n",
    "# 入力の受け取り\n",
    "H, W = map(int, input().split())\n",
    "A = [list(map(int, input().split())) for _ in range(H)]\n",
    "\n",
    "# 各行の和をLに格納する\n",
    "L = []\n",
    "for i in range(H):\n",
    "  L.append(sum(A[i]))\n",
    "\n",
    "# 各列の和をRに格納する\n",
    "R = []\n",
    "for i in range(W):\n",
    "  cnt = 0\n",
    "  for j in range(H):\n",
    "    cnt += A[j][i]\n",
    "  R.append(cnt)\n",
    "\n",
    "# 各マスにおいての行と列の合計値を求め、二重に加算されているA[i][j]を減算する。\n",
    "B = []\n",
    "\n",
    "for i in range(H):\n",
    "  l = []\n",
    "  for k in range(W):\n",
    "    sums = L[i] + R[j] - A[i][j]\n",
    "    l.append(sums)\n",
    "  B.append(l)\n",
    "\n",
    "# 答えを出力する\n",
    "for i in range(H):\n",
    "  print(*B[i])\n"
   ]
  },
  {
   "cell_type": "markdown",
   "id": "7d1a5e54",
   "metadata": {},
   "source": [
    "## 010 Score um Queries\n",
    "\n",
    "$ABC$大学には$N$人の一年生が在籍しています。クラスは$2$つあり、学籍番号 $i$番の生徒のクラスは $C_i$組です。今日は期末試験が返却され、学籍番号 $i4番の生徒の点数は $p_i$点でした。\n",
    "\n",
    "以下の形式の質問が $Q$個与えられます。$j=1,2,…,Q$それぞれについて答えてください。\n",
    "\n",
    "1. 学籍番号 $L_j \\sim R_j$番の1組生徒における、期末試験点数の合計\n",
    "2. 学籍番号 $L_j \\sim R_j$番の2組生徒における、期末試験点数の合計\n",
    "3. これら2つの値をそれぞれ求めよ\n",
    "\n"
   ]
  },
  {
   "cell_type": "code",
   "execution_count": 2,
   "id": "aee7d6a1",
   "metadata": {},
   "outputs": [],
   "source": [
    "#7    \n",
    "#1 72\n",
    "#2 78\n",
    "#2 94\n",
    "#1 23\n",
    "#2 89\n",
    "#1 40\n",
    "#1 75\n",
    "#1\n",
    "#2 6"
   ]
  },
  {
   "cell_type": "code",
   "execution_count": 4,
   "id": "089d63b9",
   "metadata": {},
   "outputs": [],
   "source": [
    "#63 261"
   ]
  },
  {
   "cell_type": "code",
   "execution_count": null,
   "id": "9bed577d",
   "metadata": {},
   "outputs": [],
   "source": [
    "n = int(input())\n",
    "\n",
    "C = []\n",
    "P = []\n",
    "for i in range(n):\n",
    "    c, p = map(int,input().split())\n",
    "    C.append(c)\n",
    "    P.append(p)\n",
    "\n",
    "q = int(input())\n",
    "\n",
    "L = []\n",
    "R = []\n",
    "for i in range(q):\n",
    "    l, r = map(int,input().split())\n",
    "    L.append(l-1)\n",
    "    R.append(r)\n",
    "\n",
    "tmp1 = 0\n",
    "tmp2 = 0\n",
    "sum_score = [[0, 0]]\n",
    "for i in range(n):\n",
    "    if C[i] == 1:\n",
    "        tmp1 += P[i]\n",
    "    else:\n",
    "        tmp2 += P[i]\n",
    "    sum_score.append([tmp1, tmp2])\n",
    "\n",
    "for k in range(q):\n",
    "    A = sum_score[R[k]][0] - sum_score[L[k]][0]\n",
    "    B = sum_score[R[k]][1] - sum_score[L[k]][1]\n",
    "    print(str(A) + \" \" + str(B))"
   ]
  },
  {
   "cell_type": "markdown",
   "id": "a20ed4f5",
   "metadata": {},
   "source": [
    "## 022 Cubic Cake \n",
    "\n",
    "幅 A、奥行き B、高さ C の直方体の形をしたケーキがあります。\n",
    "\n",
    "あなたはケーキに対して、次の操作を行うことができます。\n",
    "\n",
    "ある面に平行な方向に切断する\n",
    "ただし、ケーキは動かしてはならない（複数のケーキに分割されている場合、これらを変形したり、別々に切ることはできない）\n",
    "最小何回の操作で、全てのピースを立方体にすることができますか？"
   ]
  },
  {
   "cell_type": "code",
   "execution_count": 35,
   "id": "591113a7",
   "metadata": {},
   "outputs": [
    {
     "name": "stdout",
     "output_type": "stream",
     "text": [
      "2 2 3\n",
      "4\n"
     ]
    }
   ],
   "source": [
    "##AC\n",
    "A, B, C = map(int, input().split())\n",
    "\n",
    "#最大公約数を求める\n",
    "import math \n",
    "x = math.gcd(A, math.gcd(B,C))\n",
    "\n",
    "print(int((A+B+C)//x - 3))\n"
   ]
  },
  {
   "cell_type": "code",
   "execution_count": 20,
   "id": "fa6b5203",
   "metadata": {},
   "outputs": [
    {
     "name": "stdout",
     "output_type": "stream",
     "text": [
      "1000000000000000000 999999999999999999 999999999999999998\n",
      "3000000000000000000\n"
     ]
    }
   ],
   "source": [
    "a,b,c = map(int, input().split())\n",
    "\n",
    "#最大公約数を求める\n",
    "import math \n",
    "y = math.gcd(a, math.gcd(b,c))\n",
    "\n",
    "print(int((a+b+c)/y - 3))"
   ]
  },
  {
   "cell_type": "markdown",
   "id": "f69d4ac0",
   "metadata": {},
   "source": [
    "3辺として1000000000000000000 999999999999999999 999999999999999998を入れた時、最後の計算がdivisionなのかfloor divisionなのかで計算結果が変わってくる。どこが変わるのかを検証する。"
   ]
  },
  {
   "cell_type": "code",
   "execution_count": 27,
   "id": "45310f81",
   "metadata": {},
   "outputs": [
    {
     "name": "stdout",
     "output_type": "stream",
     "text": [
      "2999999999999999997 2999999999999999997\n"
     ]
    }
   ],
   "source": [
    "print(A+B+C, a+b+c)"
   ]
  },
  {
   "cell_type": "code",
   "execution_count": 28,
   "id": "eaa05edc",
   "metadata": {},
   "outputs": [
    {
     "data": {
      "text/plain": [
       "2999999999999999997"
      ]
     },
     "execution_count": 28,
     "metadata": {},
     "output_type": "execute_result"
    }
   ],
   "source": [
    "(A+B+C)//x"
   ]
  },
  {
   "cell_type": "code",
   "execution_count": 34,
   "id": "cc458892",
   "metadata": {},
   "outputs": [
    {
     "data": {
      "text/plain": [
       "3000000000000000000"
      ]
     },
     "execution_count": 34,
     "metadata": {},
     "output_type": "execute_result"
    }
   ],
   "source": [
    "int((a+b+c)/y)"
   ]
  },
  {
   "cell_type": "markdown",
   "id": "0d738435",
   "metadata": {},
   "source": [
    "いやなんでよ。オーバーフローか？\n",
    "\n",
    "いずれ解明せにゃならん。"
   ]
  },
  {
   "cell_type": "markdown",
   "id": "81f5f394",
   "metadata": {},
   "source": [
    "## 024 Select +/- One\n",
    "\n",
    "長さ$N$の正数数列 $A=(A_1,A_2,...A_N)$および$B = (B_1, B_2,...B_N)$が与えられます。\n",
    "\n",
    "次の操作を$\\textbf{ちょうどK}$回行うことで$A$を$B$に一致させることができるか判定してください。\n",
    "\n",
    "操作：$1\\leq{i}\\leq{N}$を満たす$i$を一つ選び $A_i$を$A_i-1$または$A_i+1$に置き換える。"
   ]
  },
  {
   "cell_type": "code",
   "execution_count": 39,
   "id": "b4cc9cf8",
   "metadata": {},
   "outputs": [
    {
     "name": "stdout",
     "output_type": "stream",
     "text": [
      "4 567\n",
      "1 2 3 4\n",
      "100 7 65 3\n",
      "Yes\n"
     ]
    }
   ],
   "source": [
    "n,k = map(int, input().split())\n",
    "\n",
    "A = list(map(int, input().split()))\n",
    "B = list(map(int, input().split()))\n",
    "\n",
    "#AとBの各要素の差を計算する\n",
    "diff = 0\n",
    "for i in range(n):\n",
    "        diff += abs(A[i]-B[i])\n",
    "        \n",
    "flag = True \n",
    "if diff > k:\n",
    "    flag = False\n",
    "elif (diff - k) %2 == 1: \n",
    "    flag = False \n",
    "\n",
    "if flag == True:\n",
    "    print(\"Yes\")\n",
    "else:\n",
    "    print(\"No\")"
   ]
  },
  {
   "cell_type": "markdown",
   "id": "614fa754",
   "metadata": {},
   "source": [
    "## 027 Sign Up Requests \n",
    "\n",
    "あ君はサイト「lowcoder」を作り、サービスを開始しました。今日の時点では、lowcoderにユーザはいません。\n",
    "\n",
    "今日から数えて$i$ $(1\\leq{i}\\leq{N})$日後には、ユーザ名 $S_i$を希望するユーザが登録申請を行います。申請を行った時点でユーザ名が$S_i$であるユーザが存在する場合、その登録申請は無視されます。そのようなユーザが存在しない場合は登録申請が受理され、lowcoderにそのユーザが登録されます。\n",
    "\n",
    "何日目の登録申請が受理されるかを求めてください。"
   ]
  },
  {
   "cell_type": "markdown",
   "id": "9931dca6",
   "metadata": {},
   "source": [
    "入力例\n",
    "\n",
    "5 \\\n",
    "e869120 \\\n",
    "atcoder \\\n",
    "e869120 \\\n",
    "square1001 \\\n",
    "square1001\n"
   ]
  },
  {
   "cell_type": "markdown",
   "id": "c3c6a201",
   "metadata": {},
   "source": [
    "出力\n",
    "\n",
    "1\\\n",
    "2\\\n",
    "4\n"
   ]
  },
  {
   "cell_type": "code",
   "execution_count": 7,
   "id": "2a9436a4",
   "metadata": {},
   "outputs": [
    {
     "name": "stdout",
     "output_type": "stream",
     "text": [
      "3\n",
      "abc\n",
      "abc\n",
      "abcd\n",
      "1\n",
      "3\n"
     ]
    }
   ],
   "source": [
    "N = int(input())\n",
    "\n",
    "#ユーザー名格納のために空のリストを作る\n",
    "request = []\n",
    "\n",
    "#Ｎ個のユーザー名を格納する\n",
    "for i in range(N):\n",
    "    i = input()\n",
    "    request.append(i)\n",
    "\n",
    "# setの中身は重複しない\n",
    "user = set()\n",
    "\n",
    "for j in range(N):\n",
    "    x = len(user)\n",
    "    user.add(request[j])\n",
    "    y = len(user)\n",
    "    if x != y:\n",
    "        print(j+1)\n",
    "\n",
    "    \n",
    "    "
   ]
  },
  {
   "cell_type": "markdown",
   "id": "9852804e",
   "metadata": {},
   "source": [
    "setは重複しない要素の集まりになるので同じ要素を追加しても長さは変わらない。従って長さが変化するときは新しいユーザー名が追加された時だとわかる。\n",
    "\n",
    "更に、要素のナンバリングは0から始まるのでそれをそのまま出力すると初日が0日目になる。実際に登録申請が来るのは１日目からなので$+1$する必要がある。\n",
    "　\n"
   ]
  },
  {
   "cell_type": "markdown",
   "id": "fcb9d222",
   "metadata": {},
   "source": [
    "## 033 Not too Bright \n",
    "\n",
    "E069120君は、冬に公開するイルミネーションを作成することを計画しています。\n",
    "\n",
    "E069120君が計画しているイルミネーションは、縦$H$×横$W$の$HW$個のLEDで構成されます。\n",
    "\n",
    "イルミネーションの書くLEDは、点灯、消灯の状態を任意に切り替えることができます。このイルミネーションは、以下の条件を満たすとき$\\textbf{不適切である}$と言います。\n",
    "\n",
    "『イルミネーション全体に完全に含まれる縦$2\\times{横2}$の、4つのLEDを含む領域であって、点灯しているLEDが領域内に2つ以上あるものが存在する。』\n",
    "\n",
    "不適切な状態でないイルミネーションの点灯パターンのうち、点灯してるLEDの個数としてありうる最大値を求めてください。"
   ]
  },
  {
   "cell_type": "code",
   "execution_count": 8,
   "id": "3bf126da",
   "metadata": {},
   "outputs": [
    {
     "name": "stdout",
     "output_type": "stream",
     "text": [
      "3 2\n",
      "2\n"
     ]
    }
   ],
   "source": [
    "H,W = map(int, input().split())\n",
    "\n",
    "if H == 1: \n",
    "    print(W)\n",
    "elif W == 1: \n",
    "    print(H)\n",
    "else:\n",
    "    print(((H+1)//2) * ((W+1)//2))"
   ]
  },
  {
   "cell_type": "markdown",
   "id": "4d53ed7f",
   "metadata": {},
   "source": [
    "## 055 Select5 \n",
    "\n",
    "$N$個の整数$A_1, A_2, ... A_N$があります。この中から5個を選ぶ方法のうち、これら5個の整数の積を$P$で割ると$Q$余るようなものが何通りあるか求めてください。\n",
    "\n",
    "入力は以下の形式で\\\n",
    "$N, P, Q$\\\n",
    "$A_1 A_2 A_3...A_N$"
   ]
  },
  {
   "cell_type": "code",
   "execution_count": 14,
   "id": "19fe8ad5",
   "metadata": {},
   "outputs": [
    {
     "name": "stdout",
     "output_type": "stream",
     "text": [
      "6 7 2\n",
      "1 2 3 4 5 6\n",
      "1\n"
     ]
    }
   ],
   "source": [
    "n,p,q = map(int, input().split())\n",
    "\n",
    "#リストで格納\n",
    "A = list(map(int, input().split()))\n",
    "\n",
    "ans = 0 \n",
    "# 5個とるのでN-4までが最初の数として可能な範囲\n",
    "for i in range(n-4): \n",
    "    for j in range(i+1, n-3): \n",
    "        for k in range(j+1, n-2): \n",
    "            for l in range(k+1, n-1): \n",
    "                for m in range(l+1, n): \n",
    "                    #計算を減らすためにこまめに割り算\n",
    "                    #A[i]は7より小さければ計算しても意味ないので2つ目から\n",
    "                    if A[i]*A[j]%p *A[k]%p *A[l]%p *A[m]%p == q:\n",
    "                        ans += 1 \n",
    "print(ans)"
   ]
  },
  {
   "cell_type": "markdown",
   "id": "c6d26641",
   "metadata": {},
   "source": [
    "5個ってわかってるけど全探索しちゃうと時間がかかりすぎてアウトっぽい。\n"
   ]
  },
  {
   "cell_type": "code",
   "execution_count": 27,
   "id": "ed0bef86",
   "metadata": {
    "scrolled": true
   },
   "outputs": [
    {
     "name": "stdout",
     "output_type": "stream",
     "text": [
      "6 7 2\n",
      "1 2 3 4 5 6\n"
     ]
    },
    {
     "ename": "IndexError",
     "evalue": "list index out of range",
     "output_type": "error",
     "traceback": [
      "\u001b[1;31m---------------------------------------------------------------------------\u001b[0m",
      "\u001b[1;31mIndexError\u001b[0m                                Traceback (most recent call last)",
      "\u001b[1;32m<ipython-input-27-d920e0cc14a0>\u001b[0m in \u001b[0;36m<module>\u001b[1;34m\u001b[0m\n\u001b[0;32m      6\u001b[0m \u001b[0mB\u001b[0m \u001b[1;33m=\u001b[0m \u001b[1;33m[\u001b[0m\u001b[1;33m]\u001b[0m\u001b[1;33m\u001b[0m\u001b[1;33m\u001b[0m\u001b[0m\n\u001b[0;32m      7\u001b[0m \u001b[1;32mfor\u001b[0m \u001b[0mi\u001b[0m \u001b[1;32min\u001b[0m \u001b[0mA\u001b[0m\u001b[1;33m:\u001b[0m\u001b[1;33m\u001b[0m\u001b[1;33m\u001b[0m\u001b[0m\n\u001b[1;32m----> 8\u001b[1;33m     \u001b[0mx\u001b[0m \u001b[1;33m=\u001b[0m \u001b[0mA\u001b[0m\u001b[1;33m[\u001b[0m\u001b[0mi\u001b[0m\u001b[1;33m]\u001b[0m\u001b[1;33m%\u001b[0m\u001b[1;36m7\u001b[0m\u001b[1;33m\u001b[0m\u001b[1;33m\u001b[0m\u001b[0m\n\u001b[0m\u001b[0;32m      9\u001b[0m     \u001b[0mB\u001b[0m\u001b[1;33m.\u001b[0m\u001b[0mappend\u001b[0m\u001b[1;33m(\u001b[0m\u001b[0mx\u001b[0m\u001b[1;33m)\u001b[0m\u001b[1;33m\u001b[0m\u001b[1;33m\u001b[0m\u001b[0m\n\u001b[0;32m     10\u001b[0m \u001b[1;33m\u001b[0m\u001b[0m\n",
      "\u001b[1;31mIndexError\u001b[0m: list index out of range"
     ]
    }
   ],
   "source": [
    "n,p,q = map(int, input().split())\n",
    "\n",
    "#リストで格納\n",
    "A = list(map(int, input().split()))\n",
    "\n",
    "B = []\n",
    "for i in A: \n",
    "    x = A[i]%7\n",
    "    B.append(x)\n",
    "\n",
    "ans = 0 \n",
    "# 5個とるのでN-4までが最初の数として可能な範囲\n",
    "for i in range(n-4): \n",
    "    for j in range(i+1, n-3): \n",
    "        for k in range(j+1, n-2): \n",
    "            for l in range(k+1, n-1): \n",
    "                for m in range(l+1, n): \n",
    "                    if B[i]*B[j]*B[k]*B[k]*B[l]%p*B[m]%p == q:\n",
    "                        ans += 1\n",
    "                        \n",
    "print(ans)"
   ]
  },
  {
   "cell_type": "markdown",
   "id": "4485917d",
   "metadata": {},
   "source": [
    "先に7で割っちゃえばいいんじゃね？という天才的ひらめきを得たんだけどエラー吐くので順番に検証していく。"
   ]
  },
  {
   "cell_type": "code",
   "execution_count": 28,
   "id": "8b40450d",
   "metadata": {},
   "outputs": [
    {
     "name": "stdout",
     "output_type": "stream",
     "text": [
      "[20, 35, 6, 19, 48, 29, 19, 43, 50, 36]\n"
     ]
    }
   ],
   "source": [
    "import random\n",
    "\n",
    "temp= []\n",
    "\n",
    "for _ in range(10):\n",
    "    x = random.randint(1,50)\n",
    "    temp.append(x)\n",
    "    \n",
    "print(temp)"
   ]
  },
  {
   "cell_type": "markdown",
   "id": "ca13b456",
   "metadata": {},
   "source": [
    "とりあえずランダムに10個乱数を生成。\\\n",
    "これを７で割った余りでリストを作りなおしてみる。"
   ]
  },
  {
   "cell_type": "code",
   "execution_count": 36,
   "id": "010e8406",
   "metadata": {},
   "outputs": [
    {
     "ename": "IndexError",
     "evalue": "list index out of range",
     "output_type": "error",
     "traceback": [
      "\u001b[1;31m---------------------------------------------------------------------------\u001b[0m",
      "\u001b[1;31mIndexError\u001b[0m                                Traceback (most recent call last)",
      "\u001b[1;32m<ipython-input-36-55cb9bcefa56>\u001b[0m in \u001b[0;36m<module>\u001b[1;34m\u001b[0m\n\u001b[0;32m      1\u001b[0m \u001b[0mtemp2\u001b[0m \u001b[1;33m=\u001b[0m \u001b[1;33m[\u001b[0m\u001b[1;33m]\u001b[0m\u001b[1;33m\u001b[0m\u001b[1;33m\u001b[0m\u001b[0m\n\u001b[0;32m      2\u001b[0m \u001b[1;32mfor\u001b[0m \u001b[0mi\u001b[0m \u001b[1;32min\u001b[0m \u001b[0mtemp\u001b[0m\u001b[1;33m:\u001b[0m\u001b[1;33m\u001b[0m\u001b[1;33m\u001b[0m\u001b[0m\n\u001b[1;32m----> 3\u001b[1;33m     \u001b[0mx\u001b[0m \u001b[1;33m=\u001b[0m \u001b[0mtemp\u001b[0m\u001b[1;33m[\u001b[0m\u001b[0mi\u001b[0m\u001b[1;33m-\u001b[0m\u001b[1;36m1\u001b[0m\u001b[1;33m]\u001b[0m\u001b[1;33m%\u001b[0m\u001b[1;36m7\u001b[0m\u001b[1;33m\u001b[0m\u001b[1;33m\u001b[0m\u001b[0m\n\u001b[0m\u001b[0;32m      4\u001b[0m     \u001b[0mtemp2\u001b[0m\u001b[1;33m.\u001b[0m\u001b[0mappend\u001b[0m\u001b[1;33m(\u001b[0m\u001b[0mx\u001b[0m\u001b[1;33m)\u001b[0m\u001b[1;33m\u001b[0m\u001b[1;33m\u001b[0m\u001b[0m\n\u001b[0;32m      5\u001b[0m \u001b[1;33m\u001b[0m\u001b[0m\n",
      "\u001b[1;31mIndexError\u001b[0m: list index out of range"
     ]
    }
   ],
   "source": [
    "temp2 = []\n",
    "for i in temp:\n",
    "    x = temp[i]%7\n",
    "    temp2.append(x)\n",
    "\n",
    "print(temp2)"
   ]
  },
  {
   "cell_type": "markdown",
   "id": "f31e773a",
   "metadata": {},
   "source": [
    "いいね、同じエラーが出てきた。ここ直せばACわんちゃんあるな。こんな実装の前の前段階でエラー吐いてたのかと悲しくなるけど。\n",
    "\n",
    "The error “list index out of range” arises if you access invalid indices in your Python list. For example, if you try to access the list element with index 100 but your lists consist only of three elements, Python will throw an IndexError telling you that the list index is out of range.\n",
    "\n",
    "でもない要素にアクセスするようなとこある？よく解らぬ。"
   ]
  }
 ],
 "metadata": {
  "kernelspec": {
   "display_name": "Python 3",
   "language": "python",
   "name": "python3"
  },
  "language_info": {
   "codemirror_mode": {
    "name": "ipython",
    "version": 3
   },
   "file_extension": ".py",
   "mimetype": "text/x-python",
   "name": "python",
   "nbconvert_exporter": "python",
   "pygments_lexer": "ipython3",
   "version": "3.8.8"
  },
  "toc": {
   "base_numbering": 1,
   "nav_menu": {},
   "number_sections": true,
   "sideBar": true,
   "skip_h1_title": false,
   "title_cell": "Table of Contents",
   "title_sidebar": "Contents",
   "toc_cell": false,
   "toc_position": {
    "height": "calc(100% - 180px)",
    "left": "10px",
    "top": "150px",
    "width": "256px"
   },
   "toc_section_display": true,
   "toc_window_display": false
  }
 },
 "nbformat": 4,
 "nbformat_minor": 5
}
