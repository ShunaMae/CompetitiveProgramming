{
 "cells": [
  {
   "cell_type": "markdown",
   "id": "132dd037",
   "metadata": {},
   "source": [
    "# Binary search "
   ]
  },
  {
   "cell_type": "code",
   "execution_count": 1,
   "id": "c3f41031",
   "metadata": {},
   "outputs": [
    {
     "name": "stdout",
     "output_type": "stream",
     "text": [
      "[1, 2, 3, 4, 5, 6, 7, 8, 9, 10, 11, 12, 13, 14, 15, 16, 17, 18, 19, 20, 21, 22, 23, 24, 25, 26, 27, 28, 29, 30, 31, 32, 33, 34, 35, 36, 37, 38, 39, 40, 41, 42, 43, 44, 45, 46, 47, 48, 49, 50, 51, 52, 53, 54, 55, 56, 57, 58, 59, 60, 61, 62, 63, 64, 65, 66, 67, 68, 69, 70, 71, 72, 73, 74, 75, 76, 77, 78, 79, 80, 81, 82, 83, 84, 85, 86, 87, 88, 89, 90, 91, 92, 93, 94, 95, 96, 97, 98, 99, 100]\n"
     ]
    }
   ],
   "source": [
    "import bisect \n",
    "\n",
    "a = [i for i in range(1,101)]\n",
    "print(a)"
   ]
  },
  {
   "cell_type": "code",
   "execution_count": 2,
   "id": "3fad472b",
   "metadata": {},
   "outputs": [
    {
     "data": {
      "text/plain": [
       "3"
      ]
     },
     "execution_count": 2,
     "metadata": {},
     "output_type": "execute_result"
    }
   ],
   "source": [
    "bisect.bisect(a,3)"
   ]
  },
  {
   "cell_type": "code",
   "execution_count": 3,
   "id": "9952913b",
   "metadata": {},
   "outputs": [
    {
     "data": {
      "text/plain": [
       "2"
      ]
     },
     "execution_count": 3,
     "metadata": {},
     "output_type": "execute_result"
    }
   ],
   "source": [
    "bisect.bisect_left(a,3)"
   ]
  },
  {
   "cell_type": "code",
   "execution_count": 4,
   "id": "7f52effe",
   "metadata": {},
   "outputs": [
    {
     "data": {
      "text/plain": [
       "3"
      ]
     },
     "execution_count": 4,
     "metadata": {},
     "output_type": "execute_result"
    }
   ],
   "source": [
    "bisect.bisect_right(a,3)"
   ]
  },
  {
   "cell_type": "markdown",
   "id": "aa4becd5",
   "metadata": {},
   "source": [
    "insort関数を使うことによってbisect関数の動作に加えてリストへの挿入も行うことができる。insort_leftとinsort_rightも通常と同様に動作する。通常のinsort関数はinsort_rightと同じ動作をする。"
   ]
  },
  {
   "cell_type": "code",
   "execution_count": 5,
   "id": "f09f599b",
   "metadata": {},
   "outputs": [
    {
     "name": "stdout",
     "output_type": "stream",
     "text": [
      "[1, 3, 5, 7, 9]\n"
     ]
    }
   ],
   "source": [
    "b = [i for i in range(1,11,2)]\n",
    "print(b)"
   ]
  },
  {
   "cell_type": "markdown",
   "id": "b0984550",
   "metadata": {},
   "source": [
    "破壊関数なのでなんかいも実行するとどんどん中身が増えていくことに注意。"
   ]
  },
  {
   "cell_type": "code",
   "execution_count": 6,
   "id": "2c145b98",
   "metadata": {},
   "outputs": [
    {
     "name": "stdout",
     "output_type": "stream",
     "text": [
      "[1, 3, 4, 5, 7, 9]\n"
     ]
    }
   ],
   "source": [
    "bisect.insort(b,4)\n",
    "print(b)"
   ]
  }
 ],
 "metadata": {
  "kernelspec": {
   "display_name": "Python 3",
   "language": "python",
   "name": "python3"
  },
  "language_info": {
   "codemirror_mode": {
    "name": "ipython",
    "version": 3
   },
   "file_extension": ".py",
   "mimetype": "text/x-python",
   "name": "python",
   "nbconvert_exporter": "python",
   "pygments_lexer": "ipython3",
   "version": "3.8.8"
  },
  "toc": {
   "base_numbering": 1,
   "nav_menu": {},
   "number_sections": true,
   "sideBar": true,
   "skip_h1_title": false,
   "title_cell": "Table of Contents",
   "title_sidebar": "Contents",
   "toc_cell": false,
   "toc_position": {},
   "toc_section_display": true,
   "toc_window_display": false
  }
 },
 "nbformat": 4,
 "nbformat_minor": 5
}
