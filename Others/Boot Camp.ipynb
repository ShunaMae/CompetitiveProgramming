{
 "cells": [
  {
   "cell_type": "markdown",
   "id": "a2bb1c42",
   "metadata": {},
   "source": [
    "# Power Socket "
   ]
  },
  {
   "cell_type": "code",
   "execution_count": 3,
   "id": "1186ecdf",
   "metadata": {},
   "outputs": [
    {
     "name": "stdout",
     "output_type": "stream",
     "text": [
      "8 8 \n",
      "1\n"
     ]
    }
   ],
   "source": [
    "def solve():\n",
    "    a,b = map(int, input().split())\n",
    "    ans = 0\n",
    "    for x in range(20):\n",
    "        if a*x - x + 1 < b:\n",
    "            ans += 1\n",
    "        else:\n",
    "            break \n",
    "    return ans \n",
    "\n",
    "print(solve())"
   ]
  },
  {
   "cell_type": "markdown",
   "id": "15a46410",
   "metadata": {},
   "source": [
    "# Rally"
   ]
  },
  {
   "cell_type": "code",
   "execution_count": 22,
   "id": "c4b8d2c1",
   "metadata": {},
   "outputs": [
    {
     "name": "stdout",
     "output_type": "stream",
     "text": [
      "2\n",
      "1 4\n",
      "5\n"
     ]
    }
   ],
   "source": [
    "def solve():\n",
    "    n = int(input())\n",
    "    N = list(map(int, input().split()))\n",
    "    \n",
    "    N = sorted(N, reverse = False)\n",
    "    \n",
    "    from statistics import mean\n",
    "    from math import floor, ceil\n",
    "    \n",
    "    ans = 0\n",
    "    tmp = 0\n",
    "    \n",
    "    ideal_1 = floor(mean(N))\n",
    "    ideal_2 = ceil(mean(N))\n",
    "    for i in range(n):\n",
    "        ans += (N[i] - ideal_1)**2\n",
    "    \n",
    "    for i in range(n):\n",
    "        tmp += (N[i] - ideal_2)**2\n",
    "    ans = min(ans, tmp)\n",
    "        \n",
    "    return ans \n",
    "\n",
    "print(solve())\n",
    "        \n",
    "        "
   ]
  },
  {
   "cell_type": "markdown",
   "id": "e7f3d645",
   "metadata": {},
   "source": [
    "# Qualification simulator "
   ]
  },
  {
   "cell_type": "code",
   "execution_count": 43,
   "id": "1bab1606",
   "metadata": {},
   "outputs": [
    {
     "name": "stdout",
     "output_type": "stream",
     "text": [
      "12 5 2\n",
      "cabbabaacaba\n",
      "No\n",
      "Yes\n",
      "Yes\n",
      "Yes\n",
      "Yes\n",
      "No\n",
      "Yes\n",
      "Yes\n",
      "No\n",
      "Yes\n",
      "No\n",
      "No\n"
     ]
    }
   ],
   "source": [
    "\n",
    "n,a,b = map(int, input().split())\n",
    "s = list(input())\n",
    "    \n",
    "count_all = 0\n",
    "count_b = 0\n",
    "    \n",
    "for i in range(n):\n",
    "    if s[i] == 'c':\n",
    "        print(\"No\")\n",
    "    elif s[i] == 'a':\n",
    "        if count_all < (a+b):\n",
    "            count_all += 1\n",
    "            print(\"Yes\")\n",
    "        else:print('No')\n",
    "    else:\n",
    "        if count_all < (a+b) and count_b < b:\n",
    "            count_all += 1\n",
    "            count_b += 1\n",
    "            print('Yes')\n",
    "        else:\n",
    "            print('No')\n",
    "            \n",
    "        "
   ]
  },
  {
   "cell_type": "markdown",
   "id": "dbab4e9b",
   "metadata": {},
   "source": [
    "# Tax Rate"
   ]
  },
  {
   "cell_type": "code",
   "execution_count": 49,
   "id": "eac4de3a",
   "metadata": {},
   "outputs": [
    {
     "name": "stdout",
     "output_type": "stream",
     "text": [
      "432\n",
      "400\n"
     ]
    }
   ],
   "source": [
    "def solve():\n",
    "    n = int(input())\n",
    "    \n",
    "    from math import floor\n",
    "    x = n // 1.08\n",
    "    if floor(x * 1.08) == n:\n",
    "        ans = int(x)\n",
    "    elif floor((x+1)*1.08) == n:\n",
    "        ans = int(x+1)\n",
    "    elif floor((x-1)*1.08) == n:\n",
    "        ans = int(x-1)\n",
    "    else:\n",
    "        ans = ':('\n",
    "    return ans\n",
    "\n",
    "print(solve())"
   ]
  },
  {
   "cell_type": "markdown",
   "id": "40074db5",
   "metadata": {},
   "source": [
    "# Can you solve this?"
   ]
  },
  {
   "cell_type": "code",
   "execution_count": 55,
   "id": "1da35841",
   "metadata": {},
   "outputs": [
    {
     "name": "stdout",
     "output_type": "stream",
     "text": [
      "3 3 0\n",
      "100 -100 0\n",
      "0 100 100\n",
      "100 100 100\n",
      "-100 100 100\n",
      "0\n"
     ]
    }
   ],
   "source": [
    "def solve():\n",
    "    n,m,c = map(int, input().split())\n",
    "    B = list(map(int, input().split()))\n",
    "    \n",
    "    ans = 0\n",
    "    \n",
    "    for i in range(n):\n",
    "        A = list(map(int, input().split()))\n",
    "        A_sum = 0\n",
    "        for j in range(m):\n",
    "            A_sum += A[j] * B[j]\n",
    "        A_sum += c\n",
    "        if A_sum > 0:\n",
    "            ans += 1\n",
    "    \n",
    "    return ans \n",
    "\n",
    "print(solve())\n",
    "            "
   ]
  },
  {
   "cell_type": "markdown",
   "id": "a0500ff2",
   "metadata": {},
   "source": [
    "# Bishop"
   ]
  },
  {
   "cell_type": "code",
   "execution_count": 63,
   "id": "af5c5596",
   "metadata": {},
   "outputs": [
    {
     "name": "stdout",
     "output_type": "stream",
     "text": [
      "4 5\n",
      "10\n"
     ]
    }
   ],
   "source": [
    "def solve():\n",
    "    h, w = map(int, input().split())\n",
    "    from math import ceil \n",
    "    \n",
    "    if h == 1 or w == 1:\n",
    "        ans = 1\n",
    "    else:\n",
    "        ans = ceil(h * w * (1/2))\n",
    "    \n",
    "    return ans\n",
    "\n",
    "print(solve())"
   ]
  },
  {
   "cell_type": "markdown",
   "id": "f4721fe5",
   "metadata": {},
   "source": [
    "# Bingo "
   ]
  },
  {
   "cell_type": "code",
   "execution_count": 232,
   "id": "169b9ae4",
   "metadata": {},
   "outputs": [
    {
     "name": "stdout",
     "output_type": "stream",
     "text": [
      "1 2 3\n",
      "4 5 6\n",
      "7 8 9\n",
      "7\n",
      "1\n",
      "2\n",
      "3\n",
      "4\n",
      "5\n",
      "6\n",
      "7\n",
      "Yes\n"
     ]
    }
   ],
   "source": [
    "def solve():\n",
    "    A = [list(map(int, input().split())) for _ in range(3)]\n",
    "    n = int(input())\n",
    "    B = [int(input()) for _ in range(n)]\n",
    "    \n",
    "    ans = \"No\"\n",
    "    \n",
    "    for i in range(3):\n",
    "        for j in range(3):\n",
    "            if A[i][j] in B:\n",
    "                A[i][j] = 0\n",
    "    L = []           \n",
    "    for i in range(3):\n",
    "        L.append(A[0][0] + A[0][1] + A[0][2])\n",
    "        L.append(A[1][0] + A[1][1] + A[1][2])\n",
    "        L.append(A[2][0] + A[2][1] + A[2][2])\n",
    "        L.append(A[0][0] + A[1][0] + A[2][0])\n",
    "        L.append(A[0][1] + A[1][1] + A[2][1])\n",
    "        L.append(A[0][2] + A[1][2] + A[2][2])\n",
    "        L.append(A[0][0] + A[1][1] + A[2][2])\n",
    "        L.append(A[0][2] + A[1][1] + A[2][0])\n",
    "    \n",
    "    if 0 in L:\n",
    "        ans = \"Yes\" \n",
    "    \n",
    "    return ans \n",
    "\n",
    "print(solve())\n",
    "    \n",
    "    "
   ]
  },
  {
   "cell_type": "markdown",
   "id": "2e0eef0f",
   "metadata": {},
   "source": [
    "# 1 21"
   ]
  },
  {
   "cell_type": "code",
   "execution_count": 72,
   "id": "43e898f4",
   "metadata": {},
   "outputs": [
    {
     "name": "stdout",
     "output_type": "stream",
     "text": [
      "1 21\n",
      "Yes\n"
     ]
    }
   ],
   "source": [
    "def solve():\n",
    "    a,b = map(str, input().split())\n",
    "    comb = a + b\n",
    "    comb = int(comb)\n",
    "    \n",
    "    ans = \"No\"\n",
    "    \n",
    "    Sq = []\n",
    "    for i in range(1000):\n",
    "        Sq.append(i**2)\n",
    "        \n",
    "    if comb in Sq:\n",
    "        ans = \"Yes\"\n",
    "        \n",
    "    return ans \n",
    "\n",
    "print(solve())"
   ]
  },
  {
   "cell_type": "markdown",
   "id": "82338f1f",
   "metadata": {},
   "source": [
    "# Collecting Balls (Easy Version)"
   ]
  },
  {
   "cell_type": "code",
   "execution_count": 76,
   "id": "a419af70",
   "metadata": {},
   "outputs": [
    {
     "name": "stdout",
     "output_type": "stream",
     "text": [
      "5\n",
      "20\n",
      "11 12 9 17 12\n",
      "74\n"
     ]
    }
   ],
   "source": [
    "def solve():\n",
    "    n = int(input())\n",
    "    k = int(input())\n",
    "    x = list(map(int, input().split()))\n",
    "    \n",
    "    distance = 0\n",
    "    \n",
    "    for i in range(n):\n",
    "        distance += 2 * (min(x[i], k - x[i]))\n",
    "    \n",
    "    return distance \n",
    "\n",
    "print(solve())"
   ]
  },
  {
   "cell_type": "markdown",
   "id": "41df4088",
   "metadata": {},
   "source": [
    "# Break Number "
   ]
  },
  {
   "cell_type": "code",
   "execution_count": 90,
   "id": "af070a3a",
   "metadata": {},
   "outputs": [
    {
     "name": "stdout",
     "output_type": "stream",
     "text": [
      "7\n",
      "4\n"
     ]
    }
   ],
   "source": [
    "def solve():\n",
    "    n = int(input())\n",
    "    \n",
    "    L = []\n",
    "    for i in range(7):\n",
    "        L.append(2**i)\n",
    "    \n",
    "    L.sort(reverse = True)\n",
    "\n",
    "    for i in L:\n",
    "        if n < i:\n",
    "            continue\n",
    "        if n == i:\n",
    "            ans = i\n",
    "            break\n",
    "        else:\n",
    "            ans = i\n",
    "            break\n",
    "    return ans\n",
    "\n",
    "print(solve())\n",
    "        \n",
    "        "
   ]
  },
  {
   "cell_type": "markdown",
   "id": "c77d010c",
   "metadata": {},
   "source": [
    "# Traveling Salesman around Lake"
   ]
  },
  {
   "cell_type": "code",
   "execution_count": 97,
   "id": "8ce83b2c",
   "metadata": {},
   "outputs": [
    {
     "name": "stdout",
     "output_type": "stream",
     "text": [
      "20 3\n",
      "5 10 15\n",
      "[5, 5, 10]\n",
      "10\n"
     ]
    }
   ],
   "source": [
    "def solve():\n",
    "    k,n = map(int, input().split())\n",
    "    A = list(map(int, input().split()))\n",
    "    \n",
    "    distance = []\n",
    "    for i in range(n):\n",
    "        if i == 0:\n",
    "            distance.append(A[i])\n",
    "        elif i == (n-1):\n",
    "            distance.append(max((A[i] - A[i-1]), (k-A[n-1] + A[0])))\n",
    "        else:\n",
    "            distance.append(A[i] - A[i-1])\n",
    "            \n",
    "    ans = k - max(distance)\n",
    "    \n",
    "    return ans \n",
    "\n",
    "print(solve())\n",
    "    "
   ]
  },
  {
   "cell_type": "markdown",
   "id": "40a73d7b",
   "metadata": {},
   "source": [
    "# Cookie Exchanges "
   ]
  },
  {
   "cell_type": "code",
   "execution_count": 107,
   "id": "42160878",
   "metadata": {},
   "outputs": [
    {
     "name": "stdout",
     "output_type": "stream",
     "text": [
      "4 12 20\n",
      "3\n"
     ]
    }
   ],
   "source": [
    "def solve():\n",
    "    a,b,c = map(int, input().split())\n",
    "    \n",
    "    ans = 0\n",
    "    if a % 2 == 0 and a == b == c:\n",
    "        ans = -1\n",
    "    else:\n",
    "        while True:\n",
    "            if a%2 != 0 or b%2 != 0 or c%2 != 0:\n",
    "                break \n",
    "            else:\n",
    "                a,b,c = (b+c)/2, (a+c)/2, (a+b)/2\n",
    "                ans += 1\n",
    "    \n",
    "    return ans \n",
    "\n",
    "print(solve())\n",
    "                "
   ]
  },
  {
   "cell_type": "markdown",
   "id": "e2045fdd",
   "metadata": {},
   "source": [
    "# Replacing Integer "
   ]
  },
  {
   "cell_type": "code",
   "execution_count": 108,
   "id": "ca5bc130",
   "metadata": {},
   "outputs": [
    {
     "name": "stdout",
     "output_type": "stream",
     "text": [
      "7 4\n",
      "1\n"
     ]
    }
   ],
   "source": [
    "def solve():\n",
    "    n,k = map(int, input().split())\n",
    "    \n",
    "    ans = min(n%k, k - n%k)\n",
    "    \n",
    "    return ans\n",
    "\n",
    "print(solve())"
   ]
  },
  {
   "cell_type": "markdown",
   "id": "0529569e",
   "metadata": {},
   "source": [
    "# Divide the problems "
   ]
  },
  {
   "cell_type": "code",
   "execution_count": 114,
   "id": "7c2ba652",
   "metadata": {},
   "outputs": [
    {
     "name": "stdout",
     "output_type": "stream",
     "text": [
      "14\n",
      "99592 10342 29105 78532 83018 11639 92015 77204 30914 21912 34519 80835 100000 1\n",
      "42685\n"
     ]
    }
   ],
   "source": [
    "def solve():\n",
    "    n = int(input())\n",
    "    d = list(map(int, input().split()))\n",
    "    \n",
    "    d.sort()\n",
    "    \n",
    "    x = d[int(n/2) - 1]\n",
    "    y = d[int(n/2)]\n",
    "    \n",
    "    if x == y:\n",
    "        ans = 0\n",
    "    else:\n",
    "        ans = y-x\n",
    "    return ans \n",
    "\n",
    "print(solve())"
   ]
  },
  {
   "cell_type": "markdown",
   "id": "8bfdb949",
   "metadata": {},
   "source": [
    "# Go to School"
   ]
  },
  {
   "cell_type": "code",
   "execution_count": 121,
   "id": "6f7f808f",
   "metadata": {},
   "outputs": [
    {
     "name": "stdout",
     "output_type": "stream",
     "text": [
      "3\n",
      "2 3 1\n",
      "3 1 2\n",
      "[[2, 1], [3, 2], [1, 3]]\n",
      "[[1, 3], [2, 1], [3, 2]]\n"
     ]
    }
   ],
   "source": [
    "n = int(input())\n",
    "A = list(map(int, input().split()))\n",
    "B = [i+1 for i in range(n)]\n",
    "\n",
    "L = [list(j) for j in zip(A,B)]\n",
    "\n",
    "from operator import itemgetter \n",
    "new_L = sorted(L, reverse = False, key = itemgetter(0))\n",
    "\n",
    "Ans = []\n",
    "for i in range(n):\n",
    "    Ans.append(new_L[i][1])\n",
    "    \n",
    "print(*Ans)\n",
    "    "
   ]
  },
  {
   "cell_type": "markdown",
   "id": "59adb45c",
   "metadata": {},
   "source": [
    "# Alchemist "
   ]
  },
  {
   "cell_type": "code",
   "execution_count": 132,
   "id": "6968beea",
   "metadata": {},
   "outputs": [
    {
     "name": "stdout",
     "output_type": "stream",
     "text": [
      "5\n",
      "500 300 200\n",
      "375.000000\n"
     ]
    }
   ],
   "source": [
    "def solve():\n",
    "    n = int(input())\n",
    "    v = list(map(int, input().split()))\n",
    "    \n",
    "    v.sort(reverse = True)\n",
    "    \n",
    "    while len(v) > 1:\n",
    "        x = len(v) - 1\n",
    "        v[x], v[x-1] = (v[x] + v[x-1])/2, (v[x] + v[x-1])/2\n",
    "        v = v[:x]\n",
    "    \n",
    "    ans = v[0]\n",
    "    \n",
    "    return print(f'{ans:8f}')\n",
    "    \n",
    "solve()\n",
    "        \n",
    "    "
   ]
  },
  {
   "cell_type": "markdown",
   "id": "67fb3f90",
   "metadata": {},
   "source": [
    "# ATCoder **\n",
    "\n",
    "https://img.atcoder.jp/abc122/editorial.pdf"
   ]
  },
  {
   "cell_type": "code",
   "execution_count": 136,
   "id": "7d0088e2",
   "metadata": {},
   "outputs": [
    {
     "name": "stdout",
     "output_type": "stream",
     "text": [
      "ATCODER\n",
      "3\n"
     ]
    }
   ],
   "source": [
    "def solve():\n",
    "    s = input()\n",
    "    n = len(s)\n",
    "    \n",
    "    ans = 0\n",
    "    \n",
    "    for i in range(n):\n",
    "        for j in range(i,n):\n",
    "            if all('AGCT'.count(c) for c in s[i:j+1]):\n",
    "                ans = max(ans, j-i+1)\n",
    "    return ans \n",
    "\n",
    "print(solve())\n",
    "    \n",
    "    \n",
    "    \n",
    "    "
   ]
  },
  {
   "cell_type": "markdown",
   "id": "39944776",
   "metadata": {},
   "source": [
    "# Toll Gates "
   ]
  },
  {
   "cell_type": "code",
   "execution_count": 139,
   "id": "2fd1af86",
   "metadata": {},
   "outputs": [
    {
     "name": "stdout",
     "output_type": "stream",
     "text": [
      "10 7 5\n",
      "1 2 3 4 6 8 9\n",
      "3\n"
     ]
    }
   ],
   "source": [
    "def solve():\n",
    "    n,m,x = map(int, input().split())\n",
    "    A = list(map(int, input().split()))\n",
    "    \n",
    "    A = A[:m-1]\n",
    "    \n",
    "    from bisect import bisect \n",
    "    \n",
    "    left = bisect(A,x)\n",
    "    ans = min(left, m-left)\n",
    "    \n",
    "    return ans \n",
    "\n",
    "print(solve())\n",
    "    "
   ]
  },
  {
   "cell_type": "markdown",
   "id": "2816d6b6",
   "metadata": {},
   "source": [
    "# Collatz Problem"
   ]
  },
  {
   "cell_type": "code",
   "execution_count": 150,
   "id": "dbfb6888",
   "metadata": {},
   "outputs": [
    {
     "name": "stdout",
     "output_type": "stream",
     "text": [
      "8\n",
      "5\n"
     ]
    }
   ],
   "source": [
    "def solve():\n",
    "    n = int(input())\n",
    "    \n",
    "    L = []\n",
    "    L.append(n)\n",
    "    \n",
    "    while True:\n",
    "        if n % 2 == 0:\n",
    "            n = n/2\n",
    "            L.append(n)\n",
    "        else:\n",
    "            n = 3*n + 1\n",
    "            L.append(n)\n",
    "            \n",
    "        new_L = list(set(L))\n",
    "        \n",
    "        \n",
    "        if len(L) != len(new_L):\n",
    "            ans = len(L) \n",
    "            break \n",
    "        \n",
    "    return ans \n",
    "\n",
    "print(solve())\n",
    "        \n",
    "        \n",
    "    "
   ]
  },
  {
   "cell_type": "markdown",
   "id": "692d3cc8",
   "metadata": {},
   "source": [
    "# Next Prime 素数判定"
   ]
  },
  {
   "cell_type": "code",
   "execution_count": 160,
   "id": "8a77c761",
   "metadata": {},
   "outputs": [
    {
     "name": "stdout",
     "output_type": "stream",
     "text": [
      "99992\n",
      "100003\n"
     ]
    }
   ],
   "source": [
    "def solve():\n",
    "    \n",
    "    from math import sqrt\n",
    "    x = int(input())\n",
    "    for i in range(100):\n",
    "        cnt = 0\n",
    "        for j in range(2,int(sqrt(x+i)+1)):\n",
    "            if (x+i) % j == 0:\n",
    "                cnt += 1\n",
    "        if cnt > 0:\n",
    "            continue \n",
    "        else:\n",
    "            ans = x + i\n",
    "            break \n",
    "    return ans \n",
    "\n",
    "print(solve())\n",
    "            \n",
    "        "
   ]
  },
  {
   "cell_type": "markdown",
   "id": "15125227",
   "metadata": {},
   "source": [
    "# Candy Distribution Again"
   ]
  },
  {
   "cell_type": "code",
   "execution_count": 182,
   "id": "2bb2ea39",
   "metadata": {
    "scrolled": true
   },
   "outputs": [
    {
     "name": "stdout",
     "output_type": "stream",
     "text": [
      "2 10\n",
      "20 20\n",
      "0\n"
     ]
    }
   ],
   "source": [
    "def solve():\n",
    "    n,x = map(int, input().split())\n",
    "    a = list(map(int, input().split()))\n",
    "    \n",
    "    a.sort()\n",
    "    \n",
    "    from bisect import bisect_right\n",
    "    from itertools import accumulate \n",
    "    \n",
    "    A = []\n",
    "    for i in accumulate(a):\n",
    "        A.append(i)\n",
    "    \n",
    "    ans = bisect_right(A,x)\n",
    "    \n",
    "    if n == ans:\n",
    "        if A[n-1] != x:\n",
    "            ans -= 1\n",
    "    \n",
    "           \n",
    "    return ans \n",
    "\n",
    "print(solve())"
   ]
  },
  {
   "cell_type": "markdown",
   "id": "784ac1b8",
   "metadata": {},
   "source": [
    "# Chocolate"
   ]
  },
  {
   "cell_type": "code",
   "execution_count": 191,
   "id": "df96bbea",
   "metadata": {},
   "outputs": [
    {
     "name": "stdout",
     "output_type": "stream",
     "text": [
      "5\n",
      "30 44\n",
      "26\n",
      "18\n",
      "81\n",
      "18\n",
      "6\n",
      "56\n"
     ]
    }
   ],
   "source": [
    "def solve():\n",
    "    n = int(input())\n",
    "    d,x = map(int, input().split())\n",
    "    A = []\n",
    "    for i in range(n):\n",
    "        k = int(input())\n",
    "        A.append(k)\n",
    "    \n",
    "    d -= 1\n",
    "    \n",
    "    from math import floor\n",
    "    \n",
    "    cnt = []\n",
    "    for i in range(n):\n",
    "        num = floor(d / A[i])\n",
    "        cnt.append(num)\n",
    "        \n",
    "    ans = n + sum(cnt) + x\n",
    "    \n",
    "    return ans\n",
    "\n",
    "print(solve()) "
   ]
  },
  {
   "cell_type": "markdown",
   "id": "bedb1d08",
   "metadata": {},
   "source": [
    "# Nice Shopping "
   ]
  },
  {
   "cell_type": "code",
   "execution_count": 198,
   "id": "ca6df024",
   "metadata": {},
   "outputs": [
    {
     "name": "stdout",
     "output_type": "stream",
     "text": [
      "2 2 1\n",
      "3 5\n",
      "3 5\n",
      "2 2 2\n",
      "6\n"
     ]
    }
   ],
   "source": [
    "def solve():\n",
    "    A,B,M = map(int, input().split())\n",
    "    a = list(map(int, input().split()))\n",
    "    b = list(map(int, input().split()))\n",
    "    \n",
    "    XYC = []\n",
    "    for i in range(M):\n",
    "        x,y,c = map(int, input().split())\n",
    "        XYC.append([x,y,c])\n",
    "    \n",
    "    price = 10000000\n",
    "    for i in range(M):\n",
    "        x = a[XYC[i][0]-1] + b[XYC[i][1]-1] - XYC[i][2]\n",
    "        price = min(price, x)\n",
    "    \n",
    "    no_discount = min(a) + min(b)\n",
    "    \n",
    "    price = min(price, no_discount)\n",
    "    \n",
    "    return price\n",
    "\n",
    "print(solve())\n",
    "        \n",
    "    "
   ]
  },
  {
   "cell_type": "markdown",
   "id": "40d4239c",
   "metadata": {},
   "source": [
    "# Count Order"
   ]
  },
  {
   "cell_type": "code",
   "execution_count": 209,
   "id": "7887b590",
   "metadata": {},
   "outputs": [
    {
     "name": "stdout",
     "output_type": "stream",
     "text": [
      "3\n",
      "1 2 3\n",
      "3 2 1\n",
      "5\n"
     ]
    }
   ],
   "source": [
    "def solve():\n",
    "    n = int(input())\n",
    "    p = tuple(map(int, input().split()))\n",
    "    q = tuple(map(int, input().split()))\n",
    "    \n",
    "    from itertools import permutations\n",
    "    from math import factorial \n",
    "    \n",
    "    L = list(permutations(range(1,n+1), n))\n",
    "    \n",
    "    a = L.index(p)\n",
    "    b = L.index(q)\n",
    "\n",
    "    ans = abs(a-b)\n",
    "    \n",
    "    return ans \n",
    "\n",
    "print(solve())\n",
    "    "
   ]
  },
  {
   "cell_type": "markdown",
   "id": "2418c603",
   "metadata": {},
   "source": [
    "# Caracal vs Monster *"
   ]
  },
  {
   "cell_type": "code",
   "execution_count": 212,
   "id": "74b3d0f7",
   "metadata": {},
   "outputs": [
    {
     "name": "stdout",
     "output_type": "stream",
     "text": [
      "1000000000000\n",
      "1099511627775\n"
     ]
    }
   ],
   "source": [
    "def solve():\n",
    "    h = int(input())\n",
    "    \n",
    "    from math import floor\n",
    "    \n",
    "    cnt = 0\n",
    "    while h > 1:\n",
    "        h = floor(h/2)\n",
    "        cnt += 1\n",
    "        \n",
    "    ans = 2 ** (cnt + 1) -1\n",
    "    \n",
    "    return ans \n",
    "\n",
    "print(solve())            "
   ]
  },
  {
   "cell_type": "markdown",
   "id": "016bbd68",
   "metadata": {},
   "source": [
    "# Count Balls "
   ]
  },
  {
   "cell_type": "code",
   "execution_count": 218,
   "id": "cc47181a",
   "metadata": {},
   "outputs": [
    {
     "name": "stdout",
     "output_type": "stream",
     "text": [
      "6 2 4\n",
      "2\n"
     ]
    }
   ],
   "source": [
    "def solve():\n",
    "    n,a,b = map(int, input().split())\n",
    "    \n",
    "    AB_sum = a + b\n",
    "    \n",
    "    tms = n // AB_sum\n",
    "    rem = n % AB_sum\n",
    "    \n",
    "    ans = tms * a\n",
    "    \n",
    "    if rem >= a:\n",
    "        ans += a\n",
    "    else:\n",
    "        ans += rem\n",
    "    \n",
    "    return ans \n",
    "\n",
    "print(solve())\n",
    "        \n",
    "    "
   ]
  },
  {
   "cell_type": "markdown",
   "id": "446456bf",
   "metadata": {},
   "source": [
    "# 754"
   ]
  },
  {
   "cell_type": "code",
   "execution_count": 231,
   "id": "5ca7a0c0",
   "metadata": {},
   "outputs": [
    {
     "name": "stdout",
     "output_type": "stream",
     "text": [
      "1111111111\n",
      "642\n"
     ]
    }
   ],
   "source": [
    "def solve():\n",
    "    s = input()\n",
    "    \n",
    "    L = []\n",
    "    for i in range(len(s) - 2):\n",
    "        L.append(int(s[i:i+3]))\n",
    "    \n",
    "    pos = 10**10\n",
    "    for i in L:\n",
    "        pos = min(pos, abs(753 - i))\n",
    "    \n",
    "    return pos \n",
    "\n",
    "print(solve())\n",
    "        \n",
    "        \n",
    "    "
   ]
  },
  {
   "cell_type": "markdown",
   "id": "9450eb7b",
   "metadata": {},
   "source": [
    "# Ruined Square "
   ]
  },
  {
   "cell_type": "code",
   "execution_count": 237,
   "id": "d857b00e",
   "metadata": {},
   "outputs": [
    {
     "name": "stdout",
     "output_type": "stream",
     "text": [
      "31 -41 -59 26\n",
      "-126 -64 -36 -131\n"
     ]
    }
   ],
   "source": [
    "x1, y1, x2, y2 = map(int, input().split())\n",
    "\n",
    "x_cambio = y1 - y2\n",
    "y_cambio = x2 - x1\n",
    "\n",
    "x3 = x2 + x_cambio\n",
    "y3 = y2 + y_cambio\n",
    "\n",
    "x4 = x1 + x_cambio\n",
    "y4 = y1 + y_cambio\n",
    "\n",
    "print(x3,y3,x4,y4)\n",
    "\n"
   ]
  },
  {
   "cell_type": "markdown",
   "id": "d1807899",
   "metadata": {},
   "source": [
    "# Varied "
   ]
  },
  {
   "cell_type": "code",
   "execution_count": 240,
   "id": "83451aff",
   "metadata": {},
   "outputs": [
    {
     "name": "stdout",
     "output_type": "stream",
     "text": [
      "no\n",
      "yes\n"
     ]
    }
   ],
   "source": [
    "def solve():\n",
    "    s = list(input())\n",
    "    \n",
    "    x = len(s)\n",
    "    y = len(list(set(s)))\n",
    "    \n",
    "    if x == y:\n",
    "        ans = \"yes\"\n",
    "    else:\n",
    "        ans = 'no'\n",
    "        \n",
    "    return ans \n",
    "\n",
    "print(solve())"
   ]
  },
  {
   "cell_type": "markdown",
   "id": "2c3533ed",
   "metadata": {},
   "source": [
    "# Increment Decrement "
   ]
  },
  {
   "cell_type": "code",
   "execution_count": 245,
   "id": "5ea5a6c5",
   "metadata": {},
   "outputs": [
    {
     "name": "stdout",
     "output_type": "stream",
     "text": [
      "7\n",
      "DDIDDII\n",
      "0\n"
     ]
    }
   ],
   "source": [
    "def solve():\n",
    "    n = int(input())\n",
    "    s = list(input())\n",
    "    x = 0\n",
    "    X = []\n",
    "    for i in range(n):\n",
    "        if s[i] == \"I\":\n",
    "            x += 1\n",
    "            X.append(x)\n",
    "        else:\n",
    "            x -= 1\n",
    "            X.append(x)\n",
    "\n",
    "    ans = max(0,max(X))\n",
    "    \n",
    "    return ans\n",
    "\n",
    "print(solve())\n",
    "            "
   ]
  },
  {
   "cell_type": "markdown",
   "id": "8c84f009",
   "metadata": {},
   "source": [
    "# Postal Code\n",
    "\n",
    "文字列が数字かどうか判定"
   ]
  },
  {
   "cell_type": "code",
   "execution_count": 252,
   "id": "7d1ce0be",
   "metadata": {},
   "outputs": [
    {
     "name": "stdout",
     "output_type": "stream",
     "text": [
      "1 2\n",
      "7444\n",
      "No\n"
     ]
    }
   ],
   "source": [
    "def solve():\n",
    "    a,b = map(int, input().split())\n",
    "    s = input().split('-')\n",
    "    \n",
    "    ans = 'No'\n",
    "    if len(s) == 2:\n",
    "        if s[0].isdigit() and s[1].isdigit():\n",
    "            if len(s[0]) == a and len(s[1]) == b:\n",
    "                ans = 'Yes'\n",
    "            else:\n",
    "                ans = 'No'\n",
    "        else:\n",
    "            ans = 'No'\n",
    "    return ans\n",
    "print(solve())   "
   ]
  },
  {
   "cell_type": "markdown",
   "id": "75752c0e",
   "metadata": {},
   "source": [
    "# Not Found\n"
   ]
  },
  {
   "cell_type": "code",
   "execution_count": 263,
   "id": "42f1940c",
   "metadata": {},
   "outputs": [
    {
     "name": "stdout",
     "output_type": "stream",
     "text": [
      "fajsonlslfepbjtsaayxbymeskptcumtwrmkkinjxnnucagfrg\n",
      "d\n"
     ]
    }
   ],
   "source": [
    "def solve():\n",
    "    s = list(input())\n",
    "    \n",
    "    S = []\n",
    "    for i in s:\n",
    "        S.append(ord(i))\n",
    "    \n",
    "    S.sort()\n",
    "    \n",
    "    letter = 0\n",
    "    for i in range(97,123):\n",
    "        if i not in S:\n",
    "            letter = i\n",
    "            break\n",
    "            \n",
    "    ans = False\n",
    "    if letter == 0:\n",
    "        ans = 'None'\n",
    "    else:\n",
    "        ans = chr(letter)\n",
    "        \n",
    "    return ans \n",
    "\n",
    "print(solve())\n",
    "    "
   ]
  },
  {
   "cell_type": "markdown",
   "id": "96039c39",
   "metadata": {},
   "source": [
    "# Prison "
   ]
  },
  {
   "cell_type": "code",
   "execution_count": 4,
   "id": "b934f24b",
   "metadata": {},
   "outputs": [
    {
     "name": "stdout",
     "output_type": "stream",
     "text": [
      "10 3\n",
      "3 6\n",
      "5 7\n",
      "6 9\n",
      "1\n"
     ]
    }
   ],
   "source": [
    "def solve():\n",
    "    n,m = map(int, input().split())\n",
    "    \n",
    "    L = []\n",
    "    M = []\n",
    "    \n",
    "    for i in range(m):\n",
    "        l,m = map(int, input().split())\n",
    "        L.append(l)\n",
    "        M.append(m)\n",
    "    \n",
    "    start = max(L)\n",
    "    end = min(M)\n",
    "    \n",
    "    ans = end - start \n",
    "    \n",
    "    if ans < 0:\n",
    "        ans = 0\n",
    "    else:\n",
    "        ans += 1\n",
    "    \n",
    "    return ans \n",
    "\n",
    "print(solve())"
   ]
  },
  {
   "cell_type": "markdown",
   "id": "4262edd6",
   "metadata": {},
   "source": [
    "# Attack Survival "
   ]
  },
  {
   "cell_type": "code",
   "execution_count": 8,
   "id": "0e89ff19",
   "metadata": {},
   "outputs": [
    {
     "name": "stdout",
     "output_type": "stream",
     "text": [
      "6 5 4\n",
      "3\n",
      "1\n",
      "3\n",
      "2\n",
      "Yes\n",
      "Yes\n",
      "Yes\n",
      "Yes\n",
      "Yes\n",
      "Yes\n"
     ]
    }
   ],
   "source": [
    "n,k,q = map(int, input().split())\n",
    "A = [int(input()) for _ in range(q)]\n",
    "\n",
    "score = k - q\n",
    "everyone = [score for _ in range(n)]\n",
    "\n",
    "for i in range(q):\n",
    "    everyone[A[i]-1] += 1\n",
    "    \n",
    "for participant in everyone:\n",
    "    if participant > 0:\n",
    "        print(\"Yes\")\n",
    "    else:\n",
    "        print(\"No\")\n",
    "\n",
    "\n",
    "\n"
   ]
  },
  {
   "cell_type": "markdown",
   "id": "c664639f",
   "metadata": {},
   "source": [
    "# Five dishes "
   ]
  },
  {
   "cell_type": "code",
   "execution_count": 15,
   "id": "dd74de83",
   "metadata": {},
   "outputs": [
    {
     "name": "stdout",
     "output_type": "stream",
     "text": [
      "101\n",
      "86\n",
      "119\n",
      "108\n",
      "57\n",
      "481\n"
     ]
    }
   ],
   "source": [
    "def solve():\n",
    "    A = float(input()) / 10\n",
    "    B = float(input()) / 10\n",
    "    C = float(input()) / 10\n",
    "    D = float(input()) / 10\n",
    "    E = float(input()) / 10\n",
    "    \n",
    "    from itertools import permutations \n",
    "    from math import ceil \n",
    "    \n",
    "    L = list(permutations([A,B,C,D,E]))\n",
    "    Times = []\n",
    "    \n",
    "    new_L = []\n",
    "    for t in L:\n",
    "        new_L.append(list(t))  \n",
    "    \n",
    "    for i in new_L:\n",
    "        times = []\n",
    "        for j in range(5):\n",
    "            if j == 4:\n",
    "                times.append(i[j])\n",
    "            else:\n",
    "                i[j] = ceil(i[j])\n",
    "                times.append(i[j])\n",
    "        Times.append(sum(times))\n",
    "    \n",
    "    ans = int(min(Times) * 10)\n",
    "    \n",
    "    return ans\n",
    "\n",
    "print(solve())\n",
    "        \n",
    "        "
   ]
  },
  {
   "cell_type": "markdown",
   "id": "c394c025",
   "metadata": {},
   "source": [
    "# Exception Handling \n",
    "\n",
    "リストの中の指定された文字のインデックスを取得。\n",
    "\n",
    "今回は最大値。"
   ]
  },
  {
   "cell_type": "code",
   "execution_count": 20,
   "id": "8a517854",
   "metadata": {},
   "outputs": [
    {
     "name": "stdout",
     "output_type": "stream",
     "text": [
      "2\n",
      "5\n",
      "5\n",
      "5\n",
      "5\n"
     ]
    }
   ],
   "source": [
    "n = int(input())\n",
    "A = [int(input()) for _ in range(n)]\n",
    "\n",
    "tmp = max(A)\n",
    "tmp_index = A.index(tmp)\n",
    "\n",
    "for i in range(n):\n",
    "    if i == tmp_index:\n",
    "        if i == 0:\n",
    "            x = max(A[1:])\n",
    "            print(x)\n",
    "        elif i == n-1:\n",
    "            x = max(A[:n-1])\n",
    "            print(x)\n",
    "        else:\n",
    "            x = max(max(A[:i]), max(A[i+1:]))\n",
    "            print(x)\n",
    "    else:\n",
    "        print(tmp)\n",
    "        "
   ]
  },
  {
   "cell_type": "markdown",
   "id": "cda76ee6",
   "metadata": {},
   "source": [
    "# Range Product "
   ]
  },
  {
   "cell_type": "code",
   "execution_count": 34,
   "id": "97c27ed6",
   "metadata": {},
   "outputs": [
    {
     "name": "stdout",
     "output_type": "stream",
     "text": [
      "-1 0\n",
      "Zero\n"
     ]
    }
   ],
   "source": [
    "def solve():\n",
    "    a,b = map(int, input().split())\n",
    "    \n",
    "    ans = 0\n",
    "    if a <= 0 <= b:\n",
    "        ans = 'Zero'\n",
    "    elif b < 0:\n",
    "        if (b - a + 1) % 2 == 0:\n",
    "            ans = 'Positive'\n",
    "        else:\n",
    "            ans = 'Negative'\n",
    "    else:\n",
    "        ans = 'Positive'\n",
    "    \n",
    "    return ans \n",
    "\n",
    "print(solve())\n",
    "            "
   ]
  },
  {
   "cell_type": "markdown",
   "id": "1154b9a3",
   "metadata": {},
   "source": [
    "# Low elements "
   ]
  },
  {
   "cell_type": "code",
   "execution_count": 4,
   "id": "8210aa8d",
   "metadata": {},
   "outputs": [
    {
     "name": "stdout",
     "output_type": "stream",
     "text": [
      "4\n",
      "4 3 2 1\n",
      "4\n"
     ]
    }
   ],
   "source": [
    "def solve():\n",
    "    n = int(input())\n",
    "    p = list(map(int, input().split()))\n",
    "    \n",
    "    minimum = p[0]\n",
    "    ans = 0\n",
    "    \n",
    "    for i in range(n):\n",
    "        if minimum >= p[i]:\n",
    "            ans += 1\n",
    "        minimum = min(minimum, p[i])\n",
    "    \n",
    "    return ans \n",
    "\n",
    "print(solve())\n",
    "            \n",
    "    \n",
    "    \n",
    "    "
   ]
  },
  {
   "cell_type": "markdown",
   "id": "1ae5f7da",
   "metadata": {},
   "source": [
    "# Food Loved by Everyone \n",
    "\n",
    "複数のリストに共通する要素\n",
    "\n",
    "https://note.nkmk.me/python-list-common/"
   ]
  },
  {
   "cell_type": "code",
   "execution_count": 8,
   "id": "e2ab1e64",
   "metadata": {},
   "outputs": [
    {
     "name": "stdout",
     "output_type": "stream",
     "text": [
      "1 30\n",
      "3 5 10 30\n",
      "3\n"
     ]
    }
   ],
   "source": [
    "def solve():\n",
    "    n,m = map(int, input().split())\n",
    "    \n",
    "    List = []\n",
    "    for _ in range(n):\n",
    "        l = list(map(int, input().split()))\n",
    "        List.append(l[1:])\n",
    "    \n",
    "    common = List[0]\n",
    "    for i in range(n):\n",
    "        common = set(List[i]) & set(common)\n",
    "    \n",
    "    return len(common)\n",
    "\n",
    "print(solve())\n",
    "        \n",
    "        "
   ]
  },
  {
   "cell_type": "markdown",
   "id": "6493a768",
   "metadata": {},
   "source": [
    "# Beautiful Strings "
   ]
  },
  {
   "cell_type": "code",
   "execution_count": 11,
   "id": "1ce6325a",
   "metadata": {},
   "outputs": [
    {
     "name": "stdout",
     "output_type": "stream",
     "text": [
      "hthth\n",
      "No\n"
     ]
    }
   ],
   "source": [
    "def solve():\n",
    "    w = list(input())\n",
    "    \n",
    "    set_w = set(w)\n",
    "    \n",
    "    L = []\n",
    "    for i in set_w:\n",
    "        x = w.count(i)\n",
    "        L.append(x)\n",
    "    \n",
    "    ans = 'Yes'\n",
    "    \n",
    "    for j in L:\n",
    "        if j % 2 != 0:\n",
    "            ans = 'No'\n",
    "    \n",
    "    return ans\n",
    "\n",
    "print(solve())\n",
    "        "
   ]
  },
  {
   "cell_type": "markdown",
   "id": "0da8118b",
   "metadata": {},
   "source": [
    "# Colouring Colourfully"
   ]
  },
  {
   "cell_type": "code",
   "execution_count": 22,
   "id": "0006de1b",
   "metadata": {},
   "outputs": [
    {
     "name": "stdout",
     "output_type": "stream",
     "text": [
      "10010010\n",
      "3\n"
     ]
    }
   ],
   "source": [
    "def solve():\n",
    "    s = list(input())\n",
    "    \n",
    "    s_first = []\n",
    "    s_second = []\n",
    "    \n",
    "    for i in range(len(s)):\n",
    "        if i % 2 == 0:\n",
    "            s_first.append(s[i])\n",
    "        else:\n",
    "            s_second.append(s[i])\n",
    "            \n",
    "    s_first_0 = 0\n",
    "    s_first_one = 0\n",
    "    \n",
    "    s_second_0 = 0\n",
    "    s_second_one = 0\n",
    "    \n",
    "    for i in s_first:\n",
    "        if i == '0':\n",
    "            s_first_0 += 1\n",
    "        else:\n",
    "            s_first_one += 1\n",
    "    \n",
    "    for j in s_second:\n",
    "        if j == '0':\n",
    "            s_second_0 += 1\n",
    "        else:\n",
    "            s_second_one += 1\n",
    "    \n",
    "    zero = s_first_0 + s_second_one\n",
    "    one = s_first_one + s_second_0\n",
    "    \n",
    "    ans = min(zero, one)\n",
    "    \n",
    "    return ans\n",
    "\n",
    "print(solve())"
   ]
  },
  {
   "cell_type": "markdown",
   "id": "e27e86cd",
   "metadata": {},
   "source": [
    "# Palindromic Numbers \n",
    "\n",
    "リストの順番を変更する\n",
    "\n",
    "https://note.nkmk.me/python-reverse-reversed/#:~:text=Python%E3%81%A7%E3%83%AA%E3%82%B9%E3%83%88%E3%81%AE%E8%A6%81%E7%B4%A0,()%20%E3%81%8B%E3%82%B9%E3%83%A9%E3%82%A4%E3%82%B9%E3%82%92%E4%BD%BF%E3%81%86%E3%80%82"
   ]
  },
  {
   "cell_type": "code",
   "execution_count": 32,
   "id": "ab50cb47",
   "metadata": {},
   "outputs": [
    {
     "name": "stdout",
     "output_type": "stream",
     "text": [
      "11009 11332\n",
      "4\n"
     ]
    }
   ],
   "source": [
    "def solve():\n",
    "    a,b = map(int, input().split())\n",
    "    \n",
    "    L = []\n",
    "    for i in range(a,b+1):\n",
    "        x = [int(a) for a in str(i)]\n",
    "        L.append(x)\n",
    "\n",
    "    \n",
    "    ans = 0\n",
    "    for num in L:\n",
    "        if num == list(reversed(num)):\n",
    "            ans += 1\n",
    "    \n",
    "    return ans \n",
    "\n",
    "print(solve())\n",
    "            \n",
    "        \n",
    "    \n",
    "    "
   ]
  },
  {
   "cell_type": "markdown",
   "id": "96940b31",
   "metadata": {},
   "source": [
    "# Fairness "
   ]
  },
  {
   "cell_type": "code",
   "execution_count": 35,
   "id": "b4919702",
   "metadata": {},
   "outputs": [
    {
     "name": "stdout",
     "output_type": "stream",
     "text": [
      "1 2 3 4\n",
      "-1\n"
     ]
    }
   ],
   "source": [
    "def solve():\n",
    "    a,b,c,k = map(int, input().split())\n",
    "    \n",
    "    ans = b - a\n",
    "    \n",
    "    if k % 2 == 0:\n",
    "        ans = a - b\n",
    "        \n",
    "    return ans \n",
    "\n",
    "print(solve())"
   ]
  },
  {
   "cell_type": "markdown",
   "id": "90ab9913",
   "metadata": {},
   "source": [
    "# Lucus Number "
   ]
  },
  {
   "cell_type": "code",
   "execution_count": 46,
   "id": "be7cbf71",
   "metadata": {},
   "outputs": [
    {
     "name": "stdout",
     "output_type": "stream",
     "text": [
      "5\n",
      "11\n"
     ]
    }
   ],
   "source": [
    "def solve():\n",
    "    n = int(input())\n",
    "    \n",
    "    first = 2\n",
    "    second = 1\n",
    "    L = []\n",
    "    \n",
    "    for i in range(86):\n",
    "        L.append(first + second)\n",
    "        first, second = second, first + second\n",
    "    \n",
    "    # add 2\n",
    "    L.insert(0,2)\n",
    "    \n",
    "    # add 1\n",
    "    L.insert(1,1)\n",
    "    \n",
    "    ans = L[n]\n",
    "    \n",
    "    return ans\n",
    "\n",
    "print(solve())\n",
    "            \n",
    "        \n",
    "        "
   ]
  },
  {
   "cell_type": "markdown",
   "id": "c4cf900f",
   "metadata": {},
   "source": [
    "# Lower  **"
   ]
  },
  {
   "cell_type": "code",
   "execution_count": 50,
   "id": "597c5578",
   "metadata": {},
   "outputs": [
    {
     "name": "stdout",
     "output_type": "stream",
     "text": [
      "7\n",
      "4 4 5 6 6 5 5\n",
      "3\n"
     ]
    }
   ],
   "source": [
    "def solve():\n",
    "    n = int(input())\n",
    "    h = list(map(int, input().split()))\n",
    "    \n",
    "    ans = 0\n",
    "    cnt = 0\n",
    "    \n",
    "    for i in range(n-1):\n",
    "        if h[i] >= h[i+1]:\n",
    "            cnt += 1\n",
    "        else:\n",
    "            ans = max(cnt,ans)\n",
    "            cnt = 0\n",
    "    ans = max(cnt,ans)\n",
    "       \n",
    "    return ans\n",
    "\n",
    "print(solve())\n",
    "            "
   ]
  },
  {
   "cell_type": "markdown",
   "id": "709080db",
   "metadata": {},
   "source": [
    "# Picture Frame "
   ]
  },
  {
   "cell_type": "code",
   "execution_count": 57,
   "id": "cf6d7ee8",
   "metadata": {},
   "outputs": [
    {
     "name": "stdout",
     "output_type": "stream",
     "text": [
      "1 1\n",
      "z\n",
      "###\n",
      "#z#\n",
      "###\n"
     ]
    }
   ],
   "source": [
    "h,w = map(int, input().split())\n",
    "\n",
    "A = []\n",
    "\n",
    "for i in range(h):\n",
    "    x = input()\n",
    "    A.append(x)\n",
    "\n",
    "A.insert(0,0)\n",
    "A.append(0)\n",
    "\n",
    "for i in range(h+2):\n",
    "    if i == 0 or i == h+1:\n",
    "        print(\"#\" * (w+2))\n",
    "    else:\n",
    "        print(\"#{}#\".format(A[i]))\n"
   ]
  },
  {
   "cell_type": "markdown",
   "id": "b515460b",
   "metadata": {},
   "source": [
    "# Comparison \n"
   ]
  },
  {
   "cell_type": "code",
   "execution_count": 64,
   "id": "1b62c26d",
   "metadata": {},
   "outputs": [
    {
     "name": "stdout",
     "output_type": "stream",
     "text": [
      "234567890123456789012345678901\n",
      "234567890123456789012345678900\n",
      "GREATER\n"
     ]
    }
   ],
   "source": [
    "def solve():\n",
    "    a = list(input())\n",
    "    b = list(input())\n",
    "    \n",
    "    ans = 'EQUAL'\n",
    "    if len(a) > len(b):\n",
    "        ans = 'GREATER'\n",
    "    elif len(a) < len(b):\n",
    "        ans = 'LESS'\n",
    "    else:\n",
    "        for i in range(len(a)):\n",
    "            if a[i] > b[i]:\n",
    "                ans = 'GREATER'\n",
    "                break\n",
    "            elif a[i] < b[i]:\n",
    "                ans = 'LESS'\n",
    "                break\n",
    "            else:\n",
    "                continue \n",
    "    return ans \n",
    "\n",
    "print(solve())\n",
    "            \n",
    "            "
   ]
  },
  {
   "cell_type": "markdown",
   "id": "6fd0082e",
   "metadata": {},
   "source": [
    "# Maximal Value "
   ]
  },
  {
   "cell_type": "code",
   "execution_count": 69,
   "id": "d6444820",
   "metadata": {},
   "outputs": [
    {
     "name": "stdout",
     "output_type": "stream",
     "text": [
      "2\n",
      "3\n",
      "6\n"
     ]
    }
   ],
   "source": [
    "def solve():\n",
    "    n = int(input())\n",
    "    B = list(map(int, input().split()))\n",
    "    \n",
    "    L = []\n",
    "    for i in range(n):\n",
    "        if i == 0:\n",
    "            L.append(B[0])\n",
    "        elif i == n-1:\n",
    "            L.append(B[n-2])\n",
    "        else:\n",
    "            x = min(B[i],B[i-1])\n",
    "            L.append(x)\n",
    "    \n",
    "    ans = sum(L)\n",
    "    \n",
    "    return ans \n",
    "\n",
    "print(solve())"
   ]
  },
  {
   "cell_type": "markdown",
   "id": "103fabfb",
   "metadata": {},
   "source": [
    "# Counting Roads "
   ]
  },
  {
   "cell_type": "code",
   "execution_count": 73,
   "id": "b766645b",
   "metadata": {},
   "outputs": [
    {
     "name": "stdout",
     "output_type": "stream",
     "text": [
      "8 8 \n",
      "1 2\n",
      "3 4\n",
      "1 5\n",
      "2 8\n",
      "3 7\n",
      "5 2\n",
      "4 1\n",
      "6 8\n",
      "3\n",
      "3\n",
      "2\n",
      "2\n",
      "2\n",
      "1\n",
      "1\n",
      "2\n"
     ]
    }
   ],
   "source": [
    "n,m = map(int, input().split())\n",
    "\n",
    "A = []\n",
    "for _ in range(m):\n",
    "    x = list(map(int, input().split()))\n",
    "    A.append(x)\n",
    "\n",
    "import itertools\n",
    "B = list(itertools.chain.from_iterable(A))\n",
    "\n",
    "Ans = []\n",
    "for i in range(n):\n",
    "    x = B.count(i+1)\n",
    "    Ans.append(x)\n",
    "\n",
    "for town in Ans:\n",
    "    print(town)"
   ]
  },
  {
   "cell_type": "markdown",
   "id": "a6b76ec1",
   "metadata": {},
   "source": [
    "# Shiritori *"
   ]
  },
  {
   "cell_type": "code",
   "execution_count": 93,
   "id": "5b77976e",
   "metadata": {},
   "outputs": [
    {
     "name": "stdout",
     "output_type": "stream",
     "text": [
      "3\n",
      "no\n",
      "way\n",
      "home\n",
      "No\n"
     ]
    }
   ],
   "source": [
    "def solve():\n",
    "    n = int(input())\n",
    "    w = [input() for _ in range(n)]\n",
    "    \n",
    "    ans = 'Yes'\n",
    "    \n",
    "    if len(w) != len((set(w))):\n",
    "        ans = 'No'\n",
    "    else:\n",
    "        for i in range(1,n):\n",
    "            if w[i-1][-1] != w[i][0]:\n",
    "                ans = 'No'\n",
    "            \n",
    "    return ans \n",
    "print(solve())\n",
    "    "
   ]
  },
  {
   "cell_type": "markdown",
   "id": "f61878fc",
   "metadata": {},
   "source": [
    "# Good Distance"
   ]
  },
  {
   "cell_type": "code",
   "execution_count": 101,
   "id": "bcdb2a0c",
   "metadata": {},
   "outputs": [
    {
     "name": "stdout",
     "output_type": "stream",
     "text": [
      "5 1\n",
      "1\n",
      "2\n",
      "3\n",
      "4\n",
      "5\n",
      "10\n"
     ]
    }
   ],
   "source": [
    "def solve():\n",
    "    from math import sqrt\n",
    "    from itertools import combinations \n",
    "    \n",
    "    n,d = map(int, input().split())\n",
    "    X = []\n",
    "    for _ in range(n):\n",
    "        x = list(map(int, input().split()))\n",
    "        X.append(x)\n",
    "    \n",
    "    comb = list(combinations(range(n),2))\n",
    "    ans = 0\n",
    "    for i in comb:\n",
    "        s = 0\n",
    "        for row in range(d):\n",
    "            s += (X[i[0]][row] - X[i[1]][row])**2\n",
    "        if sqrt(s).is_integer():\n",
    "            ans += 1\n",
    "    \n",
    "    return ans\n",
    "\n",
    "print(solve())\n",
    "            \n",
    "            \n",
    "        \n",
    "        "
   ]
  },
  {
   "cell_type": "markdown",
   "id": "336bcb25",
   "metadata": {},
   "source": [
    "# Small and Large Integers ** "
   ]
  },
  {
   "cell_type": "code",
   "execution_count": 121,
   "id": "f3698055",
   "metadata": {},
   "outputs": [
    {
     "name": "stdout",
     "output_type": "stream",
     "text": [
      "3 8 2\n",
      "3\n",
      "4\n",
      "7\n",
      "8\n"
     ]
    }
   ],
   "source": [
    "A, B, K = map(int, input().split())\n",
    "if B-A+1 >= 2*K: # A以上B以下の整数の数が2K以上\n",
    "    res_list = [i for i in range(A, A+K)] + [i for i in range(B-K+1, B+1)]\n",
    "else: # A以上B以下の整数の数が2K未満\n",
    "    res_list = [i for i in range(A, B+1)]\n",
    "for i in res_list:\n",
    "    print(i)"
   ]
  },
  {
   "cell_type": "markdown",
   "id": "081afae1",
   "metadata": {},
   "source": [
    "# Tax Increase "
   ]
  },
  {
   "cell_type": "code",
   "execution_count": 124,
   "id": "2d786c7b",
   "metadata": {},
   "outputs": [
    {
     "name": "stdout",
     "output_type": "stream",
     "text": [
      "19 99\n",
      "-1\n"
     ]
    }
   ],
   "source": [
    "def solve():\n",
    "    from math import floor\n",
    "    \n",
    "    a,b = map(int,input().split())\n",
    "    B = 10 * b\n",
    "    ans = -1\n",
    "    \n",
    "    if floor(B * 0.08) == a:\n",
    "        ans = B\n",
    "    else:\n",
    "        for i in range(10):\n",
    "            if floor((B+i)*0.08) == a:\n",
    "                ans = B + i\n",
    "                break\n",
    "    return ans\n",
    "\n",
    "print(solve())"
   ]
  },
  {
   "cell_type": "markdown",
   "id": "290096b4",
   "metadata": {},
   "source": [
    "# Palace\n",
    "\n",
    "リストの中の最も近い値のインデックスを出す。二分探索より簡単。\n",
    "\n",
    "https://qiita.com/Krypf/items/2eada91c37161d17621d"
   ]
  },
  {
   "cell_type": "code",
   "execution_count": 5,
   "id": "dc07f8bb",
   "metadata": {},
   "outputs": [
    {
     "name": "stdout",
     "output_type": "stream",
     "text": [
      "3\n",
      "21 -11\n",
      "81234 94124 52141\n",
      "3\n"
     ]
    }
   ],
   "source": [
    "n = int(input())\n",
    "t, a = map(int, input().split())\n",
    "h = list(map(int, input().split()))\n",
    "ideal = (t-a) * (500/3)\n",
    "\n",
    "import numpy as np\n",
    "\n",
    "def idx_of_the_nearest(data, value):\n",
    "    idx = np.argmin(np.abs(np.array(data) - value))\n",
    "    return idx\n",
    "\n",
    "ans = idx_of_the_nearest(h,ideal) + 1\n",
    "\n",
    "print(ans)"
   ]
  },
  {
   "cell_type": "markdown",
   "id": "33c9f057",
   "metadata": {},
   "source": [
    "# AcCepted \n",
    "小文字の確認"
   ]
  },
  {
   "cell_type": "code",
   "execution_count": 17,
   "id": "0a38a606",
   "metadata": {},
   "outputs": [
    {
     "name": "stdout",
     "output_type": "stream",
     "text": [
      "AcycliC\n",
      "WA\n"
     ]
    }
   ],
   "source": [
    "def solve():\n",
    "    s = list(input())\n",
    "    \n",
    "    ans = 'AC'\n",
    "    \n",
    "    if s[0] != 'A':\n",
    "        ans = 'WA'\n",
    "    else:\n",
    "        length = len(s)\n",
    "        if (s[2:-1]).count('C') != 1:\n",
    "            ans = 'WA'\n",
    "        else:\n",
    "            new_s = s[1:]\n",
    "            new_s.remove('C')\n",
    "            new_s = ''.join(new_s)\n",
    "            if not new_s.islower():\n",
    "                ans = 'WA'\n",
    "    return ans\n",
    "\n",
    "print(solve())\n",
    "            \n",
    "            \n",
    "    "
   ]
  },
  {
   "cell_type": "markdown",
   "id": "1333cb51",
   "metadata": {},
   "source": [
    "# Contest with Drinks Easy"
   ]
  },
  {
   "cell_type": "code",
   "execution_count": 25,
   "id": "7c7ecc29",
   "metadata": {},
   "outputs": [
    {
     "name": "stdout",
     "output_type": "stream",
     "text": [
      "5\n",
      "7 2 3 8 5\n",
      "3\n",
      "4 2\n",
      "1 7\n",
      "4 13\n",
      "-6\n",
      "19\n",
      "0\n",
      "25\n",
      "5\n",
      "30\n"
     ]
    }
   ],
   "source": [
    "n = int(input())\n",
    "t = list(map(int, input().split()))\n",
    "m = int(input())\n",
    "P = []\n",
    "for _ in range(m):\n",
    "    p,x = map(int, input().split())\n",
    "    P.append([p-1,x])\n",
    "\n",
    "time = sum(t)\n",
    "\n",
    "for i in range(m):\n",
    "    gap = P[i][1] - t[P[i][0]]\n",
    "    ans = time + gap\n",
    "    print(ans)\n",
    "    "
   ]
  },
  {
   "cell_type": "markdown",
   "id": "ecf64695",
   "metadata": {},
   "source": [
    "# String Rotation"
   ]
  },
  {
   "cell_type": "code",
   "execution_count": 26,
   "id": "fa7eebeb",
   "metadata": {},
   "outputs": [
    {
     "name": "stdout",
     "output_type": "stream",
     "text": [
      "kyoto\n",
      "tokyo\n",
      "Yes\n"
     ]
    }
   ],
   "source": [
    "def solve():\n",
    "    s = str(input())\n",
    "    t = str(input())\n",
    "    \n",
    "    l = s * 100\n",
    "    ans = 'No'\n",
    "    \n",
    "    if t in l:\n",
    "        ans = 'Yes'\n",
    "        \n",
    "    return ans \n",
    "\n",
    "print(solve())"
   ]
  },
  {
   "cell_type": "markdown",
   "id": "843ecf04",
   "metadata": {},
   "source": [
    "# Thin"
   ]
  },
  {
   "cell_type": "code",
   "execution_count": 32,
   "id": "87752638",
   "metadata": {},
   "outputs": [
    {
     "name": "stdout",
     "output_type": "stream",
     "text": [
      "2 2\n",
      "ox\n",
      "ox\n",
      "ox\n",
      "ab\n",
      "ab\n",
      "ab\n"
     ]
    }
   ],
   "source": [
    "h,w = map(int, input().split())\n",
    "for _ in range(h):\n",
    "    x = input()\n",
    "    print(x)\n",
    "    print(x)  "
   ]
  },
  {
   "cell_type": "markdown",
   "id": "899f6992",
   "metadata": {},
   "source": [
    "# Brick Break "
   ]
  },
  {
   "cell_type": "code",
   "execution_count": 42,
   "id": "dc359300",
   "metadata": {},
   "outputs": [
    {
     "name": "stdout",
     "output_type": "stream",
     "text": [
      "3\n",
      "2 2 2\n",
      "-1\n"
     ]
    }
   ],
   "source": [
    "def solve():\n",
    "    n = int(input())\n",
    "    a = list(map(int, input().split()))\n",
    "    \n",
    "    okay = 0\n",
    "    tmp = 1\n",
    "    \n",
    "    for i in range(n):\n",
    "        if a[i] == tmp:\n",
    "            okay += 1\n",
    "            tmp += 1\n",
    "        else:\n",
    "            continue\n",
    "    \n",
    "    ans = -1\n",
    "    if okay > 0:\n",
    "        ans = n - okay \n",
    "    return ans \n",
    "\n",
    "print(solve())\n",
    "        \n",
    "            "
   ]
  },
  {
   "cell_type": "markdown",
   "id": "4d01fa55",
   "metadata": {},
   "source": [
    "# Dots "
   ]
  },
  {
   "cell_type": "code",
   "execution_count": 44,
   "id": "db0526ad",
   "metadata": {},
   "outputs": [
    {
     "name": "stdout",
     "output_type": "stream",
     "text": [
      "atcoderbeginnercontest\n",
      "atcoderregularcontest\n",
      "aattccooddeerrbreeggiunlnaerrccoonntteesstt\n"
     ]
    }
   ],
   "source": [
    "def solve():\n",
    "    o = list(input())\n",
    "    e = list(input())\n",
    "    \n",
    "    A = []\n",
    "    for i in range(len(o)+len(e)):\n",
    "        if i % 2 == 0:\n",
    "            A.append(o[i//2])\n",
    "        else:\n",
    "            A.append(e[(i-1)//2])\n",
    "    ans = ''.join(A)\n",
    "    return ans \n",
    "\n",
    "print(solve())\n",
    "            "
   ]
  },
  {
   "cell_type": "markdown",
   "id": "089fb369",
   "metadata": {},
   "source": [
    "# A to Z string "
   ]
  },
  {
   "cell_type": "code",
   "execution_count": 57,
   "id": "3d7c3881",
   "metadata": {},
   "outputs": [
    {
     "name": "stdout",
     "output_type": "stream",
     "text": [
      "HASFJGHOGAKZZFEGA\n",
      "1\n",
      "12\n",
      "12\n"
     ]
    }
   ],
   "source": [
    "def solve():\n",
    "    s = list(input())\n",
    "    \n",
    "    A = 0\n",
    "    Z = 0\n",
    "    for i in range(len(s)):\n",
    "        if s[i] == 'A':\n",
    "            A = i\n",
    "            break \n",
    "    for j in reversed(range(A,len(s))):\n",
    "        if s[j] == 'Z':\n",
    "            Z  = j\n",
    "            break\n",
    "    \n",
    "    ans = Z - A + 1\n",
    " \n",
    "    return ans \n",
    "\n",
    "print(solve())\n",
    "        \n",
    "            \n",
    "    "
   ]
  },
  {
   "cell_type": "code",
   "execution_count": 56,
   "id": "2b46f3db",
   "metadata": {},
   "outputs": [
    {
     "name": "stdout",
     "output_type": "stream",
     "text": [
      "HASFJGHOGAKZZFEGA\n",
      "17\n"
     ]
    }
   ],
   "source": [
    "print(len(list(input())))"
   ]
  },
  {
   "cell_type": "markdown",
   "id": "dd8500ec",
   "metadata": {},
   "source": [
    "# Wanna go back home "
   ]
  },
  {
   "cell_type": "code",
   "execution_count": 11,
   "id": "5d3e7eac",
   "metadata": {},
   "outputs": [
    {
     "name": "stdout",
     "output_type": "stream",
     "text": [
      "NNSEW\n",
      "Yes\n"
     ]
    }
   ],
   "source": [
    "def solve():\n",
    "    s = set(input())\n",
    "    ans = 'No'\n",
    "    if s == set(\"NWSE\") or s == set(\"NS\") or s == set(\"WE\"):\n",
    "        ans = 'Yes'\n",
    "    return ans\n",
    "print(solve())"
   ]
  },
  {
   "cell_type": "markdown",
   "id": "09942296",
   "metadata": {},
   "source": [
    "# Poll "
   ]
  },
  {
   "cell_type": "code",
   "execution_count": 78,
   "id": "c5a795b5",
   "metadata": {},
   "outputs": [
    {
     "name": "stdout",
     "output_type": "stream",
     "text": [
      "5\n",
      "shuna\n",
      "shuna\n",
      "shona\n",
      "shona\n",
      "shena\n",
      "shona\n",
      "shuna\n"
     ]
    }
   ],
   "source": [
    "n = int(input())\n",
    "S = []\n",
    "for _ in range(n):\n",
    "    x = input()\n",
    "    S.append(x)\n",
    "\n",
    "length = len(list(set(S)))\n",
    "import collections \n",
    "\n",
    "A = collections.Counter(S).most_common(length)\n",
    "\n",
    "Ans = []\n",
    "common = A[0][1]\n",
    "for i in A:\n",
    "    if i[1] == common:\n",
    "        Ans.append(i[0])\n",
    "    else:\n",
    "        break \n",
    "Ans.sort()\n",
    "for j in Ans:\n",
    "    print(j)\n",
    "    "
   ]
  },
  {
   "cell_type": "markdown",
   "id": "3c2f8c80",
   "metadata": {},
   "source": [
    "# Guidebook"
   ]
  },
  {
   "cell_type": "code",
   "execution_count": 3,
   "id": "f5de25f7",
   "metadata": {},
   "outputs": [
    {
     "name": "stdout",
     "output_type": "stream",
     "text": [
      "6\n",
      "kha 10\n",
      "kha 20\n",
      "kha 30\n",
      "mos 50\n",
      "mos 70\n",
      "zen 90\n",
      "3\n",
      "2\n",
      "1\n",
      "5\n",
      "4\n",
      "6\n"
     ]
    }
   ],
   "source": [
    "from operator import itemgetter \n",
    "n = int(input())\n",
    "A = []\n",
    "for i in range(n):\n",
    "    p,x = map(str, input().split())\n",
    "    x = 100 - int(x)\n",
    "    A.append([p,x,i+1])\n",
    "\n",
    "sorted_data = sorted(A, key = itemgetter(0,1))\n",
    "\n",
    "for j in sorted_data:\n",
    "    print(j[2])\n"
   ]
  },
  {
   "cell_type": "markdown",
   "id": "60a9e6c0",
   "metadata": {},
   "source": [
    "# Dividing a String "
   ]
  },
  {
   "cell_type": "code",
   "execution_count": 2,
   "id": "704edc72",
   "metadata": {},
   "outputs": [],
   "source": [
    "# 無理"
   ]
  },
  {
   "cell_type": "markdown",
   "id": "f2f76a64",
   "metadata": {},
   "source": [
    "# 100 to 105 "
   ]
  },
  {
   "cell_type": "code",
   "execution_count": 6,
   "id": "7d1a72f1",
   "metadata": {},
   "outputs": [
    {
     "name": "stdout",
     "output_type": "stream",
     "text": [
      "217\n",
      "-1\n"
     ]
    }
   ],
   "source": [
    "def solve():\n",
    "    x = int(input())\n",
    "    a = x // 100\n",
    "    rem = x % 100\n",
    "    \n",
    "    ans = 1\n",
    "    \n",
    "    if rem > (5*a):\n",
    "        ans = 0\n",
    "    return ans \n",
    "print(solve())\n",
    "    "
   ]
  },
  {
   "cell_type": "markdown",
   "id": "b763cd9c",
   "metadata": {},
   "source": [
    "# Iroha loves Strings "
   ]
  },
  {
   "cell_type": "code",
   "execution_count": 9,
   "id": "528d512e",
   "metadata": {},
   "outputs": [
    {
     "name": "stdout",
     "output_type": "stream",
     "text": [
      "3 3\n",
      "dxx\n",
      "axx\n",
      "cxx\n",
      "axxcxxdxx\n"
     ]
    }
   ],
   "source": [
    "def solve():\n",
    "    n,l = map(int, input().split())\n",
    "    S = [input() for _ in range(n)]\n",
    "    \n",
    "    S.sort()\n",
    "    ans = \"\".join(S)\n",
    "    \n",
    "    return ans \n",
    "\n",
    "print(solve())"
   ]
  },
  {
   "cell_type": "markdown",
   "id": "b267d549",
   "metadata": {},
   "source": [
    "# Exponential "
   ]
  },
  {
   "cell_type": "code",
   "execution_count": 45,
   "id": "6f15f14a",
   "metadata": {},
   "outputs": [
    {
     "name": "stdout",
     "output_type": "stream",
     "text": [
      "999\n",
      "961\n"
     ]
    }
   ],
   "source": [
    "def solve():\n",
    "    x = int(input())\n",
    "    prime = [2,3,5,7,11,13,17,19,23,29,31]\n",
    "    A = []\n",
    "    \n",
    "    for i in range(2,10):\n",
    "        for j in range(1,32):\n",
    "            A.append(j ** i)\n",
    "    \n",
    "    A = list(set(A))\n",
    "    A.sort()\n",
    "    \n",
    "    \n",
    "    from bisect import bisect_right\n",
    "    \n",
    "\n",
    "    ind = bisect_right(A,x)\n",
    "    ans = A[ind-1]\n",
    "    \n",
    "\n",
    "    if x == 1:\n",
    "        ans = 1\n",
    "    \n",
    "    return ans \n",
    "print(solve())\n",
    "                \n",
    "            \n",
    "        \n",
    "    "
   ]
  },
  {
   "cell_type": "markdown",
   "id": "ce933fef",
   "metadata": {},
   "source": [
    "# Digit Sum 2 **"
   ]
  },
  {
   "cell_type": "code",
   "execution_count": 7,
   "id": "a716a202",
   "metadata": {},
   "outputs": [
    {
     "name": "stdout",
     "output_type": "stream",
     "text": [
      "999\n",
      "27\n"
     ]
    }
   ],
   "source": [
    "N=input()\n",
    "N=list(N)\n",
    "for k in range(len(N)):\n",
    "\tN[k]=int(N[k])\n",
    "ans=0\n",
    "pos=0\n",
    "for i in range(1,len(N)):\n",
    "\tif N[i]!=9:\n",
    "\t\tN[i-1]=N[i-1]-1\n",
    "\t\tpos=i\n",
    "\t\tbreak\n",
    "if pos==0:\n",
    "\tprint(sum(N))\n",
    "else:\n",
    "\tfor j in range(pos):\n",
    "\t\tans+=N[j]\n",
    "\tans+=9*(len(N)-pos)\n",
    "\tprint(ans)\n",
    "        \n",
    "        "
   ]
  },
  {
   "cell_type": "markdown",
   "id": "c1371f54",
   "metadata": {},
   "source": [
    "# Half and Half "
   ]
  },
  {
   "cell_type": "code",
   "execution_count": 8,
   "id": "d73c1325",
   "metadata": {},
   "outputs": [
    {
     "name": "stdout",
     "output_type": "stream",
     "text": [
      "100 100 100 3 4\n",
      "700\n"
     ]
    }
   ],
   "source": [
    "A,B,C,X,Y = map(int,input().split())\n",
    "min_xy = min(X,Y)\n",
    "max_xy = max(X,Y)\n",
    "ans1 = 2 * C * min_xy + A * (X-min_xy) + B * (Y-min_xy) # 無駄にならない範囲でABピザを買い、残りを買う\n",
    "ans2 = A*X + B*Y # ABピザを買わない\n",
    "ans3 = 2 * C * max_xy # ABピザだけを買う\n",
    "print (min(ans1,ans2,ans3))\n",
    "    "
   ]
  },
  {
   "cell_type": "code",
   "execution_count": null,
   "id": "0b096a43",
   "metadata": {},
   "outputs": [],
   "source": [
    "def solve():\n",
    "    a,b,c,x,y = map(int, input().split())\n",
    "    op1 = c * max(x + y) * 2\n",
    "    op2 = "
   ]
  },
  {
   "cell_type": "markdown",
   "id": "6984538f",
   "metadata": {},
   "source": [
    "# Christmas Eve"
   ]
  },
  {
   "cell_type": "code",
   "execution_count": 3,
   "id": "65351f1b",
   "metadata": {},
   "outputs": [
    {
     "name": "stdout",
     "output_type": "stream",
     "text": [
      "5 3\n",
      "5 \n",
      "7\n",
      "5\n",
      "7\n",
      "7\n",
      "0\n"
     ]
    }
   ],
   "source": [
    "def solve():\n",
    "    n,k = map(int, input().split())\n",
    "    h = []\n",
    "    for _ in range(n):\n",
    "        x = int(input())\n",
    "        h.append(x)\n",
    "    gap = 1000000000000\n",
    "    h.sort()\n",
    "    for i in range(n-k+1):\n",
    "        now = h[i-1+k] - h[i]\n",
    "        gap = min(gap,now)\n",
    "    \n",
    "    return gap\n",
    "print(solve())\n",
    "        \n",
    "        \n",
    "        \n",
    "        \n",
    "    "
   ]
  },
  {
   "cell_type": "markdown",
   "id": "5d81f588",
   "metadata": {},
   "source": [
    "# Welcome to AtCoder **"
   ]
  },
  {
   "cell_type": "code",
   "execution_count": 10,
   "id": "c034793c",
   "metadata": {},
   "outputs": [
    {
     "name": "stdout",
     "output_type": "stream",
     "text": [
      "1 1\n",
      "1 WA\n",
      "0 0\n"
     ]
    }
   ],
   "source": [
    "\n",
    "n, m = map(int,input().split())\n",
    "a = [input().split() for i in range(m)]\n",
    "p = [int(i[0]) for i in a]\n",
    "q = [j[1] for j in a]\n",
    "\n",
    "ac = 0\n",
    "wa = 0\n",
    "wa_c = [0] * n\n",
    "ac_c = [False] * n\n",
    "\n",
    "for t in range(m):\n",
    "    if ac_c[p[t]-1]:\n",
    "        continue\n",
    "    if q[t] == 'AC':\n",
    "        ac += 1\n",
    "        ac_c[p[t]-1] = True\n",
    "        wa += wa_c[p[t]-1]\n",
    "    else:\n",
    "        wa_c[p[t]-1] += 1\n",
    "print(ac,wa)"
   ]
  },
  {
   "cell_type": "markdown",
   "id": "8a89c02a",
   "metadata": {},
   "source": [
    "# AtCoder Group Contest\n"
   ]
  },
  {
   "cell_type": "code",
   "execution_count": 13,
   "id": "9025bd7c",
   "metadata": {},
   "outputs": [
    {
     "name": "stdout",
     "output_type": "stream",
     "text": [
      "10\n",
      "1000000000 1000000000 1000000000 1000000000 1000000000 1000000000 1000000000 1000000000 1000000000 1000000000 1000000000 1000000000 1000000000 1000000000 1000000000 1000000000 1000000000 1000000000 1000000000 1000000000 1000000000 1000000000 1000000000 1000000000 1000000000 1000000000 1000000000 1000000000 1000000000 1000000000\n",
      "10000000000\n"
     ]
    }
   ],
   "source": [
    "def solve():\n",
    "    n = int(input())\n",
    "    a = list(map(int, input().split()))\n",
    "    \n",
    "    a.sort(reverse = True)\n",
    "    ans = 0\n",
    "    for i in range(2*n):\n",
    "        if i%2 != 0:\n",
    "            ans += a[i]\n",
    "    return ans \n",
    "print(solve())\n",
    "            \n",
    "        \n",
    "    "
   ]
  },
  {
   "cell_type": "markdown",
   "id": "0fa82ef9",
   "metadata": {},
   "source": [
    "# Build Stairs "
   ]
  },
  {
   "cell_type": "code",
   "execution_count": 18,
   "id": "6daadc44",
   "metadata": {},
   "outputs": [
    {
     "name": "stdout",
     "output_type": "stream",
     "text": [
      "5\n",
      "1 2 1 1 3\n",
      "Yes\n"
     ]
    }
   ],
   "source": [
    "def solve():\n",
    "    n = int(input())\n",
    "    h = list(map(int, input().split()))\n",
    "    \n",
    "    ans = 'Yes'\n",
    "    \n",
    "    for i in range(n-1):\n",
    "        if h[i] > h[i+1]:\n",
    "            ans = 'No'\n",
    "        elif h[i+1] - h[i] == 1:\n",
    "            h[i+1] -= 1\n",
    "    return ans \n",
    "print(solve())\n",
    "        "
   ]
  },
  {
   "cell_type": "markdown",
   "id": "8a2c69bf",
   "metadata": {},
   "source": [
    "# Table Tennis Training "
   ]
  },
  {
   "cell_type": "code",
   "execution_count": 2,
   "id": "29db146b",
   "metadata": {},
   "outputs": [
    {
     "name": "stdout",
     "output_type": "stream",
     "text": [
      "5 2 4\n",
      "1\n"
     ]
    }
   ],
   "source": [
    "def solve():\n",
    "    n,a,b = map(int, input().split())\n",
    "    gap = abs(a-b)\n",
    "    ans = n\n",
    "    if gap % 2 == 0:\n",
    "        ans = gap//2\n",
    "    else:\n",
    "        op1 = 2*n - a - b\n",
    "        op2 = a + b \n",
    "        ans = min(op1,op2)//2\n",
    "    return ans\n",
    "print(solve())\n",
    "        \n",
    "        "
   ]
  },
  {
   "cell_type": "markdown",
   "id": "7fba1fd5",
   "metadata": {},
   "source": [
    "# Friendly Rabits "
   ]
  },
  {
   "cell_type": "code",
   "execution_count": 22,
   "id": "722c2973",
   "metadata": {},
   "outputs": [
    {
     "name": "stdout",
     "output_type": "stream",
     "text": [
      "4\n",
      "2 1 4 3\n",
      "2\n"
     ]
    }
   ],
   "source": [
    "def solve():\n",
    "    n = int(input())\n",
    "    a = list(map(int, input().split()))\n",
    "    \n",
    "    A = []\n",
    "    for i in range(1,n+1):\n",
    "        A.append(sorted([i, a[i-1]]))\n",
    "    \n",
    "    ans = len(a) - len(list(map(list, set(map(tuple, A)))))\n",
    "    return ans \n",
    "print(solve())\n",
    "                 \n",
    "        \n",
    "    "
   ]
  }
 ],
 "metadata": {
  "kernelspec": {
   "display_name": "Python 3",
   "language": "python",
   "name": "python3"
  },
  "language_info": {
   "codemirror_mode": {
    "name": "ipython",
    "version": 3
   },
   "file_extension": ".py",
   "mimetype": "text/x-python",
   "name": "python",
   "nbconvert_exporter": "python",
   "pygments_lexer": "ipython3",
   "version": "3.8.8"
  },
  "toc": {
   "base_numbering": 1,
   "nav_menu": {},
   "number_sections": true,
   "sideBar": true,
   "skip_h1_title": false,
   "title_cell": "Table of Contents",
   "title_sidebar": "Contents",
   "toc_cell": false,
   "toc_position": {},
   "toc_section_display": true,
   "toc_window_display": false
  }
 },
 "nbformat": 4,
 "nbformat_minor": 5
}
