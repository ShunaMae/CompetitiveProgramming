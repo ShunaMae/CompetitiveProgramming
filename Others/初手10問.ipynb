{
 "cells": [
  {
   "cell_type": "markdown",
   "id": "4443c518",
   "metadata": {},
   "source": [
    "# Beginner "
   ]
  },
  {
   "cell_type": "markdown",
   "id": "21573615",
   "metadata": {},
   "source": [
    "how to read the input -> https://qiita.com/kyuna/items/8ee8916c2f4e36321a1c"
   ]
  },
  {
   "cell_type": "markdown",
   "id": "20265bc4",
   "metadata": {},
   "source": [
    "## Process data\n",
    "\n",
    "You are given 3 integers a , b , c and a string s. Output result of a+b+c and string s with a half-width break."
   ]
  },
  {
   "cell_type": "code",
   "execution_count": 2,
   "id": "ae7c4e87",
   "metadata": {},
   "outputs": [
    {
     "name": "stdout",
     "output_type": "stream",
     "text": [
      "10\n",
      "10\n"
     ]
    }
   ],
   "source": [
    "# output an integer \n",
    "a = int(input())\n",
    "print(a)"
   ]
  },
  {
   "cell_type": "code",
   "execution_count": 3,
   "id": "1919d0d7",
   "metadata": {},
   "outputs": [
    {
     "name": "stdout",
     "output_type": "stream",
     "text": [
      "10 20\n",
      "30\n"
     ]
    }
   ],
   "source": [
    "b,c = map(int, input().split())\n",
    "print(\"{}\".format(b+c))"
   ]
  },
  {
   "cell_type": "code",
   "execution_count": 4,
   "id": "2b0aac83",
   "metadata": {},
   "outputs": [
    {
     "name": "stdout",
     "output_type": "stream",
     "text": [
      "10\n",
      "20 30\n",
      "hello\n",
      "60 hello\n"
     ]
    }
   ],
   "source": [
    "# 整数の入力\n",
    "a = int(input())\n",
    "\n",
    "# スペース区切りの整数の入力\n",
    "b,c = map(int, input().split())\n",
    "\n",
    "# 文字列の入力\n",
    "s = input()\n",
    "\n",
    "# 出力\n",
    "print(\"{} {}\".format(a+b+c, s))"
   ]
  },
  {
   "cell_type": "markdown",
   "id": "a50e1359",
   "metadata": {},
   "source": [
    "## Product \n",
    "\n",
    "AtCoDeer the deer found two positive integers, a and b. Determine whether the product of a and b is even or odd."
   ]
  },
  {
   "cell_type": "code",
   "execution_count": 5,
   "id": "589ffa5a",
   "metadata": {},
   "outputs": [
    {
     "name": "stdout",
     "output_type": "stream",
     "text": [
      "10 20\n",
      "Even\n"
     ]
    }
   ],
   "source": [
    "a,b = map(int, input().split())\n",
    "if a*b %2 == 0:\n",
    "    print(\"Even\")\n",
    "else:\n",
    "    print(\"Odd\")"
   ]
  },
  {
   "cell_type": "markdown",
   "id": "d3f29802",
   "metadata": {},
   "source": [
    "## Placing marbles \n",
    "\n",
    "Snuke has a grid consisting of three squares numbered 1, 2 and 3. In each square, either 0 or 1 is written. The number written in Square i is $s_i$\n",
    "\n",
    "Snuke will place a marble on each square that says 1. Find the number of squares on which Snuke will place a marble."
   ]
  },
  {
   "cell_type": "code",
   "execution_count": 6,
   "id": "9422b0fd",
   "metadata": {},
   "outputs": [
    {
     "name": "stdout",
     "output_type": "stream",
     "text": [
      "110\n",
      "2\n"
     ]
    }
   ],
   "source": [
    "#000 is not an integer! \n",
    "# so cannot use int(input())\n",
    "\n",
    "x = input()\n",
    "b,c,d = [int(i) for i in str(x)]\n",
    "print(b+c+d)"
   ]
  },
  {
   "cell_type": "markdown",
   "id": "6d8881bf",
   "metadata": {},
   "source": [
    "## Shift only \n",
    "\n",
    "There are N positive integers written on a blackboard: $A_1, ... , A_N$. \\\n",
    "Snuke can perform the following operation when all integers on the blackboard are even:\n",
    "\n",
    "Replace each integer X on the blackboard by X divided by 2.\n",
    "Find the maximum possible number of operations that Snuke can perform."
   ]
  },
  {
   "cell_type": "markdown",
   "id": "e76f92ba",
   "metadata": {},
   "source": [
    "1) bin(i): 0b0, 0b1, 0b10, 0b11, 0b100... \\\n",
    "2) len(bin(i)): 3,3,4,4,4,... (inclusive of b) \\\n",
    "3) bin(i).rfind(\"1\"): 0, 1, 2, 1, 3, ... (when the rightest 1 shows up counting from left) \n"
   ]
  },
  {
   "cell_type": "code",
   "execution_count": 7,
   "id": "067c4ad6",
   "metadata": {},
   "outputs": [
    {
     "name": "stdout",
     "output_type": "stream",
     "text": [
      "3\n",
      "3 4 5\n",
      "0\n"
     ]
    }
   ],
   "source": [
    "N = int(input())\n",
    "L = list(map(int, input().split()))\n",
    "\n",
    "ans = float(\"inf\")\n",
    "\n",
    "for i in L :\n",
    "    ans = min(ans, len(bin(i))- bin(i).rfind(\"1\") -1)\n",
    "print(ans)"
   ]
  },
  {
   "cell_type": "markdown",
   "id": "4bed23dc",
   "metadata": {},
   "source": [
    "## Coins \n",
    "\n",
    "You have A 500-yen coins, B 100-yen coins and C 50-yen coins (yen is the currency of Japan). In how many ways can we select some of these coins so that they are X yen in total?\n",
    "\n",
    "Coins of the same kind cannot be distinguished. Two ways to select coins are distinguished when, for some kind of coin, the numbers of that coin are different."
   ]
  },
  {
   "cell_type": "code",
   "execution_count": 7,
   "id": "87bda7ec",
   "metadata": {},
   "outputs": [
    {
     "name": "stdout",
     "output_type": "stream",
     "text": [
      "2\n",
      "2\n",
      "2\n",
      "100\n",
      "2\n"
     ]
    }
   ],
   "source": [
    "a, b, c, x = [int(input()) for i in range(4)]\n",
    "ans = 0\n",
    "for i in range(a+1):\n",
    "  for j in range(b+1):\n",
    "    for k in range(c+1):\n",
    "      if i*500 + j*100 + k*50 == x:\n",
    "        ans += 1\n",
    "print(ans)"
   ]
  },
  {
   "cell_type": "markdown",
   "id": "8ba92e1b",
   "metadata": {},
   "source": [
    "## Some sums\n",
    "\n",
    "Find the sum of the integers between 1 and N (inclusive), whose sum of digits written in base 10 is between A and B (inclusive)."
   ]
  },
  {
   "cell_type": "markdown",
   "id": "ae3c3669",
   "metadata": {},
   "source": [
    "str(i): 関数内の数値をオブジェクトとして取得 \\\n",
    "sum(map(int, str(i))): オブジェクトとして取得された各位の数字を整数として認識しなおし、合計を計算する"
   ]
  },
  {
   "cell_type": "code",
   "execution_count": null,
   "id": "d15f16cf",
   "metadata": {},
   "outputs": [],
   "source": [
    "N,A,B=map(int,input().split())\n",
    "print(sum(i*(A<=sum(map(int,str(i)))<=B)for i in range(N+1)))"
   ]
  },
  {
   "cell_type": "markdown",
   "id": "0d2bf63a",
   "metadata": {},
   "source": [
    "## Card game for Two\n",
    "\n",
    "We have N cards. A number $a_i$ is written on the $i$th card.\n",
    "Alice and Bob will play a game using these cards. In this game, Alice and Bob alternately take one card. Alice goes first.\n",
    "The game ends when all the cards are taken by the two players, and the score of each player is the sum of the numbers written on the cards he/she has taken. When both players take the optimal strategy to maximize their scores, find Alice's score minus Bob's score.\n",
    "\n",
    "N 枚のカードがあります. $i$枚目のカードには, $a_i$という数が書かれています.\n",
    "Alice と Bob は, これらのカードを使ってゲームを行います. ゲームでは, Alice と Bob が交互に 1 枚ずつカードを取っていきます. Alice が先にカードを取ります.\n",
    "2 人がすべてのカードを取ったときゲームは終了し, 取ったカードの数の合計がその人の得点になります. 2 人とも自分の得点を最大化するように最適な戦略を取った時, Alice は Bob より何点多く取るか求めてください."
   ]
  },
  {
   "cell_type": "code",
   "execution_count": 1,
   "id": "582998f7",
   "metadata": {},
   "outputs": [
    {
     "name": "stdout",
     "output_type": "stream",
     "text": [
      "2\n",
      "3 1\n",
      "2\n"
     ]
    }
   ],
   "source": [
    "#the number of cards on the table\n",
    "n = int(input())\n",
    "# take inputs, convert iteration to the list and sort them out in ascending order. \n",
    "a = sorted(list(map(int, input().split())), reverse=True)\n",
    "# 交互にスライス、初めは勝つ人、二つ目は1から飛ばしでスライス\n",
    "print(sum(a[::2]) - sum(a[1::2]))"
   ]
  },
  {
   "cell_type": "markdown",
   "id": "b008683a",
   "metadata": {},
   "source": [
    "## kagami Mochi\n",
    "\n",
    "An X-layered kagami mochi ($X≥1$) is a pile of $X$ round mochi (rice cake) stacked vertically where each mochi (except the bottom one) has a smaller diameter than that of the mochi directly below it. For example, if you stack three mochi with diameters of 10, 8 and 6 centimeters from bottom to top in this order, you have a 3-layered kagami mochi; if you put just one mochi, you have a 1-layered kagami mochi.\n",
    "\n",
    "Lunlun the dachshund has N round mochi, and the diameter of the $i$th mochi is $d_i$ centimeters. When we make a kagami mochi using some or all of them, at most how many layers can our kagami mochi have?"
   ]
  },
  {
   "cell_type": "code",
   "execution_count": 2,
   "id": "8b181a1a",
   "metadata": {},
   "outputs": [
    {
     "data": {
      "text/plain": [
       "30"
      ]
     },
     "execution_count": 2,
     "metadata": {},
     "output_type": "execute_result"
    }
   ],
   "source": [
    "7\n",
    "50\n",
    "30\n",
    "50\n",
    "100\n",
    "50\n",
    "80\n",
    "30\n"
   ]
  },
  {
   "cell_type": "code",
   "execution_count": null,
   "id": "8caf0d08",
   "metadata": {},
   "outputs": [],
   "source": [
    "# get 7 by input()\n",
    "n = int(input())\n",
    "\n",
    "# map(int, [input() for i in range(n)])\n",
    "# repeat input() for n times to get all the inputs \n",
    "# set()で同じ数値を弾けるらしい\n",
    "\n",
    "print(len(set(map(int, [input() for i in range(n)]))))\n"
   ]
  },
  {
   "cell_type": "markdown",
   "id": "f41211ef",
   "metadata": {},
   "source": [
    "## Otoshidama \n",
    "\n",
    "The commonly used bills in Japan are 10000-yen, 5000-yen and 1000-yen bills. Below, the word \"bill\" refers to only these.\n",
    "\n",
    "According to Aohashi, he received an otoshidama (New Year money gift) envelope from his grandfather that contained N bills for a total of Y yen, but he may be lying. Determine whether such a situation is possible, and if it is, find a possible set of bills contained in the envelope. Assume that his grandfather is rich enough, and the envelope was large enough.\n",
    "\n",
    "日本でよく使われる紙幣は、10000 円札、5000 円札、1000 円札です。以下、「お札」とはこれらのみを指します。\n",
    "\n",
    "青橋くんが言うには、彼が祖父から受け取ったお年玉袋にはお札が N 枚入っていて、合計で Y 円だったそうですが、嘘かもしれません。このような状況がありうるか判定し、ありうる場合はお年玉袋の中身の候補を一つ見つけてください。なお、彼の祖父は十分裕福であり、お年玉袋は十分大きかったものとします。\n",
    "\n",
    "N 枚のお札の合計金額が Y 円となることがありえない場合は、-1 -1 -1 と出力せよ。\n",
    "\n",
    "N 枚のお札の合計金額が Y 円となることがありうる場合は、そのような N 枚のお札の組み合わせの一例を「10000 円札 x 枚、5000 円札 y 枚、1000 円札 z 枚」として、x、y、z を空白で区切って出力せよ。複数の可能性が考えられるときは、そのうちどれを出力してもよい。"
   ]
  },
  {
   "cell_type": "markdown",
   "id": "302e6f10",
   "metadata": {},
   "source": [
    "9 45000"
   ]
  },
  {
   "cell_type": "code",
   "execution_count": null,
   "id": "f776ebaf",
   "metadata": {},
   "outputs": [],
   "source": [
    "n,y= map(int, input().split())\n",
    "\n",
    "for i in range(n+1):\n",
    "    for j in range(n-i+1):\n",
    "        if i*10000 + j *5000 + (n-i-j)*1000 == y:\n",
    "            print(i,j,n-i-j)\n",
    "            # find one combination and exit \n",
    "            exit()\n",
    "print(\"-1 -1 -1\")"
   ]
  },
  {
   "cell_type": "markdown",
   "id": "1f683506",
   "metadata": {},
   "source": [
    "## Daydream \n",
    "\n",
    "You are given a string S consisting of lowercase English letters. Another string T is initially empty. Determine whether it is possible to obtain S=T by performing the following operation an arbitrary number of times:\n",
    "\n",
    "Append one of the following at the end of T: dream, dreamer, erase and eraser.\n",
    "\n",
    "If it is possible to obtain S=T, print YES. Otherwise, print NO.\n",
    "\n",
    "\n",
    "英小文字からなる文字列 S が与えられます。 Tが空文字列である状態から始め、以下の操作を好きな回数繰り返すことで S=T とすることができるか判定してください。\n",
    "\n",
    "T の末尾に dream dreamer erase eraser のいずれかを追加する。"
   ]
  },
  {
   "cell_type": "code",
   "execution_count": 5,
   "id": "f7a74a0b",
   "metadata": {},
   "outputs": [
    {
     "name": "stdout",
     "output_type": "stream",
     "text": [
      "dreamer\n",
      "No\n"
     ]
    }
   ],
   "source": [
    "s = input().replace(\"dream\", \"\").replace(\"dreamer\", \"\").replace(\"erase\", \"\").replace(\"eraser\", \"\")\n",
    "\n",
    "print(\"Yes\" if len(s) == 0 else \"No\")"
   ]
  },
  {
   "cell_type": "markdown",
   "id": "07d96b69",
   "metadata": {},
   "source": [
    "上記のコードはダメ！！！！なぜかというとdreamerでdreamをreplace先にしてしまうとerが残ってしまってちゃんと消去できないから。erが付いている単語優先で置き換えないといけない。正解のコード↓"
   ]
  },
  {
   "cell_type": "code",
   "execution_count": 4,
   "id": "9b565781",
   "metadata": {},
   "outputs": [
    {
     "name": "stdout",
     "output_type": "stream",
     "text": [
      "freamer\n",
      "NO\n"
     ]
    }
   ],
   "source": [
    "s=input().replace(\"eraser\",\"\").replace(\"erase\",\"\").replace(\"dreamer\",\"\").replace(\"dream\",\"\")\n",
    "print(\"YES\" if len(s)==0 else \"NO\")"
   ]
  },
  {
   "cell_type": "markdown",
   "id": "507ea2f1",
   "metadata": {},
   "source": [
    "## Travelling \n",
    "\n",
    "AtCoDeer the deer is going on a trip in a two-dimensional plane. In his plan, he will depart from point (0,0) at time 0, then for each i between 1 and N (inclusive), he will visit point ($x_i$, $y_i$) at time $t_i$.\n",
    "\n",
    "If AtCoDeer is at point (x,y) at time t, he can be at one of the following points at time t+1: (x+1,y), (x−1,y), (x,y+1) and (x,y−1). Note that he cannot stay at his place. Determine whether he can carry out his plan.\n",
    "\n",
    "シカのAtCoDeerくんは二次元平面上で旅行をしようとしています。 AtCoDeerくんの旅行プランでは、時刻 0 に 点 (0,0) を出発し、 1 以上 N 以下の各 i に対し、時刻 $t_i$に 点 ($x_i$, $y_i$) を訪れる予定です。\n",
    "\n",
    "AtCoDeerくんが時刻 t に 点 (x,y) にいる時、 時刻 t+1 には 点 (x+1,y), (x−1,y), (x,y+1), (x,y−1) のうちいずれかに存在することができます。 その場にとどまることは出来ないことに注意してください。 AtCoDeerくんの旅行プランが実行可能かどうか判定してください。"
   ]
  },
  {
   "cell_type": "code",
   "execution_count": 10,
   "id": "a9b53161",
   "metadata": {},
   "outputs": [],
   "source": [
    "#2\n",
    "#3 1 2\n",
    "#6 1 1\n",
    "\n",
    "#Yes"
   ]
  },
  {
   "cell_type": "markdown",
   "id": "317670f2",
   "metadata": {},
   "source": [
    "x方向に±1かy方向に±１しか動けないため、tはx+yより大きくなければいけない。\\\n",
    "x+yがｔより大きいと、寄り道せずに行ってもたどり着けない。\n",
    "\n",
    "そもそも $t_1$から$t_2$に行けるかどうかの話なので比べるのは原点からの距離ではなく $\\left( t_{i+1}-t_{i}\\right) >\\left( x_{i+1}-x_{i}\\right) + \\left( y_{i+1}-y_{i}\\right)$を確認する必要があるので $t_i$とかをストアしないといけない（どうやって？）\n",
    "\n",
    "更に、x+yとtの差が偶数じゃないといけない。偶数じゃないとずれを行き帰りで修正できん。"
   ]
  },
  {
   "cell_type": "code",
   "execution_count": 9,
   "id": "5e2c0336",
   "metadata": {},
   "outputs": [
    {
     "name": "stdout",
     "output_type": "stream",
     "text": [
      "2\n",
      "100 50 50\n",
      "102 1 1\n",
      "No\n",
      "Yes\n"
     ]
    }
   ],
   "source": [
    "n = int(input())\n",
    "\n",
    "prev_t = 0 \n",
    "prev_x = 0\n",
    "prev_y = 0\n",
    "\n",
    "for i in range(n):\n",
    "    t,x,y = map(int, input().split())\n",
    "    if abs(((x - prev_x) + (y-prev_y))) > (t - prev_t) or ((x - prev_x) + (y-prev_y) + (t-prev_t)) %2 == 1: \n",
    "        print(\"No\")\n",
    "        exit()\n",
    "    prev_t = t \n",
    "    prev_x = x \n",
    "    prev_y = y\n",
    "print(\"Yes\")"
   ]
  },
  {
   "cell_type": "markdown",
   "id": "b4ff3f7b",
   "metadata": {},
   "source": [
    "## QuizKnock\n",
    "\n",
    "よし子さんは魚屋さんで次のそれぞれの魚をどれも1匹以上、ちょうど3600円分買いました。\n",
    "\n",
    "サバ（1匹あたり130円）\\\n",
    "アジ（1匹あたり170円）\\\n",
    "イワシ（1匹あたり78円）\\\n",
    "サンマ（1匹あたり104円）\n",
    "\n",
    "さて、よし子さんはあじを何匹買ったことになるでしょうか。"
   ]
  },
  {
   "cell_type": "code",
   "execution_count": 8,
   "id": "5592e86b",
   "metadata": {},
   "outputs": [
    {
     "name": "stdout",
     "output_type": "stream",
     "text": [
      "no\n",
      "no\n",
      "no\n",
      "no\n",
      "no\n",
      "no\n",
      "no\n",
      "no\n",
      "no\n",
      "no\n",
      "no\n",
      "no\n",
      "no\n",
      "no\n",
      "no\n",
      "no\n",
      "no\n",
      "no\n",
      "no\n",
      "no\n",
      "no\n",
      "no\n",
      "no\n",
      "no\n",
      "no\n",
      "no\n",
      "no\n",
      "no\n",
      "no\n",
      "no\n",
      "no\n",
      "no\n",
      "no\n",
      "no\n",
      "no\n",
      "no\n",
      "no\n",
      "no\n",
      "no\n",
      "no\n",
      "no\n",
      "no\n",
      "no\n",
      "no\n",
      "no\n",
      "no\n",
      "no\n"
     ]
    }
   ],
   "source": [
    "#let サバ = x, アジ=y, イワシ=z\n",
    "\n",
    "x = 0\n",
    "y = 0\n",
    "z = 0\n",
    "w = 0\n",
    "\n",
    "import math\n",
    "n = math.floor(3600/78)\n",
    "\n",
    "for i in range(n+1):\n",
    "    for j in range(x+1):\n",
    "        for k in range(y+1):\n",
    "            for l in range(z+1):\n",
    "                for m in range(w+1):\n",
    "                    if 130*x+170*y+78*z+104*w == 3600:\n",
    "                        print(\"yes\")\n",
    "                    else: \n",
    "                        print(\"no\")\n",
    "    "
   ]
  }
 ],
 "metadata": {
  "kernelspec": {
   "display_name": "Python 3",
   "language": "python",
   "name": "python3"
  },
  "language_info": {
   "codemirror_mode": {
    "name": "ipython",
    "version": 3
   },
   "file_extension": ".py",
   "mimetype": "text/x-python",
   "name": "python",
   "nbconvert_exporter": "python",
   "pygments_lexer": "ipython3",
   "version": "3.8.8"
  },
  "toc": {
   "base_numbering": 1,
   "nav_menu": {},
   "number_sections": true,
   "sideBar": true,
   "skip_h1_title": false,
   "title_cell": "Table of Contents",
   "title_sidebar": "Contents",
   "toc_cell": false,
   "toc_position": {
    "height": "calc(100% - 180px)",
    "left": "10px",
    "top": "150px",
    "width": "218px"
   },
   "toc_section_display": true,
   "toc_window_display": false
  }
 },
 "nbformat": 4,
 "nbformat_minor": 5
}
