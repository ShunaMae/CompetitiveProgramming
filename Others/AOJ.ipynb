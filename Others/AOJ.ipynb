{
 "cells": [
  {
   "cell_type": "markdown",
   "id": "1ee907b8",
   "metadata": {},
   "source": [
    "# 入門"
   ]
  },
  {
   "cell_type": "markdown",
   "id": "012ee8ed",
   "metadata": {},
   "source": [
    "## Rectangle"
   ]
  },
  {
   "cell_type": "code",
   "execution_count": 2,
   "id": "885adc92",
   "metadata": {},
   "outputs": [
    {
     "name": "stdout",
     "output_type": "stream",
     "text": [
      "3 4\n",
      "12 14\n"
     ]
    }
   ],
   "source": [
    "x,y = map(int, input().split())\n",
    "A = x*y\n",
    "B = (x+y)*2\n",
    "print(A,B)"
   ]
  },
  {
   "cell_type": "markdown",
   "id": "015e80ce",
   "metadata": {},
   "source": [
    "## Watch"
   ]
  },
  {
   "cell_type": "code",
   "execution_count": 9,
   "id": "f3986948",
   "metadata": {},
   "outputs": [
    {
     "name": "stdout",
     "output_type": "stream",
     "text": [
      "46979\n",
      "13:2:59\n"
     ]
    }
   ],
   "source": [
    "S = int(input())\n",
    "\n",
    "s = S%60\n",
    "M = S//60\n",
    "m = M%60\n",
    "H = M//60\n",
    "\n",
    "print(H,m,s, sep = \":\")"
   ]
  },
  {
   "cell_type": "markdown",
   "id": "becea673",
   "metadata": {},
   "source": [
    "# 条件分岐"
   ]
  },
  {
   "cell_type": "markdown",
   "id": "4edbcca3",
   "metadata": {},
   "source": [
    "## Small, large, or Equal "
   ]
  },
  {
   "cell_type": "code",
   "execution_count": 13,
   "id": "833048c2",
   "metadata": {},
   "outputs": [
    {
     "name": "stdout",
     "output_type": "stream",
     "text": [
      "3 4\n",
      "a < b\n"
     ]
    }
   ],
   "source": [
    "a,b = map(int, input().split())\n",
    "\n",
    "if a < b:\n",
    "    print(\"a < b\")\n",
    "elif a > b: \n",
    "    print(\"a > b\")\n",
    "else:\n",
    "    print(\"a == b\")"
   ]
  },
  {
   "cell_type": "markdown",
   "id": "50cbbe92",
   "metadata": {},
   "source": [
    "## Range"
   ]
  },
  {
   "cell_type": "code",
   "execution_count": 15,
   "id": "3b3c70cf",
   "metadata": {},
   "outputs": [
    {
     "name": "stdout",
     "output_type": "stream",
     "text": [
      "1 3 8\n",
      "Yes\n"
     ]
    }
   ],
   "source": [
    "a,b,c = map(int, input().split())\n",
    "if c > b and b > a: \n",
    "    print(\"Yes\")\n",
    "else: \n",
    "    print(\"No\")"
   ]
  },
  {
   "cell_type": "markdown",
   "id": "b5fde00a",
   "metadata": {},
   "source": [
    "## Sorting Three Numbers "
   ]
  },
  {
   "cell_type": "code",
   "execution_count": 19,
   "id": "f67a63c7",
   "metadata": {},
   "outputs": [
    {
     "name": "stdout",
     "output_type": "stream",
     "text": [
      "3 8 1\n",
      "1 3 8\n"
     ]
    }
   ],
   "source": [
    "A = list(map(int, input().split()))\n",
    "A.sort(reverse = False)\n",
    "print(*A)"
   ]
  },
  {
   "cell_type": "markdown",
   "id": "c7015521",
   "metadata": {},
   "source": [
    "## Circle in a Rectangle "
   ]
  },
  {
   "cell_type": "code",
   "execution_count": 25,
   "id": "4f6083d9",
   "metadata": {},
   "outputs": [
    {
     "name": "stdout",
     "output_type": "stream",
     "text": [
      "5 4 2 4 1\n",
      "No\n"
     ]
    }
   ],
   "source": [
    "w,h,x,y,r = map(int, input().split())\n",
    "\n",
    "if x >= r and x <= (w-r):\n",
    "    if y >= r and y <= (h-r):\n",
    "        print(\"Yes\")\n",
    "    else:\n",
    "        print(\"No\")\n",
    "else:\n",
    "    print(\"No\")"
   ]
  },
  {
   "cell_type": "markdown",
   "id": "e378b52c",
   "metadata": {},
   "source": [
    "# 繰り返し処理"
   ]
  },
  {
   "cell_type": "markdown",
   "id": "dc118684",
   "metadata": {},
   "source": [
    "## Print Test Cases"
   ]
  },
  {
   "cell_type": "code",
   "execution_count": 29,
   "id": "2be34d58",
   "metadata": {},
   "outputs": [
    {
     "name": "stdout",
     "output_type": "stream",
     "text": [
      "3\n",
      "Case 1: 3\n",
      "4\n",
      "Case 2: 4\n",
      "0\n"
     ]
    }
   ],
   "source": [
    "# https://note.nkmk.me/python-while-usage/ \n",
    "# whlile True\n",
    "\n",
    "count = 0 \n",
    "while True: \n",
    "    x = int(input())\n",
    "    count += 1\n",
    "    if x == 0:\n",
    "        break \n",
    "    print(\"Case \"+str(count)+\": \"+str(x))"
   ]
  },
  {
   "cell_type": "markdown",
   "id": "71f3cb98",
   "metadata": {},
   "source": [
    "## Swapping Two Numbers "
   ]
  },
  {
   "cell_type": "code",
   "execution_count": 30,
   "id": "d8d47233",
   "metadata": {},
   "outputs": [
    {
     "name": "stdout",
     "output_type": "stream",
     "text": [
      "3 2\n",
      "2 3\n",
      "0 0\n"
     ]
    }
   ],
   "source": [
    "while True:\n",
    "    A = list(map(int, input().split()))\n",
    "    if A == [0,0]:\n",
    "        break\n",
    "    A.sort(reverse = False)\n",
    "    print(*A)"
   ]
  },
  {
   "cell_type": "markdown",
   "id": "e6b9a64c",
   "metadata": {},
   "source": [
    "## How Many Divisors? "
   ]
  },
  {
   "cell_type": "code",
   "execution_count": 38,
   "id": "8f0e8b19",
   "metadata": {},
   "outputs": [
    {
     "name": "stdout",
     "output_type": "stream",
     "text": [
      "5 14 80\n",
      "3\n"
     ]
    }
   ],
   "source": [
    "x,y,z = map(int, input().split())\n",
    "\n",
    "A = []\n",
    "for i in range(x, y+1):\n",
    "    if z % i == 0:\n",
    "        A.append(i)\n",
    "print(len(A))    "
   ]
  },
  {
   "cell_type": "markdown",
   "id": "b107e2a7",
   "metadata": {},
   "source": [
    "# 計算"
   ]
  },
  {
   "cell_type": "markdown",
   "id": "5b99472f",
   "metadata": {},
   "source": [
    "## 割り算"
   ]
  },
  {
   "cell_type": "code",
   "execution_count": 8,
   "id": "695efe19",
   "metadata": {},
   "outputs": [
    {
     "name": "stdout",
     "output_type": "stream",
     "text": [
      "3 2\n",
      "1 1 1.500000\n"
     ]
    }
   ],
   "source": [
    "a,b = map(int, input().split())\n",
    "\n",
    "d = int(a // b)\n",
    "r = int(a % b)\n",
    "f = a/b\n",
    "\n",
    "print(d,r,f\"{f:6f}\")"
   ]
  },
  {
   "cell_type": "markdown",
   "id": "281e76e2",
   "metadata": {},
   "source": [
    "## 円の面積と円周"
   ]
  },
  {
   "cell_type": "code",
   "execution_count": 21,
   "id": "9945c22d",
   "metadata": {},
   "outputs": [
    {
     "name": "stdout",
     "output_type": "stream",
     "text": [
      "3\n",
      "28.274334 18.849556\n"
     ]
    }
   ],
   "source": [
    "#整数ではなく実数の入力なのに注意する\n",
    "r = float(input())\n",
    "from math import *\n",
    "#fプリフィクスによる小数の出力\n",
    "#https://www.headboost.jp/python-print-handle-number-of-digits/#1_print\n",
    "print(f\"{pi*r**2:6f}\", f\"{2*r*pi:6f}\")"
   ]
  },
  {
   "cell_type": "markdown",
   "id": "23314296",
   "metadata": {},
   "source": [
    "## 計算機"
   ]
  },
  {
   "cell_type": "code",
   "execution_count": 25,
   "id": "1f138565",
   "metadata": {},
   "outputs": [
    {
     "name": "stdout",
     "output_type": "stream",
     "text": [
      "3 + 2\n",
      "5\n",
      "4 - 3\n",
      "1\n",
      "9 * 6\n",
      "54\n",
      "4 / 2\n",
      "2\n",
      "9 ? 5\n"
     ]
    }
   ],
   "source": [
    "while True:\n",
    "    A = input().split()\n",
    "    a = int(A[0])\n",
    "    o = A[1]\n",
    "    b = int(A[2])\n",
    "    if o == \"?\":\n",
    "        break\n",
    "    elif o == \"+\":\n",
    "        print(a+b)\n",
    "    elif o == \"-\":\n",
    "        print(a-b)\n",
    "    elif o == \"*\":\n",
    "        print(a*b)\n",
    "    if o == \"/\":\n",
    "        print(a//b)"
   ]
  },
  {
   "cell_type": "markdown",
   "id": "43be50df",
   "metadata": {},
   "source": [
    "## 最小値、最大値、合計値"
   ]
  },
  {
   "cell_type": "code",
   "execution_count": 39,
   "id": "2bfa16b2",
   "metadata": {},
   "outputs": [
    {
     "name": "stdout",
     "output_type": "stream",
     "text": [
      "5\n",
      "10 1 5 4 17\n",
      "1 17 37\n"
     ]
    }
   ],
   "source": [
    "n = int(input())\n",
    "A = list(map(int, input().split()))\n",
    "\n",
    "             \n",
    "A.sort(reverse = False)\n",
    "minA = A[0]\n",
    "maxA = A[n-1]\n",
    "sumA = sum(A)\n",
    "\n",
    "print(minA, maxA, sumA)\n"
   ]
  },
  {
   "cell_type": "markdown",
   "id": "5a393f45",
   "metadata": {},
   "source": [
    "# 構造化プログラムI\n",
    "    "
   ]
  },
  {
   "cell_type": "markdown",
   "id": "d2a07271",
   "metadata": {},
   "source": [
    "## Print a Rectangle "
   ]
  },
  {
   "cell_type": "code",
   "execution_count": 44,
   "id": "e943be5a",
   "metadata": {},
   "outputs": [
    {
     "name": "stdout",
     "output_type": "stream",
     "text": [
      "3 4\n",
      "####\n",
      "####\n",
      "####\n",
      "\n",
      "0 0\n"
     ]
    }
   ],
   "source": [
    "while True:\n",
    "    h,w = map(int, input().split())\n",
    "    if h == 0 and w == 0:\n",
    "        break \n",
    "    for _ in range(h):\n",
    "        print(\"#\"*w)\n",
    "    print()"
   ]
  },
  {
   "cell_type": "markdown",
   "id": "88509eb6",
   "metadata": {},
   "source": [
    "## Print a frame\n"
   ]
  },
  {
   "cell_type": "code",
   "execution_count": 48,
   "id": "a2fba7b1",
   "metadata": {},
   "outputs": [
    {
     "name": "stdout",
     "output_type": "stream",
     "text": [
      "10 12\n",
      "############\n",
      "#..........#\n",
      "#..........#\n",
      "#..........#\n",
      "#..........#\n",
      "#..........#\n",
      "#..........#\n",
      "#..........#\n",
      "#..........#\n",
      "############\n",
      "\n",
      "0 0\n"
     ]
    }
   ],
   "source": [
    "while True: \n",
    "    h,w = map(int, input().split())\n",
    "    if h == 0 and w == 0:\n",
    "        break \n",
    "    for i in range(h):\n",
    "        if i == 0 or i == (h-1):\n",
    "            print(\"#\"*w)\n",
    "        else:\n",
    "            print(\"#\"+\".\"*(w-2)+\"#\")\n",
    "    print()\n",
    "        "
   ]
  },
  {
   "cell_type": "markdown",
   "id": "35f12e28",
   "metadata": {},
   "source": [
    "## Print a Chessboard"
   ]
  },
  {
   "cell_type": "code",
   "execution_count": 54,
   "id": "5e826802",
   "metadata": {},
   "outputs": [
    {
     "name": "stdout",
     "output_type": "stream",
     "text": [
      "6 10\n",
      "#.#.#.#.#.\n",
      ".#.#.#.#.#\n",
      "#.#.#.#.#.\n",
      ".#.#.#.#.#\n",
      "#.#.#.#.#.\n",
      ".#.#.#.#.#\n",
      "\n",
      "0 0\n"
     ]
    }
   ],
   "source": [
    "while True: \n",
    "    h,w = map(int, input().split())\n",
    "    if h == 0 and w == 0:\n",
    "        break \n",
    "    for i in range(h):\n",
    "        for j in range(w):\n",
    "            if (j+i)%2 == 0:\n",
    "                print(\"#\", end = \"\")\n",
    "            else:print(\".\", end = \"\")\n",
    "        print()\n",
    "    print()\n",
    "#print()で一回出力の区切りになる"
   ]
  },
  {
   "cell_type": "markdown",
   "id": "401aeb68",
   "metadata": {},
   "source": [
    "## Structured Programming "
   ]
  },
  {
   "cell_type": "code",
   "execution_count": 66,
   "id": "97b6fa8c",
   "metadata": {},
   "outputs": [
    {
     "name": "stdout",
     "output_type": "stream",
     "text": [
      "60\n",
      " 3 6 9 12 13 15 18 21 23 24 27 30 31 32 33 34 35 36 37 38 39 42 43 45 48 51 53 54 57 60\n"
     ]
    }
   ],
   "source": [
    "N = int(input())\n",
    "x = 0\n",
    "\n",
    "for i in range(1,N+1):\n",
    "    if i%3 == 0:\n",
    "        print(\" %d\"%i,end = \"\");\n",
    "    else:\n",
    "        x = i\n",
    "        while (x):\n",
    "            if x%10 == 3:\n",
    "                print(\" %d\"%i,end = \"\")\n",
    "                break\n",
    "            x //= 10\n",
    "print()"
   ]
  },
  {
   "cell_type": "markdown",
   "id": "1f1dd50b",
   "metadata": {},
   "source": [
    "# 配列"
   ]
  },
  {
   "cell_type": "markdown",
   "id": "b691fed4",
   "metadata": {},
   "source": [
    "## 数列の反転"
   ]
  },
  {
   "cell_type": "code",
   "execution_count": 70,
   "id": "eb718bcb",
   "metadata": {},
   "outputs": [
    {
     "name": "stdout",
     "output_type": "stream",
     "text": [
      "5\n",
      "1 2 3 4 5\n",
      "5 4 3 2 1\n"
     ]
    }
   ],
   "source": [
    "n = int(input())\n",
    "A = list(map(int, input().split()))\n",
    "\n",
    "A.reverse()\n",
    "print(*A)"
   ]
  },
  {
   "cell_type": "markdown",
   "id": "0ddcd6b5",
   "metadata": {},
   "source": [
    "## Finding Missing Cards "
   ]
  },
  {
   "cell_type": "code",
   "execution_count": 72,
   "id": "849ecd97",
   "metadata": {},
   "outputs": [
    {
     "name": "stdout",
     "output_type": "stream",
     "text": [
      "1\n",
      "s 1\n",
      "S 1\n",
      "S 2\n",
      "S 3\n",
      "S 4\n",
      "S 5\n",
      "S 6\n",
      "S 7\n",
      "S 8\n",
      "S 9\n",
      "S 10\n",
      "S 11\n",
      "S 12\n",
      "S 13\n",
      "H 1\n",
      "H 2\n",
      "H 3\n",
      "H 4\n",
      "H 5\n",
      "H 6\n",
      "H 7\n",
      "H 8\n",
      "H 9\n",
      "H 10\n",
      "H 11\n",
      "H 12\n",
      "H 13\n",
      "C 1\n",
      "C 2\n",
      "C 3\n",
      "C 4\n",
      "C 5\n",
      "C 6\n",
      "C 7\n",
      "C 8\n",
      "C 9\n",
      "C 10\n",
      "C 11\n",
      "C 12\n",
      "C 13\n",
      "D 1\n",
      "D 2\n",
      "D 3\n",
      "D 4\n",
      "D 5\n",
      "D 6\n",
      "D 7\n",
      "D 8\n",
      "D 9\n",
      "D 10\n",
      "D 11\n",
      "D 12\n",
      "D 13\n"
     ]
    }
   ],
   "source": [
    "cards = []\n",
    "suit = [\"S\", \"H\", \"C\", \"D\"]\n",
    "n = int(input())\n",
    "\n",
    "for i in range(n):\n",
    "    s,r = input().split()\n",
    "    r = int(r)\n",
    "    if s == \"S\":cards.append(0+r)\n",
    "    elif s == \"H\": cards.append(13+r)\n",
    "    elif s == \"C\": cards.append(26+r)\n",
    "    elif s == \"D\": cards.append(39+r)\n",
    "for i in range(1,53): \n",
    "    if not (i in cards):\n",
    "        print(suit[(i-1)//13], (i-1)%13+1)\n",
    "    "
   ]
  },
  {
   "cell_type": "markdown",
   "id": "8e574393",
   "metadata": {},
   "source": [
    "## 公舎の入居数"
   ]
  },
  {
   "cell_type": "code",
   "execution_count": 79,
   "id": "03235b22",
   "metadata": {},
   "outputs": [
    {
     "ename": "KeyboardInterrupt",
     "evalue": "Interrupted by user",
     "output_type": "error",
     "traceback": [
      "\u001b[1;31m---------------------------------------------------------------------------\u001b[0m",
      "\u001b[1;31mKeyboardInterrupt\u001b[0m                         Traceback (most recent call last)",
      "\u001b[1;32m<ipython-input-79-033e356371b3>\u001b[0m in \u001b[0;36m<module>\u001b[1;34m\u001b[0m\n\u001b[0;32m      1\u001b[0m \u001b[0mbuilding\u001b[0m \u001b[1;33m=\u001b[0m \u001b[1;33m[\u001b[0m\u001b[1;33m[\u001b[0m\u001b[1;33m[\u001b[0m\u001b[1;36m0\u001b[0m\u001b[1;33m]\u001b[0m\u001b[1;33m*\u001b[0m\u001b[1;36m10\u001b[0m \u001b[1;32mfor\u001b[0m \u001b[0mi\u001b[0m \u001b[1;32min\u001b[0m \u001b[0mrange\u001b[0m\u001b[1;33m(\u001b[0m\u001b[1;36m3\u001b[0m\u001b[1;33m)\u001b[0m\u001b[1;33m]\u001b[0m \u001b[1;32mfor\u001b[0m \u001b[0mk\u001b[0m \u001b[1;32min\u001b[0m \u001b[0mrange\u001b[0m\u001b[1;33m(\u001b[0m\u001b[1;36m4\u001b[0m\u001b[1;33m)\u001b[0m\u001b[1;33m]\u001b[0m\u001b[1;33m\u001b[0m\u001b[1;33m\u001b[0m\u001b[0m\n\u001b[1;32m----> 2\u001b[1;33m \u001b[0mN\u001b[0m \u001b[1;33m=\u001b[0m \u001b[0mint\u001b[0m\u001b[1;33m(\u001b[0m\u001b[0minput\u001b[0m\u001b[1;33m(\u001b[0m\u001b[1;33m)\u001b[0m\u001b[1;33m)\u001b[0m\u001b[1;33m\u001b[0m\u001b[1;33m\u001b[0m\u001b[0m\n\u001b[0m\u001b[0;32m      3\u001b[0m \u001b[1;33m\u001b[0m\u001b[0m\n\u001b[0;32m      4\u001b[0m \u001b[1;32mfor\u001b[0m \u001b[0m_\u001b[0m \u001b[1;32min\u001b[0m \u001b[0mrange\u001b[0m\u001b[1;33m(\u001b[0m\u001b[0mN\u001b[0m\u001b[1;33m)\u001b[0m\u001b[1;33m:\u001b[0m\u001b[1;33m\u001b[0m\u001b[1;33m\u001b[0m\u001b[0m\n\u001b[0;32m      5\u001b[0m     \u001b[0mh\u001b[0m\u001b[1;33m,\u001b[0m\u001b[0mf\u001b[0m\u001b[1;33m,\u001b[0m\u001b[0mr\u001b[0m\u001b[1;33m,\u001b[0m\u001b[0madd\u001b[0m \u001b[1;33m=\u001b[0m \u001b[0mmap\u001b[0m\u001b[1;33m(\u001b[0m\u001b[0mint\u001b[0m\u001b[1;33m,\u001b[0m \u001b[0minput\u001b[0m\u001b[1;33m(\u001b[0m\u001b[1;33m)\u001b[0m\u001b[1;33m.\u001b[0m\u001b[0msplit\u001b[0m\u001b[1;33m(\u001b[0m\u001b[1;33m)\u001b[0m\u001b[1;33m)\u001b[0m\u001b[1;33m\u001b[0m\u001b[1;33m\u001b[0m\u001b[0m\n",
      "\u001b[1;32m~\\anaconda3\\lib\\site-packages\\ipykernel\\kernelbase.py\u001b[0m in \u001b[0;36mraw_input\u001b[1;34m(self, prompt)\u001b[0m\n\u001b[0;32m    858\u001b[0m                 \u001b[1;34m\"raw_input was called, but this frontend does not support input requests.\"\u001b[0m\u001b[1;33m\u001b[0m\u001b[1;33m\u001b[0m\u001b[0m\n\u001b[0;32m    859\u001b[0m             )\n\u001b[1;32m--> 860\u001b[1;33m         return self._input_request(str(prompt),\n\u001b[0m\u001b[0;32m    861\u001b[0m             \u001b[0mself\u001b[0m\u001b[1;33m.\u001b[0m\u001b[0m_parent_ident\u001b[0m\u001b[1;33m,\u001b[0m\u001b[1;33m\u001b[0m\u001b[1;33m\u001b[0m\u001b[0m\n\u001b[0;32m    862\u001b[0m             \u001b[0mself\u001b[0m\u001b[1;33m.\u001b[0m\u001b[0m_parent_header\u001b[0m\u001b[1;33m,\u001b[0m\u001b[1;33m\u001b[0m\u001b[1;33m\u001b[0m\u001b[0m\n",
      "\u001b[1;32m~\\anaconda3\\lib\\site-packages\\ipykernel\\kernelbase.py\u001b[0m in \u001b[0;36m_input_request\u001b[1;34m(self, prompt, ident, parent, password)\u001b[0m\n\u001b[0;32m    902\u001b[0m             \u001b[1;32mexcept\u001b[0m \u001b[0mKeyboardInterrupt\u001b[0m\u001b[1;33m:\u001b[0m\u001b[1;33m\u001b[0m\u001b[1;33m\u001b[0m\u001b[0m\n\u001b[0;32m    903\u001b[0m                 \u001b[1;31m# re-raise KeyboardInterrupt, to truncate traceback\u001b[0m\u001b[1;33m\u001b[0m\u001b[1;33m\u001b[0m\u001b[1;33m\u001b[0m\u001b[0m\n\u001b[1;32m--> 904\u001b[1;33m                 \u001b[1;32mraise\u001b[0m \u001b[0mKeyboardInterrupt\u001b[0m\u001b[1;33m(\u001b[0m\u001b[1;34m\"Interrupted by user\"\u001b[0m\u001b[1;33m)\u001b[0m \u001b[1;32mfrom\u001b[0m \u001b[1;32mNone\u001b[0m\u001b[1;33m\u001b[0m\u001b[1;33m\u001b[0m\u001b[0m\n\u001b[0m\u001b[0;32m    905\u001b[0m             \u001b[1;32mexcept\u001b[0m \u001b[0mException\u001b[0m \u001b[1;32mas\u001b[0m \u001b[0me\u001b[0m\u001b[1;33m:\u001b[0m\u001b[1;33m\u001b[0m\u001b[1;33m\u001b[0m\u001b[0m\n\u001b[0;32m    906\u001b[0m                 \u001b[0mself\u001b[0m\u001b[1;33m.\u001b[0m\u001b[0mlog\u001b[0m\u001b[1;33m.\u001b[0m\u001b[0mwarning\u001b[0m\u001b[1;33m(\u001b[0m\u001b[1;34m\"Invalid Message:\"\u001b[0m\u001b[1;33m,\u001b[0m \u001b[0mexc_info\u001b[0m\u001b[1;33m=\u001b[0m\u001b[1;32mTrue\u001b[0m\u001b[1;33m)\u001b[0m\u001b[1;33m\u001b[0m\u001b[1;33m\u001b[0m\u001b[0m\n",
      "\u001b[1;31mKeyboardInterrupt\u001b[0m: Interrupted by user"
     ]
    }
   ],
   "source": [
    "building = [[[0]*10 for i in range(3)] for k in range(4)]\n",
    "N = int(input())\n",
    "\n",
    "for _ in range(N):\n",
    "    h,f,r,add = map(int, input().split())\n",
    "    building[h-1][f-1][r-1] += add\n",
    "x = 0\n",
    "for i in range(4): \n",
    "    if x != 0: \n",
    "        print(\"#\"*20)\n",
    "    x += 1\n",
    "    \n",
    "    for j in range(3):\n",
    "        for k in range(10):\n",
    "            print(building[i][j][k], end = \"\")\n",
    "        print()\n",
    "        "
   ]
  },
  {
   "cell_type": "markdown",
   "id": "cc43d7a3",
   "metadata": {},
   "source": [
    "## Multiplying Vector and Series "
   ]
  },
  {
   "cell_type": "code",
   "execution_count": 100,
   "id": "23196e3f",
   "metadata": {},
   "outputs": [
    {
     "name": "stdout",
     "output_type": "stream",
     "text": [
      "3 4\n",
      "1 2 0 1\n",
      "0 3 0 1\n",
      "4 1 1 0\n",
      "1\n",
      "2\n",
      "3\n",
      "0\n",
      "5\n",
      "6\n",
      "9\n"
     ]
    }
   ],
   "source": [
    "n,m = map(int, input().split())\n",
    "\n",
    "A = [[] for _ in range(n)]\n",
    "for i in range(n):\n",
    "    A[i] = list(map(int, input().split()))\n",
    "\n",
    "B = [int(input()) for _ in range(m)]\n",
    "\n",
    "for j in range(n):\n",
    "    x = 0\n",
    "    for k in range(m):\n",
    "        x += A[j][k]*B[k]\n",
    "    print(x)\n"
   ]
  },
  {
   "cell_type": "markdown",
   "id": "ad1c1379",
   "metadata": {},
   "source": [
    "# 構造化プログラムII"
   ]
  },
  {
   "cell_type": "markdown",
   "id": "b6fe779f",
   "metadata": {},
   "source": [
    "## Grades"
   ]
  },
  {
   "cell_type": "code",
   "execution_count": 110,
   "id": "8e5f1cca",
   "metadata": {},
   "outputs": [
    {
     "name": "stdout",
     "output_type": "stream",
     "text": [
      "-1 -1 -1\n"
     ]
    }
   ],
   "source": [
    "while True: \n",
    "    m, f, r = map(int, input().split())\n",
    "    if m == -1 and f == -1 and r == -1:\n",
    "        break \n",
    "    x = m+f\n",
    "    if m == -1 or f == -1:\n",
    "        print(\"F\")\n",
    "    elif x >= 80:\n",
    "        print(\"A\")\n",
    "    elif x >= 65: \n",
    "        print(\"B\")\n",
    "    elif x >= 50:\n",
    "        print(\"C\")\n",
    "    elif x >= 30: \n",
    "        if r >= 50: \n",
    "            print(\"C\")\n",
    "        else: \n",
    "            print(\"D\")\n",
    "    else:\n",
    "        print(\"F\")\n",
    "    "
   ]
  },
  {
   "cell_type": "markdown",
   "id": "df709271",
   "metadata": {},
   "source": [
    "## How many ways? "
   ]
  },
  {
   "cell_type": "code",
   "execution_count": 122,
   "id": "2237cdf4",
   "metadata": {},
   "outputs": [
    {
     "name": "stdout",
     "output_type": "stream",
     "text": [
      "5 9\n",
      "2\n",
      "0 0\n"
     ]
    }
   ],
   "source": [
    "while True:\n",
    "    n, x = map(int, input().split())\n",
    "    if n == 0 and x == 0:\n",
    "        break\n",
    "    count = 0\n",
    "    for i in range(1, n+1):\n",
    "        for j in range(i+1, n+1):\n",
    "            for k in range(j+1, n+1):\n",
    "                if i + j + k == x:\n",
    "                    count += 1\n",
    "    print(count)                  "
   ]
  },
  {
   "cell_type": "markdown",
   "id": "3e3ec20a",
   "metadata": {},
   "source": [
    "## Spreadsheet "
   ]
  },
  {
   "cell_type": "code",
   "execution_count": 8,
   "id": "932800ad",
   "metadata": {},
   "outputs": [
    {
     "name": "stdout",
     "output_type": "stream",
     "text": [
      "4 5\n",
      "1 1 3 4 5\n",
      "2 2 2 4 5\n",
      "3 3 0 1 1\n",
      "2 3 4 4 6\n",
      "1 1 3 4 5 14\n",
      "2 2 2 4 5 15\n",
      "3 3 0 1 1 8\n",
      "2 3 4 4 6 19\n",
      "8 9 9 13 17 56\n"
     ]
    }
   ],
   "source": [
    "#https://tysonblog-whitelabel.com/aizu-online-judge-itp1_7_c\n",
    "\n",
    "row, column = map(int, input().split())\n",
    "\n",
    "S = [[] for _ in range(row)]\n",
    "for i in range(row):\n",
    "    S[i] = list(map(int, input().split()))\n",
    "\n",
    "for j in range(row):\n",
    "    x = sum(S[j])\n",
    "    S[j].append(x)\n",
    "\n",
    "C = [0]*(column + 1)\n",
    "for k in range(column+1):\n",
    "    for l in range(row):\n",
    "        C[k] += S[l][k]\n",
    "\n",
    "for _ in range(row):\n",
    "    print(*S[_])\n",
    "print(*C)\n",
    "    "
   ]
  },
  {
   "cell_type": "markdown",
   "id": "a5853fd7",
   "metadata": {},
   "source": [
    "##  Multiple Multiplication"
   ]
  },
  {
   "cell_type": "code",
   "execution_count": 12,
   "id": "a6c26bed",
   "metadata": {},
   "outputs": [
    {
     "name": "stdout",
     "output_type": "stream",
     "text": [
      "3 2 3\n",
      "1 2\n",
      "0 3\n",
      "4 5\n",
      "1 2 1\n",
      "0 3 2\n",
      "1 8 5\n",
      "0 9 6\n",
      "4 23 14\n"
     ]
    }
   ],
   "source": [
    "n,m,l  = map(int, input().split())\n",
    "\n",
    "A = [[] for _ in range(n)]\n",
    "B = [[] for _ in range(m)]\n",
    "\n",
    "for i in range(n):\n",
    "    A[i] = list(map(int, input().split()))\n",
    "for j in range(m):\n",
    "    B[j] = list(map(int, input().split()))\n",
    "\n",
    "C = [[0]*l for _ in range(n)]\n",
    "for i in range(n):\n",
    "    for j in range(l):\n",
    "        for k in range(m):\n",
    "            C[i][j] += (A[i][k]*B[k][j])\n",
    "\n",
    "for p in range(n):\n",
    "    print(*C[p])"
   ]
  },
  {
   "cell_type": "markdown",
   "id": "a81b9d7d",
   "metadata": {},
   "source": [
    "# 文字"
   ]
  },
  {
   "cell_type": "markdown",
   "id": "4c31f461",
   "metadata": {},
   "source": [
    "## Toggling Cases"
   ]
  },
  {
   "cell_type": "code",
   "execution_count": 13,
   "id": "0a84062c",
   "metadata": {},
   "outputs": [
    {
     "name": "stdout",
     "output_type": "stream",
     "text": [
      "fAIR, LATER, OCCASIONALLY CLOUDY.\n",
      "Fair, later, occasionally cloudy.\n"
     ]
    }
   ],
   "source": [
    "#大文字小文字の入れ替え\n",
    "#https://note.nkmk.me/python-capitalize-lower-upper-title/\n",
    "A = str(input())\n",
    "print(A.swapcase())"
   ]
  },
  {
   "cell_type": "markdown",
   "id": "4052cfa7",
   "metadata": {},
   "source": [
    "## Sum of numbers \n",
    "\n",
    "https://www.delftstack.com/ja/howto/python/split-integer-into-digits-python/#map-%25E3%2581%258A%25E3%2582%2588%25E3%2581%25B3-str.split-%25E9%2596%25A2%25E6%2595%25B0%25E3%2582%2592%25E4%25BD%25BF%25E7%2594%25A8%25E3%2581%2597%25E3%2581%25A6python-%25E3%2581%25A7%25E6%2595%25B4%25E6%2595%25B0%25E3%2582%2592%25E6%2595%25B0%25E5%25AD%2597%25E3%2581%25AB%25E5%2588%2586%25E5%2589%25B2%25E3%2581%2599%25E3%2582%258B"
   ]
  },
  {
   "cell_type": "code",
   "execution_count": 14,
   "id": "66f691fa",
   "metadata": {
    "scrolled": true
   },
   "outputs": [
    {
     "name": "stdout",
     "output_type": "stream",
     "text": [
      "123\n",
      "6\n",
      "55\n",
      "10\n",
      "1000\n",
      "1\n",
      "0\n"
     ]
    }
   ],
   "source": [
    "#整数を分解する\n",
    "while True: \n",
    "    x = int(input())\n",
    "    if x == 0:\n",
    "        break\n",
    "    y = [int(a) for a in str(x)]\n",
    "    z = sum(y)\n",
    "    print(z)\n",
    "    "
   ]
  },
  {
   "cell_type": "markdown",
   "id": "6d5a1021",
   "metadata": {},
   "source": [
    "## Counting Characters "
   ]
  },
  {
   "cell_type": "code",
   "execution_count": 1,
   "id": "36f63eb0",
   "metadata": {},
   "outputs": [],
   "source": [
    "# count = [0 for _ in range(26)]\n",
    "# while True:\n",
    "#     try:\n",
    "#         s = input()\n",
    "#     except:\n",
    "#         break\n",
    "#     s.lower()\n",
    "#     for i in range(len(s)):\n",
    "#         m = ord(s[i]) - ord(\"A\")\n",
    "#         if (m >= 0 and m < 26):\n",
    "#             count[m] += 1\n",
    "#         exit()\n",
    "# for j in range(26):\n",
    "#     print(chr(i+ord('a')), \":\", count[i])\n",
    "    \n"
   ]
  },
  {
   "cell_type": "code",
   "execution_count": 29,
   "id": "3ca74e15",
   "metadata": {
    "scrolled": true
   },
   "outputs": [
    {
     "name": "stdout",
     "output_type": "stream",
     "text": [
      "This is a pen\n",
      "a : 1\n",
      "b : 0\n",
      "c : 0\n",
      "d : 0\n",
      "e : 1\n",
      "f : 0\n",
      "g : 0\n",
      "h : 1\n",
      "i : 2\n",
      "j : 0\n",
      "k : 0\n",
      "l : 0\n",
      "m : 0\n",
      "n : 1\n",
      "o : 0\n",
      "p : 1\n",
      "q : 0\n",
      "r : 0\n",
      "s : 2\n",
      "t : 1\n",
      "u : 0\n",
      "v : 0\n",
      "w : 0\n",
      "x : 0\n",
      "y : 0\n",
      "z : 0\n"
     ]
    }
   ],
   "source": [
    "alf=[0]*26\n",
    "while True:\n",
    "    try:\n",
    "        str=input().lower()\n",
    "    except:\n",
    "        break\n",
    "    for c in str:\n",
    "        if 'a'<=c and c<='z':\n",
    "            alf[ord(c)-ord(\"a\")]+=1\n",
    "\n",
    "for i in range(26):\n",
    "    print(chr(ord(\"a\")+i),\":\",alf[i])\n"
   ]
  },
  {
   "cell_type": "markdown",
   "id": "277f4be9",
   "metadata": {},
   "source": [
    "## Ring"
   ]
  },
  {
   "cell_type": "code",
   "execution_count": 6,
   "id": "6cbd3d25",
   "metadata": {},
   "outputs": [
    {
     "name": "stdout",
     "output_type": "stream",
     "text": [
      "abdnfg\n",
      "anfg\n",
      "No\n"
     ]
    }
   ],
   "source": [
    "s = input()*2\n",
    "p = input()\n",
    "\n",
    "print(\"Yes\" if p in s else \"No\")\n",
    "    "
   ]
  },
  {
   "cell_type": "markdown",
   "id": "12a24b44",
   "metadata": {},
   "source": [
    "# 文字列"
   ]
  },
  {
   "cell_type": "markdown",
   "id": "e722aee5",
   "metadata": {},
   "source": [
    "## Finding a Word"
   ]
  },
  {
   "cell_type": "code",
   "execution_count": 22,
   "id": "83e74499",
   "metadata": {},
   "outputs": [
    {
     "name": "stdout",
     "output_type": "stream",
     "text": [
      "like\n",
      "I like everything about you like literally everything\n",
      "END_OF_TEXT\n",
      "2\n"
     ]
    }
   ],
   "source": [
    "w = input().lower()\n",
    "count = 0\n",
    "\n",
    "while 1:\n",
    "    t = input()\n",
    "    if t == \"END_OF_TEXT\":\n",
    "        break \n",
    "    count += t.lower().split().count(w)\n",
    "print(count)"
   ]
  },
  {
   "cell_type": "markdown",
   "id": "9e962d71",
   "metadata": {},
   "source": [
    "## Shuffle\n"
   ]
  },
  {
   "cell_type": "code",
   "execution_count": 25,
   "id": "1beb7f13",
   "metadata": {},
   "outputs": [
    {
     "name": "stdout",
     "output_type": "stream",
     "text": [
      "abcdefghij\n",
      "5\n",
      "3\n",
      "4\n",
      "5\n",
      "6\n",
      "7\n",
      "fghijabcde\n",
      "-\n"
     ]
    }
   ],
   "source": [
    "while True: \n",
    "    m = input()\n",
    "    if m == \"-\":\n",
    "        break\n",
    "    n = int(input())\n",
    "    for j in range(n):\n",
    "        h = int(input())\n",
    "        m = m[h:] + m[:h]\n",
    "    print(m)\n",
    "        \n",
    "    "
   ]
  },
  {
   "cell_type": "markdown",
   "id": "2f41950f",
   "metadata": {},
   "source": [
    "## Card Game"
   ]
  },
  {
   "cell_type": "code",
   "execution_count": 27,
   "id": "c6023b42",
   "metadata": {},
   "outputs": [
    {
     "name": "stdout",
     "output_type": "stream",
     "text": [
      "3\n",
      "cat dog\n",
      "fish fish\n",
      "lion tiger\n",
      "1 7\n"
     ]
    }
   ],
   "source": [
    "n = int(input())\n",
    "x = 0\n",
    "y = 0\n",
    "\n",
    "for i in range(n):\n",
    "    a,b = input().split()\n",
    "    if a < b:\n",
    "        y += 3\n",
    "    elif a == b:\n",
    "        x += 1\n",
    "        y += 1\n",
    "    else:\n",
    "        x += 3\n",
    "print(x,y)"
   ]
  },
  {
   "cell_type": "markdown",
   "id": "fddd549c",
   "metadata": {},
   "source": [
    "## Transformation "
   ]
  },
  {
   "cell_type": "code",
   "execution_count": 29,
   "id": "331afcd3",
   "metadata": {},
   "outputs": [
    {
     "name": "stdout",
     "output_type": "stream",
     "text": [
      "abcde\n",
      "3\n",
      "replace 1 3 xyz\n",
      "reverse 0 2\n",
      "print 1 4\n",
      "xaze\n"
     ]
    }
   ],
   "source": [
    "s = list(input())\n",
    "q = int(input())\n",
    "\n",
    "for i in range(q):\n",
    "    command, a,b,*c = input().split()\n",
    "    a = int(a)\n",
    "    b = int(b)\n",
    "    if command == \"print\":\n",
    "        # sep = \"\" で出力の際の間隔がなくなる\n",
    "        print(*s[a:b+1], sep = \"\")\n",
    "    elif command == \"reverse\":\n",
    "        s[a:b+1] = reversed(s[a:b+1])\n",
    "    else:\n",
    "        s[a:b+1] = c[0]\n"
   ]
  },
  {
   "cell_type": "markdown",
   "id": "cd42885b",
   "metadata": {},
   "source": [
    "# Function \n",
    "\n"
   ]
  },
  {
   "cell_type": "markdown",
   "id": "98528fc8",
   "metadata": {},
   "source": [
    "## Distance"
   ]
  },
  {
   "cell_type": "code",
   "execution_count": 35,
   "id": "76f9aae6",
   "metadata": {},
   "outputs": [
    {
     "name": "stdout",
     "output_type": "stream",
     "text": [
      "0 0 1 1\n",
      "1.414214\n"
     ]
    }
   ],
   "source": [
    "x1, y1, x2, y2 = map(float, input().split())\n",
    "a = ((x1-x2)**2 + (y1-y2)**2)**(1/2)\n",
    "print(f\"{a:8f}\")\n"
   ]
  },
  {
   "cell_type": "markdown",
   "id": "1374e55e",
   "metadata": {},
   "source": [
    "## Triangle "
   ]
  },
  {
   "cell_type": "code",
   "execution_count": 43,
   "id": "84471cd3",
   "metadata": {},
   "outputs": [
    {
     "name": "stdout",
     "output_type": "stream",
     "text": [
      "4 3 90\n",
      "6.000000\n",
      "12.000000\n",
      "3.000000\n"
     ]
    }
   ],
   "source": [
    "a,b,d = map(int, input().split())\n",
    "from math import *\n",
    "d = radians(d)\n",
    "\n",
    "# area\n",
    "S = a*b*sin(d)*(1/2)\n",
    "\n",
    "# perimeter\n",
    "c = (a**2 + b**2 - 2*a*b*cos(d))**(1/2)\n",
    "L = a + b + c\n",
    "\n",
    "# height \n",
    "h = b * sin(d)\n",
    "\n",
    "print(f\"{S:8f}\")\n",
    "print(f\"{L:8f}\")\n",
    "print(f\"{h:8f}\")\n"
   ]
  },
  {
   "cell_type": "markdown",
   "id": "d282c20f",
   "metadata": {},
   "source": [
    "## Standard Deviation "
   ]
  },
  {
   "cell_type": "code",
   "execution_count": 56,
   "id": "0e8794cb",
   "metadata": {},
   "outputs": [
    {
     "name": "stdout",
     "output_type": "stream",
     "text": [
      "5\n",
      "20 70 80 90 100\n",
      "27.856777\n",
      "3\n",
      "80 80 80\n",
      "0.000000\n",
      "0\n"
     ]
    }
   ],
   "source": [
    "#AOJではnumpyは使えない\n",
    "import numpy as np\n",
    "while 1: \n",
    "    n = int(input())\n",
    "    if n == 0:\n",
    "        break \n",
    "    s = list(map(int, input().split()))\n",
    "    m = np.mean(s)\n",
    "    s_sum = 0\n",
    "    for i in range(n):\n",
    "        s_sum += (s[i] - m)**2\n",
    "    var = s_sum/len(s)\n",
    "    print(f\"{var**(1/2):8f}\")"
   ]
  },
  {
   "cell_type": "code",
   "execution_count": 57,
   "id": "dc1be09f",
   "metadata": {},
   "outputs": [
    {
     "name": "stdout",
     "output_type": "stream",
     "text": [
      "5\n",
      "70 80 100 90 20\n",
      "27.856777\n",
      "3 \n",
      "80 80 80 \n",
      "0.000000\n",
      "0\n"
     ]
    }
   ],
   "source": [
    "from statistics import *\n",
    "while 1: \n",
    "    n = int(input())\n",
    "    if n == 0:\n",
    "        break \n",
    "    s = list(map(int, input().split()))\n",
    "    m = mean(s)\n",
    "    s_sum = 0\n",
    "    for i in range(n):\n",
    "        s_sum += (s[i] - m)**2\n",
    "    var = s_sum/len(s)\n",
    "    print(f\"{var**(1/2):8f}\")"
   ]
  },
  {
   "cell_type": "markdown",
   "id": "a1ad6900",
   "metadata": {},
   "source": [
    "## ミンコフスキー距離"
   ]
  },
  {
   "cell_type": "code",
   "execution_count": 60,
   "id": "e62aa841",
   "metadata": {},
   "outputs": [
    {
     "name": "stdout",
     "output_type": "stream",
     "text": [
      "3\n",
      "1 2 3\n",
      "2 0 4\n",
      "4.000000\n",
      "2.449490\n",
      "2.154435\n",
      "2.000000\n"
     ]
    }
   ],
   "source": [
    "n = int(input())\n",
    "x = list(map(int, input().split()))\n",
    "y = list(map(int, input().split()))\n",
    "\n",
    "# p = 1\n",
    "M = 0\n",
    "for i in range(n):\n",
    "    M += abs(x[i]-y[i])\n",
    "print(f\"{M:8f}\")\n",
    "\n",
    "#p=2\n",
    "sq_E = 0\n",
    "for i in range(n):\n",
    "    sq_E += (abs(x[i]-y[i]))**2\n",
    "print(f\"{sq_E**(1/2):8f}\")\n",
    "\n",
    "#p=3\n",
    "ans = 0\n",
    "for i in range(n):\n",
    "    ans += (abs(x[i]-y[i]))**3\n",
    "print(f\"{ans**(1/3):8f}\")\n",
    "\n",
    "#p=inf\n",
    "C = []\n",
    "for i in range(n):\n",
    "    j = abs(x[i]-y[i])\n",
    "    C.append(j)\n",
    "print(f\"{max(C):8f}\")\n",
    "    "
   ]
  }
 ],
 "metadata": {
  "kernelspec": {
   "display_name": "Python 3",
   "language": "python",
   "name": "python3"
  },
  "language_info": {
   "codemirror_mode": {
    "name": "ipython",
    "version": 3
   },
   "file_extension": ".py",
   "mimetype": "text/x-python",
   "name": "python",
   "nbconvert_exporter": "python",
   "pygments_lexer": "ipython3",
   "version": "3.8.8"
  },
  "toc": {
   "base_numbering": 1,
   "nav_menu": {},
   "number_sections": true,
   "sideBar": true,
   "skip_h1_title": false,
   "title_cell": "Table of Contents",
   "title_sidebar": "Contents",
   "toc_cell": false,
   "toc_position": {
    "height": "calc(100% - 180px)",
    "left": "10px",
    "top": "150px",
    "width": "256px"
   },
   "toc_section_display": true,
   "toc_window_display": true
  }
 },
 "nbformat": 4,
 "nbformat_minor": 5
}
