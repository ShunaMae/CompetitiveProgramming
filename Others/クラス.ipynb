{
 "cells": [
  {
   "cell_type": "code",
   "execution_count": 38,
   "id": "42c8f57a",
   "metadata": {},
   "outputs": [],
   "source": [
    "class Person: \n",
    "    #initialize\n",
    "    def __init__(self, name, nationality, age):\n",
    "        self.name = name\n",
    "        self.nationality = nationality \n",
    "        self.age = age   \n",
    "    def __call__(self):\n",
    "        print(\"This is a call method.\")\n",
    "    def say_hello(self,name):\n",
    "        print(\"hello, {}. My name is {}.\".format(name,self.name))"
   ]
  },
  {
   "cell_type": "code",
   "execution_count": 39,
   "id": "c4fbf55b",
   "metadata": {},
   "outputs": [],
   "source": [
    "#インスタンス化、実体化\n",
    "shuna = Person(\"Shuna\",\"Japanese\", 21)"
   ]
  },
  {
   "cell_type": "code",
   "execution_count": 40,
   "id": "5a81f8ee",
   "metadata": {},
   "outputs": [],
   "source": [
    "mike = Person(\"Mike\", 'British', 13)"
   ]
  },
  {
   "cell_type": "code",
   "execution_count": 31,
   "id": "82bb8843",
   "metadata": {},
   "outputs": [
    {
     "name": "stdout",
     "output_type": "stream",
     "text": [
      "hello, Julian. My name is Shuna.\n"
     ]
    }
   ],
   "source": [
    "shuna.say_hello(\"Julian\")"
   ]
  },
  {
   "cell_type": "code",
   "execution_count": 32,
   "id": "48d6a55b",
   "metadata": {},
   "outputs": [
    {
     "name": "stdout",
     "output_type": "stream",
     "text": [
      "hello, Sato. My name is Mike.\n"
     ]
    }
   ],
   "source": [
    "mike.say_hello(\"Sato\")"
   ]
  },
  {
   "cell_type": "code",
   "execution_count": 41,
   "id": "e14191cb",
   "metadata": {},
   "outputs": [
    {
     "name": "stdout",
     "output_type": "stream",
     "text": [
      "This is a call method.\n"
     ]
    }
   ],
   "source": [
    "#call methodの呼び出し方\n",
    "shuna()"
   ]
  }
 ],
 "metadata": {
  "kernelspec": {
   "display_name": "Python 3",
   "language": "python",
   "name": "python3"
  },
  "language_info": {
   "codemirror_mode": {
    "name": "ipython",
    "version": 3
   },
   "file_extension": ".py",
   "mimetype": "text/x-python",
   "name": "python",
   "nbconvert_exporter": "python",
   "pygments_lexer": "ipython3",
   "version": "3.8.8"
  },
  "toc": {
   "base_numbering": 1,
   "nav_menu": {},
   "number_sections": true,
   "sideBar": true,
   "skip_h1_title": false,
   "title_cell": "Table of Contents",
   "title_sidebar": "Contents",
   "toc_cell": false,
   "toc_position": {},
   "toc_section_display": true,
   "toc_window_display": false
  }
 },
 "nbformat": 4,
 "nbformat_minor": 5
}
