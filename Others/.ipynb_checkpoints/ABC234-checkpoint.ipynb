{
 "cells": [
  {
   "cell_type": "markdown",
   "id": "ae269e2c",
   "metadata": {},
   "source": [
    "# ABC234A"
   ]
  },
  {
   "cell_type": "code",
   "execution_count": 3,
   "id": "e8906237",
   "metadata": {},
   "outputs": [
    {
     "name": "stdout",
     "output_type": "stream",
     "text": [
      "3\n",
      "722502\n"
     ]
    }
   ],
   "source": [
    "t = int(input())\n",
    "\n",
    "ft = t ** 2 + t * 2 + 3\n",
    "s = ft + t \n",
    "sec = ft ** 2 + ft * 2 + 3\n",
    "thi = s ** 2 + s * 2 + 3\n",
    "\n",
    "com = sec + thi\n",
    "ans = com ** 2 + com * 2 + 3\n",
    "\n",
    "print(ans)\n",
    "    "
   ]
  },
  {
   "cell_type": "markdown",
   "id": "83cd7b56",
   "metadata": {},
   "source": [
    "# ABC234B"
   ]
  },
  {
   "cell_type": "code",
   "execution_count": 4,
   "id": "38fa59b3",
   "metadata": {},
   "outputs": [
    {
     "name": "stdout",
     "output_type": "stream",
     "text": [
      "3\n",
      "0 0\n",
      "0 1\n",
      "1 1\n",
      "1.4142135623730951\n"
     ]
    }
   ],
   "source": [
    "def solve():\n",
    "    n = int(input())\n",
    "    A = [list(map(int, input().split())) for _ in range(n)]\n",
    "    \n",
    "    length = []\n",
    "    from itertools import permutations \n",
    "    import math \n",
    "    \n",
    "    for i in permutations(A,2):\n",
    "        combination = math.sqrt((i[0][0] - i[1][0])**2 + (i[0][1] - i[1][1])**2)\n",
    "        length.append(combination)\n",
    "    \n",
    "    return max(length)\n",
    "\n",
    "print(solve())"
   ]
  },
  {
   "cell_type": "code",
   "execution_count": 22,
   "id": "1286ec9f",
   "metadata": {},
   "outputs": [
    {
     "name": "stdout",
     "output_type": "stream",
     "text": [
      "923423423420220108\n",
      "220022020000202020002022022000002020002222002200002022002200\n"
     ]
    }
   ],
   "source": [
    "def solve():\n",
    "    k = int(input())\n",
    "    bin_k = list(format(k, \"b\"))\n",
    "    \n",
    "    A = []\n",
    "    for element in bin_k:\n",
    "        if element == \"1\":\n",
    "            A.append(str(2))\n",
    "        else:\n",
    "            A.append(str(0))\n",
    "    \n",
    "    ans = \"\".join(A)\n",
    "    \n",
    "    return ans\n",
    "\n",
    "print(solve())\n",
    "    \n",
    "    "
   ]
  },
  {
   "cell_type": "code",
   "execution_count": 44,
   "id": "4ada2f13",
   "metadata": {},
   "outputs": [
    {
     "name": "stdout",
     "output_type": "stream",
     "text": [
      "11 5\n",
      " 3 7 2 5 11 6 1 9 8 10 4                            \n",
      "2\n",
      "3\n",
      "3\n",
      "5\n",
      "6\n",
      "7\n",
      "7\n",
      "\n"
     ]
    }
   ],
   "source": [
    "def solve():\n",
    "    n,k = map(int, input().split())\n",
    "    P = list(map(int, input().split()))\n",
    "    import bisect \n",
    "    A = []\n",
    "    for i in range(n-k+1):\n",
    "        if i == 0:\n",
    "            new = sorted(P[:k], reverse = False)\n",
    "            big = new[0]\n",
    "            A.append(big)\n",
    "            print(A[i])\n",
    "        else:\n",
    "            bisect.insort(new,P[k+i-1])\n",
    "            A.append(new[i])\n",
    "            print(A[i])\n",
    "    return print()\n",
    "\n",
    "solve()\n",
    "                \n",
    "            \n",
    "    \n",
    "    "
   ]
  },
  {
   "cell_type": "code",
   "execution_count": 24,
   "id": "50351c28",
   "metadata": {},
   "outputs": [
    {
     "name": "stdout",
     "output_type": "stream",
     "text": [
      "None\n"
     ]
    }
   ],
   "source": [
    "p = [1,2,3,4,5,6]\n",
    "print(p[:3].sort())"
   ]
  },
  {
   "cell_type": "code",
   "execution_count": 5,
   "id": "3504c9bc",
   "metadata": {},
   "outputs": [
    {
     "name": "stdout",
     "output_type": "stream",
     "text": [
      "21\n",
      "27\n"
     ]
    }
   ],
   "source": [
    "x = int(input())\n",
    "\n",
    "rem = 0\n",
    "if x > 0:\n",
    "    rem = 24 - x\n",
    "print(24 + rem)"
   ]
  },
  {
   "cell_type": "code",
   "execution_count": 11,
   "id": "dbb488f4",
   "metadata": {},
   "outputs": [
    {
     "name": "stdout",
     "output_type": "stream",
     "text": [
      "4 5\n",
      "Posssible\n"
     ]
    }
   ],
   "source": [
    "def solve():\n",
    "    a,b = map(int, input().split())\n",
    "    c = a+b\n",
    "    ans = 'Impossible'\n",
    "    if a % 3 == 0 or b % 3 == 0 or c % 3 == 0: \n",
    "        ans = 'Possible'\n",
    "    return ans \n",
    "print(solve())"
   ]
  },
  {
   "cell_type": "code",
   "execution_count": 15,
   "id": "75bcab8b",
   "metadata": {},
   "outputs": [
    {
     "name": "stdout",
     "output_type": "stream",
     "text": [
      "5\n",
      "2\n",
      "5\n",
      "10\n",
      "1000000000000000000\n",
      "1000000000000000000\n",
      "1000000000000000000\n"
     ]
    }
   ],
   "source": [
    "def solve():\n",
    "    from math import gcd\n",
    "    start = 1\n",
    "    \n",
    "    n = int(input())\n",
    "    for i in range(n):\n",
    "        x = int(input())\n",
    "        start = (start * x) // gcd(start, x)\n",
    "    return start \n",
    "print(solve())\n",
    "    "
   ]
  },
  {
   "cell_type": "markdown",
   "id": "a5aac11d",
   "metadata": {},
   "source": [
    "# ABC128C"
   ]
  },
  {
   "cell_type": "code",
   "execution_count": 27,
   "id": "1b4fb553",
   "metadata": {},
   "outputs": [
    {
     "name": "stdout",
     "output_type": "stream",
     "text": [
      "5 2\n",
      "3 1 2 5\n",
      "2 2 3\n",
      "1 0\n",
      "8\n"
     ]
    }
   ],
   "source": [
    "def solve():\n",
    "    n,m = map(int,input().split())\n",
    "    b = []\n",
    "    \n",
    "    for i in range(m):\n",
    "        x = tuple(map(int, input().split()))\n",
    "        b.append(x[1:])\n",
    "    \n",
    "    p = list(map(int, input().split()))\n",
    "    \n",
    "    ans = 0\n",
    "    \n",
    "    # すべてのスイッチがon/offの2通りずつあるので総数は2^n\n",
    "    for j in range(2 ** n):\n",
    "        # 電球を用意する\n",
    "        c = [0] * m\n",
    "        \n",
    "        for k, e in enumerate(b):\n",
    "            count = 0\n",
    "            for bulb in e:\n",
    "                if j >> (bulb - 1) & 1:\n",
    "                    count += 1\n",
    "                \n",
    "                \n",
    "            if count % 2 == p[k]:\n",
    "                c[k] = True\n",
    "            else:\n",
    "                c[k] = False\n",
    "            \n",
    "            if all(c):\n",
    "                ans += 1\n",
    "    return ans\n",
    "    \n",
    "print(solve())\n",
    "    "
   ]
  }
 ],
 "metadata": {
  "kernelspec": {
   "display_name": "Python 3",
   "language": "python",
   "name": "python3"
  },
  "language_info": {
   "codemirror_mode": {
    "name": "ipython",
    "version": 3
   },
   "file_extension": ".py",
   "mimetype": "text/x-python",
   "name": "python",
   "nbconvert_exporter": "python",
   "pygments_lexer": "ipython3",
   "version": "3.8.8"
  },
  "toc": {
   "base_numbering": 1,
   "nav_menu": {},
   "number_sections": true,
   "sideBar": true,
   "skip_h1_title": false,
   "title_cell": "Table of Contents",
   "title_sidebar": "Contents",
   "toc_cell": false,
   "toc_position": {},
   "toc_section_display": true,
   "toc_window_display": false
  }
 },
 "nbformat": 4,
 "nbformat_minor": 5
}
