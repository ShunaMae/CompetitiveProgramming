{
 "cells": [
  {
   "cell_type": "markdown",
   "id": "d11d9460",
   "metadata": {},
   "source": [
    "# zip() 関数\n",
    "\n",
    "複数の井寺ブルオブジェクトの要素をまとめる関数。\\\n",
    "for loop内で複数のリストの要素を取得できる。\n",
    "\n",
    "zip()内では多いほうのリストの要素が無視される。"
   ]
  },
  {
   "cell_type": "code",
   "execution_count": 1,
   "id": "e4b8e72f",
   "metadata": {},
   "outputs": [
    {
     "name": "stdout",
     "output_type": "stream",
     "text": [
      "A 4\n",
      "B 6\n",
      "C 5\n"
     ]
    }
   ],
   "source": [
    "### zip()\n",
    "\n",
    "names = [\"A\", \"B\", \"C\"]\n",
    "ages = [4,6,5]\n",
    "\n",
    "for i,j in zip(names, ages): \n",
    "    print(i,j)\n",
    "    \n",
    "# A 4\n",
    "# B 6\n",
    "# C 5"
   ]
  },
  {
   "cell_type": "markdown",
   "id": "f29b3d37",
   "metadata": {},
   "source": [
    "itertoolsによって足りないリストの要素を補うことができる。"
   ]
  },
  {
   "cell_type": "code",
   "execution_count": null,
   "id": "3f6668cb",
   "metadata": {},
   "outputs": [
    {
     "ename": "",
     "evalue": "",
     "output_type": "error",
     "traceback": [
      "\u001b[1;31mRunning cells with 'Python 3.10.4 64-bit' requires ipykernel package.\n",
      "Run the following command to install 'ipykernel' into the Python environment. \n",
      "Command: 'c:/Users/Shuna/AppData/Local/Programs/Python/Python310/python.exe -m pip install ipykernel -U --user --force-reinstall'"
     ]
    }
   ],
   "source": [
    "### itertools \n",
    "\n",
    "from itertools import zip_longest\n",
    "\n",
    "names = [\"A\", \"B\", \"C\", \"D\"]\n",
    "ages = [4,6,5]\n",
    "\n",
    "for i, j in zip_longest(names, ages): \n",
    "    print(i,j)\n",
    "\n",
    "# A 4\n",
    "# B 6\n",
    "# C 5\n",
    "# D None"
   ]
  },
  {
   "cell_type": "code",
   "execution_count": 3,
   "id": "d2c9b31f",
   "metadata": {},
   "outputs": [
    {
     "name": "stdout",
     "output_type": "stream",
     "text": [
      "A 4\n",
      "B 6\n",
      "C 5\n",
      "D 10\n"
     ]
    }
   ],
   "source": [
    "### fill None values \n",
    "\n",
    "for i, j in zip_longest(names, ages, fillvalue=10): \n",
    "    print(i,j)\n",
    "    \n",
    "# A 4\n",
    "# B 6\n",
    "# C 5\n",
    "# D 10"
   ]
  }
 ],
 "metadata": {
  "kernelspec": {
   "display_name": "Python 3.10.4 64-bit",
   "language": "python",
   "name": "python3"
  },
  "language_info": {
   "codemirror_mode": {
    "name": "ipython",
    "version": 3
   },
   "file_extension": ".py",
   "mimetype": "text/x-python",
   "name": "python",
   "nbconvert_exporter": "python",
   "pygments_lexer": "ipython3",
   "version": "3.10.4"
  },
  "toc": {
   "base_numbering": 1,
   "nav_menu": {},
   "number_sections": true,
   "sideBar": true,
   "skip_h1_title": false,
   "title_cell": "Table of Contents",
   "title_sidebar": "Contents",
   "toc_cell": false,
   "toc_position": {},
   "toc_section_display": true,
   "toc_window_display": false
  },
  "vscode": {
   "interpreter": {
    "hash": "a74e15f509fad9034d8f1c3a8f362b3a7678792fdbd07773dececc5602e847cb"
   }
  }
 },
 "nbformat": 4,
 "nbformat_minor": 5
}
