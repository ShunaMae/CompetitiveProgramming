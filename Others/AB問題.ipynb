{
 "cells": [
  {
   "cell_type": "markdown",
   "id": "191abc6c",
   "metadata": {},
   "source": [
    "# Practice A\n"
   ]
  },
  {
   "cell_type": "code",
   "execution_count": 1,
   "id": "e7eb3e3e",
   "metadata": {},
   "outputs": [
    {
     "name": "stdout",
     "output_type": "stream",
     "text": [
      "1\n",
      "2 3\n",
      "test\n",
      "6 test\n"
     ]
    }
   ],
   "source": [
    "a = int(input())\n",
    "b,c = map(int, input().split())\n",
    "s = input()\n",
    "\n",
    "print(a+b+c, s)"
   ]
  },
  {
   "cell_type": "markdown",
   "id": "d8db2909",
   "metadata": {},
   "source": [
    "# ABC086A"
   ]
  },
  {
   "cell_type": "code",
   "execution_count": 2,
   "id": "704ca2dd",
   "metadata": {},
   "outputs": [
    {
     "name": "stdout",
     "output_type": "stream",
     "text": [
      "3 4\n",
      "Even\n"
     ]
    }
   ],
   "source": [
    "a, b = map(int, input().split())\n",
    "if (a*b)%2 == 0:\n",
    "    print(\"Even\")\n",
    "else:\n",
    "    print(\"Odd\")"
   ]
  },
  {
   "cell_type": "markdown",
   "id": "418dca1a",
   "metadata": {},
   "source": [
    "# ABC081A"
   ]
  },
  {
   "cell_type": "code",
   "execution_count": 17,
   "id": "e3136f78",
   "metadata": {},
   "outputs": [
    {
     "name": "stdout",
     "output_type": "stream",
     "text": [
      "110\n",
      "2\n"
     ]
    }
   ],
   "source": [
    "s = int(input())\n",
    "x = [int(i) for i in str(s)]\n",
    "print(sum(x))"
   ]
  },
  {
   "cell_type": "markdown",
   "id": "be23def7",
   "metadata": {},
   "source": [
    "# ABC081B"
   ]
  },
  {
   "cell_type": "code",
   "execution_count": 38,
   "id": "244b1d2c",
   "metadata": {},
   "outputs": [
    {
     "name": "stdout",
     "output_type": "stream",
     "text": [
      "3\n",
      "3 4 5\n",
      "0\n"
     ]
    }
   ],
   "source": [
    "n = int(input())\n",
    "A = list(map(int, input().split()))\n",
    "\n",
    "ans = 10**9\n",
    "\n",
    "for i in A: \n",
    "    ans = (min(ans, len(format(i,\"b\")) - format(i,\"b\").rfind(\"1\") - 1))\n",
    "print(ans)"
   ]
  },
  {
   "cell_type": "markdown",
   "id": "c38fb300",
   "metadata": {},
   "source": [
    "# ABC087B"
   ]
  },
  {
   "cell_type": "code",
   "execution_count": 42,
   "id": "75c1c8e0",
   "metadata": {},
   "outputs": [
    {
     "name": "stdout",
     "output_type": "stream",
     "text": [
      "2\n",
      "2\n",
      "2\n",
      "100\n",
      "2\n"
     ]
    }
   ],
   "source": [
    "A = int(input())\n",
    "B = int(input())\n",
    "C = int(input())\n",
    "X = int(input())\n",
    "\n",
    "count = 0\n",
    "for i in range(A+1):\n",
    "    for j in range(B+1):\n",
    "        for k in range(C+1):\n",
    "            if 500 * i + 100 * j + 50 * k == X:\n",
    "                count += 1\n",
    "print(count)\n"
   ]
  },
  {
   "cell_type": "markdown",
   "id": "adffd3a4",
   "metadata": {},
   "source": [
    "# ABC083B"
   ]
  },
  {
   "cell_type": "code",
   "execution_count": 49,
   "id": "6b9b94cb",
   "metadata": {},
   "outputs": [
    {
     "name": "stdout",
     "output_type": "stream",
     "text": [
      "20 2 5\n",
      "84\n"
     ]
    }
   ],
   "source": [
    "n,a,b = map(int, input().split())\n",
    "\n",
    "A = []\n",
    "for i in range(n+1):\n",
    "    if a <= sum([int(a) for a in str(i)]) <= b:\n",
    "        A.append(i)\n",
    "print(sum(A))"
   ]
  },
  {
   "cell_type": "markdown",
   "id": "c8eb732e",
   "metadata": {},
   "source": [
    "# ABC088B"
   ]
  },
  {
   "cell_type": "code",
   "execution_count": 57,
   "id": "3f19966d",
   "metadata": {},
   "outputs": [
    {
     "name": "stdout",
     "output_type": "stream",
     "text": [
      "3\n",
      "2 7 4\n",
      "5\n"
     ]
    }
   ],
   "source": [
    "n = int(input())\n",
    "A = list(map(int, input().split()))\n",
    "A.sort(reverse = True)\n",
    "Alice = 0\n",
    "Bob = 0\n",
    "for i in range(n):\n",
    "    if i % 2 == 0:\n",
    "        Alice += A[i]\n",
    "    else:\n",
    "        Bob += A[i]\n",
    "print(Alice - Bob)"
   ]
  },
  {
   "cell_type": "markdown",
   "id": "adb094e8",
   "metadata": {},
   "source": [
    "# ABC085B"
   ]
  },
  {
   "cell_type": "code",
   "execution_count": 59,
   "id": "b5d075ae",
   "metadata": {},
   "outputs": [
    {
     "name": "stdout",
     "output_type": "stream",
     "text": [
      "3\n",
      "15\n",
      "15\n",
      "15\n",
      "1\n"
     ]
    }
   ],
   "source": [
    "n = int(input())\n",
    "A = [int(input()) for _ in range(n)]\n",
    "print(len(set(A)))"
   ]
  },
  {
   "cell_type": "code",
   "execution_count": 1,
   "id": "88c92aae",
   "metadata": {},
   "outputs": [
    {
     "name": "stdout",
     "output_type": "stream",
     "text": [
      "9 45000\n",
      "0 9 0\n",
      "4 0 5\n",
      "-1 -1 -1\n"
     ]
    }
   ],
   "source": [
    "n,y = map(int, input().split())\n",
    "\n",
    "for i in range(n+1):\n",
    "    for j in range(n-i+1):\n",
    "        if 10000*i + 5000*j + 1000*(n-i-j) == y:\n",
    "            print(i,j,(n-i-j))\n",
    "            exit()\n",
    "print(\"-1 -1 -1\")"
   ]
  },
  {
   "cell_type": "code",
   "execution_count": 15,
   "id": "0ae45077",
   "metadata": {},
   "outputs": [
    {
     "name": "stdout",
     "output_type": "stream",
     "text": [
      "erasedream\n",
      "Yes\n"
     ]
    }
   ],
   "source": [
    "S = input()\n",
    "#assignしないと更新されない\n",
    "A = S.replace(\"dreamer\", \"\").replace(\"dream\",\"\").replace(\"eraser\",\"\").replace(\"erase\",\"\")\n",
    "if len(A)>0:\n",
    "    print(\"NO\")\n",
    "else:\n",
    "    print(\"YES\")"
   ]
  },
  {
   "cell_type": "code",
   "execution_count": 22,
   "id": "c59f6e0c",
   "metadata": {},
   "outputs": [
    {
     "name": "stdout",
     "output_type": "stream",
     "text": [
      "2\n",
      "5 1 1\n",
      "100 1 1\n",
      "Yes\n"
     ]
    }
   ],
   "source": [
    "n = int(input())\n",
    "\n",
    "time = 0\n",
    "x_bef = 0\n",
    "y_bef = 0\n",
    "\n",
    "for i in range(n):\n",
    "    t,x,y = map(int, input().split())\n",
    "    if t - time < abs((x-x_bef) + (y-y_bef)):\n",
    "        print(\"No\")\n",
    "        exit()\n",
    "    else:\n",
    "        time = t\n",
    "        x_bef = x\n",
    "        y_bef = y\n",
    "print(\"Yes\")"
   ]
  },
  {
   "cell_type": "markdown",
   "id": "3baecc95",
   "metadata": {},
   "source": [
    "# ABC233A"
   ]
  },
  {
   "cell_type": "code",
   "execution_count": 7,
   "id": "206dc45d",
   "metadata": {},
   "outputs": [
    {
     "name": "stdout",
     "output_type": "stream",
     "text": [
      "270 750\n",
      "48\n"
     ]
    }
   ],
   "source": [
    "x,y = map(int, input().split())\n",
    "gap = y - x\n",
    "from math import *\n",
    "if gap > 0:\n",
    "    print(ceil(gap/10))\n",
    "else:\n",
    "    print(0)"
   ]
  },
  {
   "cell_type": "markdown",
   "id": "a057bbc3",
   "metadata": {},
   "source": [
    "# ABC233B"
   ]
  },
  {
   "cell_type": "code",
   "execution_count": 35,
   "id": "383363bc",
   "metadata": {},
   "outputs": [
    {
     "name": "stdout",
     "output_type": "stream",
     "text": [
      "3 7\n",
      "abcdefghijk\n",
      "abgfedchijk\n"
     ]
    }
   ],
   "source": [
    "l,r = map(int, input().split())\n",
    "S = list(input())\n",
    "\n",
    "# 3つのリストに分ける\n",
    "SL = S[:(l-1)]\n",
    "SM =S[(l-1):r]\n",
    "SR = S[r:]\n",
    "\n",
    "#リバースするやつだけリバースする。\n",
    "#破壊関数なので注意\n",
    "SM.reverse()\n",
    "\n",
    "#3つのリストを統合して新しいリストを作る\n",
    "A = SL + SM + SR\n",
    "print(*A, sep = \"\")"
   ]
  },
  {
   "cell_type": "markdown",
   "id": "93c80027",
   "metadata": {},
   "source": [
    "# ABC232A"
   ]
  },
  {
   "cell_type": "code",
   "execution_count": 11,
   "id": "ee194a00",
   "metadata": {},
   "outputs": [
    {
     "name": "stdout",
     "output_type": "stream",
     "text": [
      "7x3\n",
      "21\n"
     ]
    }
   ],
   "source": [
    "s = input()\n",
    "A = [i for i in str(s)]\n",
    "print(int(A[0]) * int(A[2]))"
   ]
  },
  {
   "cell_type": "markdown",
   "id": "01c81496",
   "metadata": {},
   "source": [
    "# ABC232B"
   ]
  },
  {
   "cell_type": "code",
   "execution_count": 51,
   "id": "df8133f2",
   "metadata": {},
   "outputs": [
    {
     "name": "stdout",
     "output_type": "stream",
     "text": [
      "xyz\n",
      "zab\n",
      "Yes\n"
     ]
    }
   ],
   "source": [
    "S = list(input())\n",
    "T = list(input())\n",
    "\n",
    "# convert to unicode \n",
    "s = []\n",
    "for i in S:\n",
    "    x = ord(i)\n",
    "    s.append(x)\n",
    "t = []\n",
    "for j in T:\n",
    "    x = ord(j)\n",
    "    t.append(x)\n",
    "\n",
    "# calculate the gap \n",
    "Ans = []\n",
    "for k in range(len(s)):\n",
    "    x = t[k] - s[k]\n",
    "    Ans.append(x)\n",
    "\n",
    "# convert it to a set\n",
    "# no overlap \n",
    "B = set(Ans)\n",
    "if len(B) == 1: \n",
    "    print(\"Yes\")\n",
    "elif len(B) == 2:\n",
    "    C = list(B)\n",
    "    if abs(C[0] - C[1]) == 26:\n",
    "        print(\"Yes\")\n",
    "    else:\n",
    "        print(\"No\")\n",
    "else:\n",
    "    print(\"No\")"
   ]
  },
  {
   "cell_type": "markdown",
   "id": "6f3e780c",
   "metadata": {},
   "source": [
    "# ABC231A"
   ]
  },
  {
   "cell_type": "code",
   "execution_count": 53,
   "id": "6178c8b3",
   "metadata": {},
   "outputs": [
    {
     "name": "stdout",
     "output_type": "stream",
     "text": [
      "1000\n",
      "10.000000\n"
     ]
    }
   ],
   "source": [
    "d = int(input())\n",
    "print(f\"{d/100:6f}\")"
   ]
  },
  {
   "cell_type": "markdown",
   "id": "4b429fac",
   "metadata": {},
   "source": [
    "# ABC231B"
   ]
  },
  {
   "cell_type": "code",
   "execution_count": 2,
   "id": "f617aa6a",
   "metadata": {},
   "outputs": [
    {
     "name": "stdout",
     "output_type": "stream",
     "text": [
      "5\n",
      "shuna\n",
      "shuna\n",
      "tanaka\n",
      "tanaka\n",
      "ay\n",
      "[('shuna', 2)]\n"
     ]
    }
   ],
   "source": [
    "n = int(input())\n",
    "\n",
    "A = []\n",
    "for _ in range(n):\n",
    "    x = input()\n",
    "    A.append(x)\n",
    "    \n",
    "import collections\n",
    "\n",
    "B = collections.Counter(A).most_common(1)\n",
    "print(B)"
   ]
  },
  {
   "cell_type": "code",
   "execution_count": 1,
   "id": "736c9d16",
   "metadata": {},
   "outputs": [
    {
     "name": "stdout",
     "output_type": "stream",
     "text": [
      "3\n",
      "tanaka\n",
      "tanaka\n",
      "shuna\n",
      "tanaka\n"
     ]
    }
   ],
   "source": [
    "from collections import Counter\n",
    "\n",
    "N = int(input())\n",
    "C = Counter()  # Counterはとても便利です\n",
    "for _ in range(N):\n",
    "    s = input()\n",
    "    C[s] += 1\n",
    "mc = C.most_common(1)  # [(\"takahashi\", 3)] のような長さ1のリストが得られます\n",
    "m_tuple = mc[0]  # (\"takahashi\", 3) を取り出します\n",
    "m_name, m_count = m_tuple\n",
    "print(m_name)"
   ]
  },
  {
   "cell_type": "markdown",
   "id": "578284a3",
   "metadata": {},
   "source": [
    "# ABC230A\n"
   ]
  },
  {
   "cell_type": "code",
   "execution_count": 67,
   "id": "54110330",
   "metadata": {},
   "outputs": [
    {
     "name": "stdout",
     "output_type": "stream",
     "text": [
      "1\n",
      "AGC001\n"
     ]
    }
   ],
   "source": [
    "n = int(input())\n",
    "if n >= 42:\n",
    "    print(\"AGC0{}\".format(n+1))\n",
    "elif n>= 10:\n",
    "    print(\"AGC0{}\".format(n))\n",
    "else:\n",
    "    print(\"AGC00{}\".format(n))"
   ]
  },
  {
   "cell_type": "markdown",
   "id": "05b4f4c3",
   "metadata": {},
   "source": [
    "# ABC230B\n"
   ]
  },
  {
   "cell_type": "code",
   "execution_count": 70,
   "id": "a6457380",
   "metadata": {},
   "outputs": [
    {
     "name": "stdout",
     "output_type": "stream",
     "text": [
      "ox\n",
      "Yes\n"
     ]
    }
   ],
   "source": [
    "S = input()\n",
    "T = \"oxxoxxoxxoxxoxxoxxoxxoxxoxxoxx\"\n",
    "\n",
    "if S in T:\n",
    "    print(\"Yes\")\n",
    "else:\n",
    "    print(\"No\")"
   ]
  },
  {
   "cell_type": "markdown",
   "id": "4048d8cf",
   "metadata": {},
   "source": [
    "# ABC229A"
   ]
  },
  {
   "cell_type": "code",
   "execution_count": 75,
   "id": "48fe2503",
   "metadata": {},
   "outputs": [
    {
     "name": "stdout",
     "output_type": "stream",
     "text": [
      "##\n",
      "##\n",
      "Yes\n"
     ]
    }
   ],
   "source": [
    "A = list(input())\n",
    "B = list(input())\n",
    "\n",
    "s1 = A[0]\n",
    "s2 = A[1]\n",
    "s3 = B[0]\n",
    "s4 = B[1]\n",
    "\n",
    "if s1 == \"#\" and s2 == \"#\":\n",
    "    print(\"Yes\")\n",
    "elif s1 == \"#\" and s2 == \".\":\n",
    "    if s3 == \"#\":\n",
    "        print(\"Yes\")\n",
    "    else:\n",
    "        print(\"No\")\n",
    "elif s1 == \".\" and s2 == \"#\":\n",
    "    if s4 == \"#\":\n",
    "        print(\"Yes\")\n",
    "    else:\n",
    "        print(\"No\")\n",
    "else:\n",
    "    if s3 == \"#\" and s4 == \"#\":\n",
    "        print(\"Yes\")\n",
    "    else:\n",
    "        print(\"No\")\n",
    "   "
   ]
  },
  {
   "cell_type": "markdown",
   "id": "99863038",
   "metadata": {},
   "source": [
    "# ABC229B"
   ]
  },
  {
   "cell_type": "code",
   "execution_count": 101,
   "id": "6ea5e89e",
   "metadata": {},
   "outputs": [
    {
     "name": "stdout",
     "output_type": "stream",
     "text": [
      "123456789 9876543210\n",
      "Easy\n"
     ]
    }
   ],
   "source": [
    "a,b = map(int, input().split())\n",
    "A = [int(i) for i in str(a)]\n",
    "B = [int(j) for j in str(b)]\n",
    "\n",
    "A.reverse()\n",
    "B.reverse()\n",
    "\n",
    "basis = min(len(A), len(B))\n",
    "x = []\n",
    "for i in range(basis):\n",
    "    tmp = A[i]+B[i]\n",
    "    x.append(tmp)\n",
    "\n",
    "print(\"Hard\" if max(x) >= 10 else \"Easy\")"
   ]
  },
  {
   "cell_type": "markdown",
   "id": "20ad7d07",
   "metadata": {},
   "source": [
    "# ABC228A"
   ]
  },
  {
   "cell_type": "code",
   "execution_count": 111,
   "id": "749cc574",
   "metadata": {},
   "outputs": [
    {
     "name": "stdout",
     "output_type": "stream",
     "text": [
      "3 10 4\n",
      "Yes\n"
     ]
    }
   ],
   "source": [
    "s,t,x = map(int, input().split())\n",
    "\n",
    "if s > t :\n",
    "    t = 24+t\n",
    "    p = t - s\n",
    "else:\n",
    "    p = t - s\n",
    "\n",
    "if s > x :\n",
    "    x = 24+x\n",
    "    q = x - s\n",
    "else:\n",
    "    q = x - s\n",
    "    \n",
    "if p > q:\n",
    "    print(\"Yes\")\n",
    "else:\n",
    "    print(\"No\")\n",
    "    "
   ]
  },
  {
   "cell_type": "markdown",
   "id": "8c73aafe",
   "metadata": {},
   "source": [
    "# ABC228B"
   ]
  },
  {
   "cell_type": "code",
   "execution_count": null,
   "id": "94f98d6d",
   "metadata": {},
   "outputs": [],
   "source": [
    "n,x = map(int, input().split())\n",
    "A = list(map(int, input().split()))\n",
    "\n",
    "seeen = [0]*(n+1)\n",
    "ans = 0\n",
    "now = x \n",
    "\n",
    "while seen[now] == 0:\n",
    "    seen[now] = 0\n",
    "    now = A[now-1]\n",
    "    ans += 1\n",
    "\n",
    "print(ans)\n",
    "\n"
   ]
  },
  {
   "cell_type": "markdown",
   "id": "b43198ac",
   "metadata": {},
   "source": [
    "# ABC227A"
   ]
  },
  {
   "cell_type": "code",
   "execution_count": 121,
   "id": "95a1c332",
   "metadata": {},
   "outputs": [
    {
     "name": "stdout",
     "output_type": "stream",
     "text": [
      "3 14 2\n",
      "3\n"
     ]
    }
   ],
   "source": [
    "n,k,a = map(int, input().split())\n",
    "\n",
    "#これえぐいで\n",
    "tmp = k % n\n",
    "if tmp == 0:\n",
    "    if n == 1:\n",
    "        print(1)\n",
    "    else:\n",
    "        print(a-1)\n",
    "elif tmp + a - 1 <= n:\n",
    "    print(tmp + a - 1)\n",
    "else:\n",
    "    print(tmp + a - 1 - n)"
   ]
  },
  {
   "cell_type": "markdown",
   "id": "82ccdf33",
   "metadata": {},
   "source": [
    "# ABC227B"
   ]
  },
  {
   "cell_type": "code",
   "execution_count": 9,
   "id": "a6976d8a",
   "metadata": {},
   "outputs": [
    {
     "name": "stdout",
     "output_type": "stream",
     "text": [
      "4\n",
      "100 200 300 400\n",
      "3\n"
     ]
    }
   ],
   "source": [
    "Try = []\n",
    "r = 143\n",
    "for a in range(1,r):\n",
    "        for b in range(1,r):\n",
    "            x = 4*a*b + 3*a + 3*b \n",
    "            if x <= 1000:\n",
    "                Try.append(x)\n",
    "Ans = list(set(Try))\n",
    "\n",
    "n = int(input())\n",
    "A = list(map(int, input().split()))\n",
    "\n",
    "count = 0\n",
    "for i in A:\n",
    "    if i not in Ans:\n",
    "        count += 1\n",
    "\n",
    "print(count)"
   ]
  },
  {
   "cell_type": "markdown",
   "id": "4d009c75",
   "metadata": {},
   "source": [
    "# ABC226A\n",
    "\n",
    "Pythonのround関数を普通に使うとWAになる。何故ならば、round関数は小数部分が0.5の時、偶数に近いほうに丸められるから。"
   ]
  },
  {
   "cell_type": "code",
   "execution_count": 13,
   "id": "327a3847",
   "metadata": {},
   "outputs": [
    {
     "name": "stdout",
     "output_type": "stream",
     "text": [
      "2 0\n"
     ]
    }
   ],
   "source": [
    "print(round(1.5), round(0.5))\n",
    "# should be 2 and 1"
   ]
  },
  {
   "cell_type": "code",
   "execution_count": 12,
   "id": "113e979a",
   "metadata": {},
   "outputs": [
    {
     "name": "stdout",
     "output_type": "stream",
     "text": [
      "0\n",
      "0\n"
     ]
    }
   ],
   "source": [
    "x = float(input())\n",
    "x = x + 0.0001\n",
    "print(round(x))"
   ]
  },
  {
   "cell_type": "markdown",
   "id": "12162cc9",
   "metadata": {},
   "source": [
    "# ABC226B\n",
    "\n",
    "二次元配列の時の重複の排除の仕方。\n",
    "\n",
    "https://qiita.com/uuuno/items/b714d84ca2edbf16ea19"
   ]
  },
  {
   "cell_type": "code",
   "execution_count": 21,
   "id": "36c9cba7",
   "metadata": {},
   "outputs": [
    {
     "name": "stdout",
     "output_type": "stream",
     "text": [
      "4\n",
      "2\n",
      "1\n",
      "3\n",
      "2\n",
      "3\n"
     ]
    }
   ],
   "source": [
    "n = int(input())\n",
    "A = [list(map(int, input().split())) for _ in range(n)]\n",
    "#各要素をtupleに変換、setで重複を削除\n",
    "A = list(map(list, set(map(tuple,A))))\n",
    "    \n",
    "print(len(A))"
   ]
  },
  {
   "cell_type": "markdown",
   "id": "98ea7209",
   "metadata": {},
   "source": [
    "# ABC225A"
   ]
  },
  {
   "cell_type": "code",
   "execution_count": 24,
   "id": "5ab15ae4",
   "metadata": {},
   "outputs": [
    {
     "name": "stdout",
     "output_type": "stream",
     "text": [
      "abc\n",
      "6\n"
     ]
    }
   ],
   "source": [
    "x = len(set(list(input())))\n",
    "\n",
    "if x == 1:\n",
    "    print(1)\n",
    "elif x == 2:\n",
    "    print(3)\n",
    "else:\n",
    "    print(6)"
   ]
  },
  {
   "cell_type": "markdown",
   "id": "e753074d",
   "metadata": {},
   "source": [
    "# ABC225B\n",
    "\n",
    "平面化（https://note.nkmk.me/python-list-flatten/)"
   ]
  },
  {
   "cell_type": "code",
   "execution_count": 27,
   "id": "02eae9ac",
   "metadata": {},
   "outputs": [
    {
     "name": "stdout",
     "output_type": "stream",
     "text": [
      "8\n",
      "1 4\n",
      "2 4\n",
      "3 4\n",
      "5 4\n",
      "6 4\n",
      "7 4\n",
      "8 4\n",
      "7\n"
     ]
    }
   ],
   "source": [
    "n = int(input())\n",
    "A = [list(map(int, input().split())) for _ in range(n-1)]\n",
    "\n",
    "import itertools\n",
    "#二次元配列を平面化\n",
    "B = list(itertools.chain.from_iterable(A))\n",
    "\n",
    "import collections\n",
    "\n",
    "C = collections.Counter(B).most_common(1)[0][1]\n",
    "if C == (n-1):\n",
    "    print(\"Yes\")\n",
    "else:\n",
    "    print(\"No\")"
   ]
  },
  {
   "cell_type": "markdown",
   "id": "a02181be",
   "metadata": {},
   "source": [
    "# ABC224A"
   ]
  },
  {
   "cell_type": "code",
   "execution_count": 31,
   "id": "8ea4e7d0",
   "metadata": {},
   "outputs": [
    {
     "name": "stdout",
     "output_type": "stream",
     "text": [
      "atcoder\n",
      "er\n"
     ]
    }
   ],
   "source": [
    "s = list(input())\n",
    "\n",
    "s.reverse()\n",
    "if s[0] == \"r\":\n",
    "    print(\"er\")\n",
    "else:\n",
    "    print(\"ist\")"
   ]
  },
  {
   "cell_type": "markdown",
   "id": "ac984c0d",
   "metadata": {},
   "source": [
    "# ABC224B (未)"
   ]
  },
  {
   "cell_type": "code",
   "execution_count": 32,
   "id": "09fb3d9a",
   "metadata": {},
   "outputs": [],
   "source": [
    "#無理。      "
   ]
  },
  {
   "cell_type": "markdown",
   "id": "0102e3af",
   "metadata": {},
   "source": [
    "# ABC223A"
   ]
  },
  {
   "cell_type": "code",
   "execution_count": 33,
   "id": "7522d6f4",
   "metadata": {},
   "outputs": [
    {
     "name": "stdout",
     "output_type": "stream",
     "text": [
      "500\n",
      "Yes\n"
     ]
    }
   ],
   "source": [
    "x = int(input())\n",
    "if x == 0:\n",
    "    print(\"No\")\n",
    "elif x % 100 == 0:\n",
    "    print(\"Yes\")\n",
    "else:\n",
    "    print(\"No\")"
   ]
  },
  {
   "cell_type": "markdown",
   "id": "b021a27b",
   "metadata": {},
   "source": [
    "# ABC223B\n",
    "\n",
    "リストの要素を統合する\n",
    "\n",
    "https://murashun.jp/article/programming/python/python-list-join.html"
   ]
  },
  {
   "cell_type": "code",
   "execution_count": 45,
   "id": "57d7d158",
   "metadata": {},
   "outputs": [
    {
     "name": "stdout",
     "output_type": "stream",
     "text": [
      "abracadabra\n",
      "aabracadabr\n",
      "racadabraab\n"
     ]
    }
   ],
   "source": [
    "s = list(input()*2)\n",
    "r = int(len(s)*(1/2))\n",
    "Ans = []\n",
    "for i in range(r): \n",
    "    x = \"\".join(s[i:(i+r)])\n",
    "    Ans.append(x)\n",
    "\n",
    "print(min(Ans))\n",
    "print(max(Ans))"
   ]
  },
  {
   "cell_type": "markdown",
   "id": "f45363af",
   "metadata": {},
   "source": [
    "# ABC222A"
   ]
  },
  {
   "cell_type": "code",
   "execution_count": 52,
   "id": "b831eae8",
   "metadata": {},
   "outputs": [
    {
     "name": "stdout",
     "output_type": "stream",
     "text": [
      "321\n",
      "0321\n"
     ]
    }
   ],
   "source": [
    "n = int(input())\n",
    "length = [int(a) for a in str(n)]\n",
    "\n",
    "if len(length) == 4:\n",
    "    print(n)\n",
    "elif len(length) == 3:\n",
    "    print(\"0{}\".format(n))\n",
    "elif len(length) == 2:\n",
    "    print(\"00{}\".format(n))\n",
    "else:\n",
    "    print(\"000{}\".format(n))\n"
   ]
  },
  {
   "cell_type": "markdown",
   "id": "bde6ebe0",
   "metadata": {},
   "source": [
    "# ABC222B"
   ]
  },
  {
   "cell_type": "code",
   "execution_count": 54,
   "id": "b5c40dd8",
   "metadata": {},
   "outputs": [
    {
     "name": "stdout",
     "output_type": "stream",
     "text": [
      "3 90\n",
      "89 89 89\n",
      "3\n"
     ]
    }
   ],
   "source": [
    "n,p = map(int, input().split())\n",
    "A = list(map(int, input().split()))\n",
    "\n",
    "count = 0\n",
    "for i in range(n):\n",
    "    if A[i] < p:\n",
    "        count += 1\n",
    "print(count)\n",
    "    "
   ]
  },
  {
   "cell_type": "markdown",
   "id": "8d80da10",
   "metadata": {},
   "source": [
    "# ABC221A"
   ]
  },
  {
   "cell_type": "code",
   "execution_count": 3,
   "id": "70045c18",
   "metadata": {},
   "outputs": [
    {
     "name": "stdout",
     "output_type": "stream",
     "text": [
      "5 5\n",
      "1\n"
     ]
    }
   ],
   "source": [
    "a,b = map(int, input().split())\n",
    "\n",
    "print(32**(a-b))"
   ]
  },
  {
   "cell_type": "markdown",
   "id": "1f113ce0",
   "metadata": {},
   "source": [
    "# ABC221B"
   ]
  },
  {
   "cell_type": "code",
   "execution_count": 1,
   "id": "f52f4d15",
   "metadata": {},
   "outputs": [
    {
     "name": "stdout",
     "output_type": "stream",
     "text": [
      "abc\n",
      "acb\n",
      "Yes\n"
     ]
    }
   ],
   "source": [
    "s = list(input())\n",
    "t = list(input())\n",
    "\n",
    "ans = False\n",
    "\n",
    "if s == t:\n",
    "    ans = True\n",
    "else:\n",
    "    for i in range(len(s) - 1):\n",
    "        s[i], s[i+1] = s[i+1], s[i]\n",
    "        if s == t:\n",
    "            ans = True\n",
    "        s[i+1], s[i] = s[i], s[i+1]\n",
    "\n",
    "if ans:print(\"Yes\")\n",
    "else:print(\"No\")\n",
    "        "
   ]
  },
  {
   "cell_type": "markdown",
   "id": "48154604",
   "metadata": {},
   "source": [
    "# ABC220A"
   ]
  },
  {
   "cell_type": "code",
   "execution_count": 1,
   "id": "de379e3e",
   "metadata": {},
   "outputs": [
    {
     "name": "stdout",
     "output_type": "stream",
     "text": [
      "123 456 100\n",
      "200\n"
     ]
    }
   ],
   "source": [
    "a,b,c = map(int, input().split())\n",
    "A = []\n",
    "for i in range(a,b+1):\n",
    "    if i % c == 0:\n",
    "        A.append(i)\n",
    "\n",
    "if len(A) == 0:\n",
    "    print(-1)\n",
    "else: print(A[0])\n",
    "    "
   ]
  },
  {
   "cell_type": "markdown",
   "id": "753c4e0e",
   "metadata": {},
   "source": [
    "# ABC220B\n",
    "\n",
    "$n$進法から$10$進法へ\n",
    "\n",
    "https://science-log.com/python%E3%83%97%E3%83%AD%E3%82%B0%E3%83%A9%E3%83%9F%E3%83%B3%E3%82%B0tips%E9%9B%86/%E3%80%90python%E3%80%91%E8%A8%98%E6%95%B0%E6%B3%95%E3%81%AE%E5%A4%89%E6%8F%9B/"
   ]
  },
  {
   "cell_type": "code",
   "execution_count": 5,
   "id": "43f1b9c0",
   "metadata": {},
   "outputs": [
    {
     "name": "stdout",
     "output_type": "stream",
     "text": [
      "2\n",
      "1011 10100\n",
      "220\n"
     ]
    }
   ],
   "source": [
    "k = int(input())\n",
    "a,b = map(str, input().split())\n",
    "\n",
    "x = int(a,k)\n",
    "y = int(b,k)\n",
    "\n",
    "print(x*y)"
   ]
  },
  {
   "cell_type": "markdown",
   "id": "4c3d1ab4",
   "metadata": {},
   "source": [
    "# ABC220C"
   ]
  },
  {
   "cell_type": "code",
   "execution_count": 12,
   "id": "9655527e",
   "metadata": {},
   "outputs": [
    {
     "name": "stdout",
     "output_type": "stream",
     "text": [
      "4\n",
      "12 34 56 78\n",
      "1000\n",
      "23\n"
     ]
    }
   ],
   "source": [
    "def solve():\n",
    "    \n",
    "    from itertools import accumulate\n",
    "    from bisect import bisect_right\n",
    "    \n",
    "    n = int(input())\n",
    "    A = list(map(int, input().split()))\n",
    "    x = int(input())\n",
    "    \n",
    "    A_sum = sum(A)\n",
    "    rem = x % sum(A)\n",
    "    ans = (x //sum(A)) * n\n",
    "    \n",
    "    B = []\n",
    "    for i in accumulate(A):\n",
    "        B.append(i)\n",
    "    ans += bisect_right(B,rem) + 1\n",
    "    \n",
    "    return ans\n",
    "\n",
    "print(solve())\n",
    "    \n",
    "    \n",
    "    "
   ]
  },
  {
   "cell_type": "markdown",
   "id": "b5c30827",
   "metadata": {},
   "source": [
    "# ABC219A"
   ]
  },
  {
   "cell_type": "code",
   "execution_count": 9,
   "id": "a595e47b",
   "metadata": {},
   "outputs": [
    {
     "name": "stdout",
     "output_type": "stream",
     "text": [
      "100\n",
      "expert\n"
     ]
    }
   ],
   "source": [
    "x = int(input())\n",
    "\n",
    "if x >= 90:\n",
    "    print(\"expert\")\n",
    "elif x >= 70:\n",
    "    print(90-x)\n",
    "elif x >= 40:\n",
    "    print(70-x)\n",
    "else:\n",
    "    print(40-x)\n",
    "    "
   ]
  },
  {
   "cell_type": "markdown",
   "id": "fd9e6d2b",
   "metadata": {},
   "source": [
    "# ABC219B"
   ]
  },
  {
   "cell_type": "code",
   "execution_count": 11,
   "id": "e5b3bf19",
   "metadata": {},
   "outputs": [
    {
     "name": "stdout",
     "output_type": "stream",
     "text": [
      "abra\n",
      "cad\n",
      "abra\n",
      "123\n",
      "abracadabra\n"
     ]
    }
   ],
   "source": [
    "s1 = input()\n",
    "s2 = input()\n",
    "s3 = input()\n",
    "\n",
    "tmp = int(input())\n",
    "t = [int(a) for a in str(tmp)]\n",
    "\n",
    "A = []\n",
    "for i in t:\n",
    "    if i == 1:\n",
    "        A.append(s1)\n",
    "    elif i == 2:\n",
    "        A.append(s2)\n",
    "    else:\n",
    "        A.append(s3)\n",
    "Ans = \"\".join(A)\n",
    "print(Ans)\n",
    "        "
   ]
  },
  {
   "cell_type": "markdown",
   "id": "24230a3f",
   "metadata": {},
   "source": [
    "# ABC218A"
   ]
  },
  {
   "cell_type": "code",
   "execution_count": 12,
   "id": "fd43f258",
   "metadata": {},
   "outputs": [
    {
     "name": "stdout",
     "output_type": "stream",
     "text": [
      "7\n",
      "ooooooo\n",
      "Yes\n"
     ]
    }
   ],
   "source": [
    "n = int(input())\n",
    "s = list(input())\n",
    "\n",
    "if s[n-1] == \"o\":\n",
    "    print(\"Yes\")\n",
    "else:print(\"No\")"
   ]
  },
  {
   "cell_type": "markdown",
   "id": "433bdc53",
   "metadata": {},
   "source": [
    "# ABC218B\n",
    "\n",
    "1. 文字からUnicode：ord()\n",
    "2. Unicodeから文字：chr()"
   ]
  },
  {
   "cell_type": "code",
   "execution_count": 27,
   "id": "6dd3af4a",
   "metadata": {},
   "outputs": [
    {
     "name": "stdout",
     "output_type": "stream",
     "text": [
      "2 1 3 4 5 6 7 8 9 10 11 12 13 14 15 16 17 18 19 20 21 22 23 24 25 26\n",
      "bacdefghijklmnopqrstuvwxyz\n"
     ]
    }
   ],
   "source": [
    "a = list(map(int, input().split()))\n",
    "\n",
    "A = []\n",
    "for i in range(len(a)):\n",
    "    x = chr(a[i]+96)\n",
    "    A.append(x)\n",
    "\n",
    "Ans = \"\".join(A)\n",
    "print(Ans)\n",
    "    "
   ]
  },
  {
   "cell_type": "markdown",
   "id": "295bf951",
   "metadata": {},
   "source": [
    "# ABC217A"
   ]
  },
  {
   "cell_type": "code",
   "execution_count": null,
   "id": "769f5b1a",
   "metadata": {},
   "outputs": [],
   "source": [
    "s,t = input().split()\n",
    "if s < t:\n",
    "    print(\"Yes\")\n",
    "else:\n",
    "    print(\"No\")\n",
    "    "
   ]
  },
  {
   "cell_type": "markdown",
   "id": "a2fe9253",
   "metadata": {},
   "source": [
    "# ABC217B"
   ]
  },
  {
   "cell_type": "code",
   "execution_count": 29,
   "id": "cc0267f5",
   "metadata": {},
   "outputs": [
    {
     "name": "stdout",
     "output_type": "stream",
     "text": [
      "ARC\n",
      "AHC\n",
      "AGC\n",
      "ABC\n"
     ]
    }
   ],
   "source": [
    "s1 = input()\n",
    "s2 = input()\n",
    "s3 = input()\n",
    "\n",
    "A = [s1, s2, s3]\n",
    "Contests = [\"ABC\", \"ARC\", \"AGC\",\"AHC\"]\n",
    "\n",
    "for i in Contests:\n",
    "    if i not in A:\n",
    "        print(i)"
   ]
  },
  {
   "cell_type": "markdown",
   "id": "6a4ea520",
   "metadata": {},
   "source": [
    "# ABC216A"
   ]
  },
  {
   "cell_type": "code",
   "execution_count": 32,
   "id": "88aa0581",
   "metadata": {},
   "outputs": [
    {
     "name": "stdout",
     "output_type": "stream",
     "text": [
      "1.0\n",
      "1-\n"
     ]
    }
   ],
   "source": [
    "x,y = map(int, input().split(sep = \".\"))\n",
    "if y <= 2:\n",
    "    print(\"{}-\".format(x))\n",
    "elif y <= 6:\n",
    "    print(x)\n",
    "else:print(\"{}+\".format(x))"
   ]
  },
  {
   "cell_type": "markdown",
   "id": "acb97a11",
   "metadata": {},
   "source": [
    "# ABC216B"
   ]
  },
  {
   "cell_type": "code",
   "execution_count": 44,
   "id": "7ab0cd7b",
   "metadata": {},
   "outputs": [
    {
     "name": "stdout",
     "output_type": "stream",
     "text": [
      "3\n",
      "shun ashuna\n",
      "shuna shuna \n",
      "shunas huna\n",
      "No\n"
     ]
    }
   ],
   "source": [
    "n = int(input())\n",
    "A = [list(map(str, input().split())) for _ in range(n)]\n",
    "\n",
    "B = []\n",
    "for i in range(n):\n",
    "    # shun ashunaとshuna shunaを区別するために\n",
    "    # 姓と名前の間になんか挟んでおく\n",
    "    x = \"-\".join(A[i])\n",
    "    B.append(x)\n",
    "\n",
    "if n == len(set(B)):print(\"No\")\n",
    "else:print(\"Yes\")"
   ]
  },
  {
   "cell_type": "markdown",
   "id": "20266ec0",
   "metadata": {},
   "source": [
    "# ABC215A\n"
   ]
  },
  {
   "cell_type": "code",
   "execution_count": 46,
   "id": "7817d3b2",
   "metadata": {},
   "outputs": [
    {
     "name": "stdout",
     "output_type": "stream",
     "text": [
      "Hello,World!\n",
      "AC\n"
     ]
    }
   ],
   "source": [
    "s = list(input())\n",
    "test = list(\"Hello,World!\")\n",
    "\n",
    "if s == test:print(\"AC\")\n",
    "else:print(\"WA\")"
   ]
  },
  {
   "cell_type": "markdown",
   "id": "278df5fc",
   "metadata": {},
   "source": [
    "# ABC215B"
   ]
  },
  {
   "cell_type": "code",
   "execution_count": 57,
   "id": "c9638676",
   "metadata": {},
   "outputs": [
    {
     "name": "stdout",
     "output_type": "stream",
     "text": [
      "576460752303423487\n",
      "59\n"
     ]
    }
   ],
   "source": [
    "n = int(input())\n",
    "\n",
    "from math import *\n",
    "print(floor(log2(n)))"
   ]
  },
  {
   "cell_type": "code",
   "execution_count": 1,
   "id": "a814cc09",
   "metadata": {},
   "outputs": [
    {
     "name": "stdout",
     "output_type": "stream",
     "text": [
      "76859\n",
      "16\n"
     ]
    },
    {
     "ename": "SystemExit",
     "evalue": "",
     "output_type": "error",
     "traceback": [
      "An exception has occurred, use %tb to see the full traceback.\n",
      "\u001b[1;31mSystemExit\u001b[0m\n"
     ]
    },
    {
     "name": "stderr",
     "output_type": "stream",
     "text": [
      "C:\\Users\\Shuna\\anaconda3\\lib\\site-packages\\IPython\\core\\interactiveshell.py:3445: UserWarning: To exit: use 'exit', 'quit', or Ctrl-D.\n",
      "  warn(\"To exit: use 'exit', 'quit', or Ctrl-D.\", stacklevel=1)\n"
     ]
    }
   ],
   "source": [
    "import sys\n",
    "\n",
    "n = int(input())\n",
    "for i in range(500):\n",
    "    if n < 2 ** i:\n",
    "        print(i - 1)\n",
    "        sys.exit()"
   ]
  },
  {
   "cell_type": "markdown",
   "id": "a15aa626",
   "metadata": {},
   "source": [
    "# ABC231C\n",
    "\n",
    "二分探索\n",
    "\n",
    "https://qiita.com/u2dayo/items/ab391f099b706f651599#c%E5%95%8F%E9%A1%8Ccounting-2\n",
    "\n",
    "https://qiita.com/T_Wakasugi/items/c979e977f56531942de4"
   ]
  },
  {
   "cell_type": "code",
   "execution_count": 4,
   "id": "019994e0",
   "metadata": {},
   "outputs": [
    {
     "name": "stdout",
     "output_type": "stream",
     "text": [
      "3 1\n",
      "120 100 80\n",
      "90\n",
      "2\n"
     ]
    }
   ],
   "source": [
    "from bisect import bisect_left\n",
    "\n",
    "def main():\n",
    "    n,q = map(int, input().split())\n",
    "    A = list(map(int, input().split()))\n",
    "    A.sort()\n",
    "    \n",
    "    for _ in range(q):\n",
    "        x = int(input())\n",
    "        less_count = bisect_left(A,x)\n",
    "        print(n - less_count)\n",
    "\n",
    "main()"
   ]
  },
  {
   "cell_type": "markdown",
   "id": "053e2f14",
   "metadata": {},
   "source": [
    "# ABC214A"
   ]
  },
  {
   "cell_type": "code",
   "execution_count": 2,
   "id": "513d99e4",
   "metadata": {},
   "outputs": [
    {
     "name": "stdout",
     "output_type": "stream",
     "text": [
      "214\n",
      "8\n"
     ]
    }
   ],
   "source": [
    "n = int(input())\n",
    "\n",
    "if n >= 212:\n",
    "    print(8)\n",
    "elif n >= 126:\n",
    "    print(6)\n",
    "else:\n",
    "    print(4)"
   ]
  },
  {
   "cell_type": "markdown",
   "id": "0c847055",
   "metadata": {},
   "source": [
    "# ABC214B"
   ]
  },
  {
   "cell_type": "code",
   "execution_count": 4,
   "id": "96100239",
   "metadata": {},
   "outputs": [
    {
     "name": "stdout",
     "output_type": "stream",
     "text": [
      "2 5\n",
      "10\n"
     ]
    }
   ],
   "source": [
    "s, t = map(int, input().split())\n",
    "\n",
    "count = 0\n",
    "for a in range(101):\n",
    "    for b in range(101):\n",
    "        for c in range(101):\n",
    "            if a + b + c <= s and a * b * c <= t:\n",
    "                count += 1\n",
    "print(count)"
   ]
  },
  {
   "cell_type": "markdown",
   "id": "0b6dec56",
   "metadata": {},
   "source": [
    "# ABC214C\n",
    "\n",
    "$i+1$番目のすぬけ君は、$i$番目のすぬけ君から $s[i]+t[i]$秒後に宝石をもらうのと、$t[i+1]$秒後に高橋君から宝石をもらうのとどちらが早いかを考え、min関数でtを更新していく。1番目のすぬけ君が最後のすぬけ君からもらう可能性もあるので、2周する。"
   ]
  },
  {
   "cell_type": "code",
   "execution_count": 8,
   "id": "c2d2fb2d",
   "metadata": {},
   "outputs": [
    {
     "name": "stdout",
     "output_type": "stream",
     "text": [
      "3\n",
      "4 1 5\n",
      "3 10 100\n",
      "3\n",
      "7\n",
      "8\n"
     ]
    }
   ],
   "source": [
    "n = int(input())\n",
    "s = list(map(int, input().split()))\n",
    "t = list(map(int, input().split()))\n",
    "\n",
    "for i in range(2*n):\n",
    "    t[(i+1)%n] = min(t[(i+1)%n], t[i%n] +s[i%n])\n",
    "\n",
    "for j in t:\n",
    "    print(j)"
   ]
  },
  {
   "cell_type": "markdown",
   "id": "e9b7f2d1",
   "metadata": {},
   "source": [
    "# ABC213A"
   ]
  },
  {
   "cell_type": "code",
   "execution_count": 10,
   "id": "17c237cc",
   "metadata": {},
   "outputs": [
    {
     "name": "stdout",
     "output_type": "stream",
     "text": [
      "3 6\n",
      "5\n"
     ]
    }
   ],
   "source": [
    "a,b = map(int, input().split())\n",
    "\n",
    "for i in range(256):\n",
    "    if a ^ i == b:\n",
    "        print(i)"
   ]
  },
  {
   "cell_type": "markdown",
   "id": "4a70e6a2",
   "metadata": {},
   "source": [
    "# ABC213B"
   ]
  },
  {
   "cell_type": "code",
   "execution_count": 15,
   "id": "84436879",
   "metadata": {},
   "outputs": [
    {
     "name": "stdout",
     "output_type": "stream",
     "text": [
      "6\n",
      "1 123 12345 12 1234 123456\n",
      "3\n"
     ]
    }
   ],
   "source": [
    "n = int(input())\n",
    "A = list(map(int, input().split()))\n",
    "\n",
    "B = sorted(A, reverse = True)\n",
    "for i in range(n):\n",
    "    if A[i] == B[1]:\n",
    "        print(i+1)"
   ]
  },
  {
   "cell_type": "markdown",
   "id": "e9188534",
   "metadata": {},
   "source": [
    "# ABC229C"
   ]
  },
  {
   "cell_type": "code",
   "execution_count": null,
   "id": "3770630a",
   "metadata": {},
   "outputs": [],
   "source": [
    "from operator import itemgetter \n",
    "\n",
    "def solve():\n",
    "    N,W = map(int, input().split())\n",
    "    AB = [list(map(int, input().split())) for _ in range(N)]\n",
    "    AB.sort(reverse = True, key = itemgetter(0))\n",
    "    \n",
    "    ans = 0\n",
    "    rem = W\n",
    "    \n",
    "    for a,b in AB:\n",
    "        t = min(rem,b)\n",
    "        ans += t * a\n",
    "        rem -= t\n",
    "    return ans \n",
    "\n",
    "print(solve())\n",
    "        "
   ]
  },
  {
   "cell_type": "markdown",
   "id": "805ac138",
   "metadata": {},
   "source": [
    "# ABC214A"
   ]
  },
  {
   "cell_type": "code",
   "execution_count": 2,
   "id": "5671f818",
   "metadata": {},
   "outputs": [
    {
     "name": "stdout",
     "output_type": "stream",
     "text": [
      "0112\n",
      "[0, 1111, 2222, 3333, 4444, 5555, 6666, 7777, 8888, 9999]\n"
     ]
    }
   ],
   "source": [
    "x = input()\n",
    "X = [int(a) for a in str(x)]\n",
    "\n",
    "A = []\n",
    "\n",
    "for i in range(10):\n",
    "    x = 1000*i + 100*i + 10*i + i\n",
    "    A.append(x)\n",
    "print(A)"
   ]
  },
  {
   "cell_type": "markdown",
   "id": "2e103933",
   "metadata": {},
   "source": [
    "# ABC211B"
   ]
  },
  {
   "cell_type": "code",
   "execution_count": 4,
   "id": "6cd14295",
   "metadata": {},
   "outputs": [
    {
     "name": "stdout",
     "output_type": "stream",
     "text": [
      "3B\n",
      "HR\n",
      "2B\n",
      "H\n",
      "Yes\n"
     ]
    }
   ],
   "source": [
    "def solve():\n",
    "    s1 = input()\n",
    "    s2 = input()\n",
    "    s3 = input()\n",
    "    s4 = input()\n",
    "    \n",
    "    A = [s1,s2,s3,s4]\n",
    "    B = [\"H\", \"2B\", \"3B\",\"HR\"]\n",
    "    \n",
    "    A.sort()\n",
    "    B.sort()\n",
    "    \n",
    "    ans = \"No\"\n",
    "    if A == B:\n",
    "        ans = \"Yes\"\n",
    "    \n",
    "    return ans\n",
    "\n",
    "print(solve())\n",
    "\n"
   ]
  },
  {
   "cell_type": "markdown",
   "id": "b12a27ab",
   "metadata": {},
   "source": [
    "# ABC210B"
   ]
  },
  {
   "cell_type": "code",
   "execution_count": 20,
   "id": "7d09ee4b",
   "metadata": {},
   "outputs": [
    {
     "name": "stdout",
     "output_type": "stream",
     "text": [
      "5\n",
      "10101\n",
      "Takahashi\n"
     ]
    }
   ],
   "source": [
    "def solve():\n",
    "    n = int(input())\n",
    "    s = int(input())\n",
    "    \n",
    "    A = [int(a) for a in str(s)]\n",
    "    \n",
    "    x = n - len(A) + 1\n",
    "    \n",
    "    if x % 2 == 0:\n",
    "        ans = \"Aoki\"\n",
    "    else:\n",
    "        ans = \"Takahashi\"\n",
    "        \n",
    "    return ans\n",
    "\n",
    "print(solve())   "
   ]
  },
  {
   "cell_type": "markdown",
   "id": "bfb6ec75",
   "metadata": {},
   "source": [
    "# ABC209B"
   ]
  },
  {
   "cell_type": "code",
   "execution_count": 11,
   "id": "c14dd7fd",
   "metadata": {},
   "outputs": [
    {
     "name": "stdout",
     "output_type": "stream",
     "text": [
      "4 10\n",
      "3 3 4 4\n",
      "[3, 2, 4, 3]\n",
      "No\n"
     ]
    }
   ],
   "source": [
    "def solve():\n",
    "    n,x = map(int, input().split())\n",
    "    A = list(map(int, input().split()))\n",
    "    \n",
    "    for i in range(n):\n",
    "        if i % 2 == 1:\n",
    "            A[i] = A[i] - 1\n",
    "            \n",
    "    ans = \"No\"\n",
    "    \n",
    "    for i in range(n):\n",
    "        if sum(A) <= x:\n",
    "            ans = \"Yes\"\n",
    "            \n",
    "    return ans\n",
    "\n",
    "print(solve())   "
   ]
  },
  {
   "cell_type": "markdown",
   "id": "60eede1c",
   "metadata": {},
   "source": [
    "# ABC208B"
   ]
  },
  {
   "cell_type": "code",
   "execution_count": 33,
   "id": "a8645076",
   "metadata": {},
   "outputs": [
    {
     "name": "stdout",
     "output_type": "stream",
     "text": [
      "10000000\n",
      "24\n"
     ]
    }
   ],
   "source": [
    "def solve():\n",
    "    p = int(input())\n",
    "    #*からの全インポートはfunctiojn内ではできない\n",
    "    from math import factorial\n",
    "    coins = [factorial(i) for i in range(1,11)]\n",
    "    coins.sort(reverse = True)\n",
    "    \n",
    "    ans = 0\n",
    "    rem = p\n",
    "    \n",
    "    for j in coins:\n",
    "        ans += rem // j\n",
    "        rem = rem % j\n",
    "    return ans\n",
    "\n",
    "print(solve())"
   ]
  },
  {
   "cell_type": "markdown",
   "id": "621983df",
   "metadata": {},
   "source": [
    "# ABC207B"
   ]
  },
  {
   "cell_type": "code",
   "execution_count": 38,
   "id": "bd9e1f66",
   "metadata": {},
   "outputs": [
    {
     "name": "stdout",
     "output_type": "stream",
     "text": [
      "5 2 3 2\n",
      "2\n"
     ]
    }
   ],
   "source": [
    "def solve():\n",
    "    a,b,c,d = map(int, input().split())\n",
    "    \n",
    "    from math import ceil\n",
    "    \n",
    "    if b == c * d:\n",
    "        ans = -1\n",
    "    else: \n",
    "        x = ceil(a / (c*d-b))\n",
    "        if x > 0:\n",
    "            ans = x\n",
    "        else:\n",
    "            ans = -1\n",
    "    \n",
    "    return ans\n",
    "\n",
    "print(solve())"
   ]
  },
  {
   "cell_type": "markdown",
   "id": "99da855d",
   "metadata": {},
   "source": [
    "# ABC206B\n",
    "\n",
    "累積和と二分探索\n",
    "\n",
    "累積和：https://note.nkmk.me/python-itertools-accumulate/"
   ]
  },
  {
   "cell_type": "code",
   "execution_count": 65,
   "id": "84f97980",
   "metadata": {},
   "outputs": [
    {
     "name": "stdout",
     "output_type": "stream",
     "text": [
      "7\n",
      "4\n"
     ]
    }
   ],
   "source": [
    "def solve():\n",
    "    from itertools import accumulate\n",
    "    from bisect import bisect_left\n",
    "    \n",
    "    n = int(input())\n",
    "    A = [i for i in range(1, 10**5)]\n",
    "\n",
    "    B = []\n",
    "    for i in accumulate(A):\n",
    "        B.append(i)\n",
    "    \n",
    "    ans = bisect_left(B,n) + 1\n",
    "    return ans\n",
    "\n",
    "print(solve())"
   ]
  },
  {
   "cell_type": "markdown",
   "id": "6bd5d358",
   "metadata": {},
   "source": [
    "# ABC217C\n",
    "\n",
    "リストから二次元配列の作成：https://teratail.com/questions/138609\n",
    "\n",
    "二次元配列の要素からリスト作成\n",
    "\n",
    "https://ja.stackoverflow.com/questions/47331/python%E3%81%A7%E4%BA%8C%E6%AC%A1%E5%85%83%E9%85%8D%E5%88%97%E3%81%AE%E4%B8%AD%E3%81%AE%E5%90%84%E8%A6%81%E7%B4%A0%E3%81%AEn%E7%95%AA%E7%9B%AE%E3%81%A0%E3%81%91%E3%82%92%E5%8F%96%E3%82%8A%E5%87%BA%E3%81%97%E3%81%A6-%E8%A6%81%E7%B4%A0%E3%81%A8%E3%81%97%E3%81%A6%E4%B8%A6%E3%81%B9%E3%81%9F%E3%81%84\n"
   ]
  },
  {
   "cell_type": "code",
   "execution_count": 89,
   "id": "de8b0fe5",
   "metadata": {},
   "outputs": [
    {
     "name": "stdout",
     "output_type": "stream",
     "text": [
      "3\n",
      "2 3 1\n",
      "3 1 2\n"
     ]
    }
   ],
   "source": [
    "def solve():\n",
    "    from operator import itemgetter\n",
    "    \n",
    "    n = int(input())\n",
    "    P = list(map(int, input().split()))\n",
    "    Q = [i for i in range(1,n+1)]\n",
    "    \n",
    "    A = [list(j) for j in zip(P,Q)]\n",
    "    new_A = sorted(A, reverse = False, key = itemgetter(0))\n",
    "\n",
    "    Ans = []\n",
    "    for element in new_A:\n",
    "        Ans.append(element[1])\n",
    "        \n",
    "    return print(*Ans)\n",
    "\n",
    "solve()       "
   ]
  },
  {
   "cell_type": "markdown",
   "id": "1d327726",
   "metadata": {},
   "source": [
    "# ABC205A"
   ]
  },
  {
   "cell_type": "code",
   "execution_count": 90,
   "id": "0b271525",
   "metadata": {},
   "outputs": [
    {
     "name": "stdout",
     "output_type": "stream",
     "text": [
      "45 200\n",
      "90.000000\n"
     ]
    }
   ],
   "source": [
    "a,b = map(int, input().split())\n",
    "\n",
    "print(f\"{a * b / 100:8f}\")"
   ]
  },
  {
   "cell_type": "markdown",
   "id": "6b725d61",
   "metadata": {},
   "source": [
    "# ABC205B"
   ]
  },
  {
   "cell_type": "code",
   "execution_count": 92,
   "id": "335da16c",
   "metadata": {},
   "outputs": [
    {
     "name": "stdout",
     "output_type": "stream",
     "text": [
      "6\n",
      "3 4 1 1 5 2\n",
      "No\n"
     ]
    }
   ],
   "source": [
    "n = int(input())\n",
    "A = list(map(int, input().split()))\n",
    "B = [i for i in range(1,n+1)]\n",
    "\n",
    "new_A = sorted(A, reverse = False)\n",
    "\n",
    "if new_A == B:\n",
    "    print(\"Yes\")\n",
    "else:print(\"No\")"
   ]
  },
  {
   "cell_type": "markdown",
   "id": "5b5cca11",
   "metadata": {},
   "source": [
    "# ABC205C"
   ]
  },
  {
   "cell_type": "code",
   "execution_count": 95,
   "id": "dc41b7ef",
   "metadata": {},
   "outputs": [
    {
     "name": "stdout",
     "output_type": "stream",
     "text": [
      "3 2 4\n",
      ">\n"
     ]
    }
   ],
   "source": [
    "def solve():\n",
    "    a,b,c = map(int, input().split())\n",
    "    \n",
    "    if c % 2 ==0:\n",
    "        if abs(a) > abs(b):\n",
    "            ans = \">\"\n",
    "        elif abs(a) == abs(b):\n",
    "            ans = \"=\"\n",
    "        else:\n",
    "            ans = \"<\"\n",
    "    else:\n",
    "        if a > b:\n",
    "            ans = \">\"\n",
    "        elif a == b:\n",
    "            ans = \"=\"\n",
    "        else:\n",
    "            ans = \"<\"\n",
    "    return ans\n",
    "\n",
    "print(solve())\n",
    "\n"
   ]
  },
  {
   "cell_type": "markdown",
   "id": "79e94d31",
   "metadata": {},
   "source": [
    "# ABC228C"
   ]
  },
  {
   "cell_type": "code",
   "execution_count": 9,
   "id": "bd124868",
   "metadata": {},
   "outputs": [
    {
     "name": "stdout",
     "output_type": "stream",
     "text": [
      "3 1\n",
      "178 205 132\n",
      "112 220 96\n",
      "36 64 20\n",
      "Yes\n",
      "Yes\n",
      "No\n"
     ]
    }
   ],
   "source": [
    "n,k = map(int, input().split())\n",
    "A = [list(map(int, input().split())) for _ in range(n)]\n",
    "    \n",
    "A_sum = []\n",
    "for scores in A:\n",
    "    A_sum.append(sum(scores))\n",
    "A_sum_sorted = sorted(A_sum, reverse = True)\n",
    "threshold = A_sum_sorted[k-1]\n",
    "    \n",
    "Ans = []\n",
    "for score in A_sum:\n",
    "    if score + 300 >= threshold:\n",
    "        Ans.append(\"Yes\")\n",
    "    else:\n",
    "        Ans.append(\"No\")\n",
    "\n",
    "for j in Ans:\n",
    "    print(j)    "
   ]
  },
  {
   "cell_type": "markdown",
   "id": "546f06a7",
   "metadata": {},
   "source": [
    "# ABC216C\n"
   ]
  },
  {
   "cell_type": "code",
   "execution_count": 30,
   "id": "ff4fb8e5",
   "metadata": {},
   "outputs": [
    {
     "name": "stdout",
     "output_type": "stream",
     "text": [
      "5\n",
      "ABBA\n"
     ]
    }
   ],
   "source": [
    "def solve():\n",
    "    from bisect import bisect_right\n",
    "    \n",
    "    n = int(input())\n",
    "    A = []\n",
    "    for i in range(60):\n",
    "        x = 2 ** i\n",
    "        A.append(x)\n",
    "        \n",
    "    a = bisect_right(A,n)\n",
    "    rem = n - A[a-1]\n",
    "    length = a + rem\n",
    "    \n",
    "    Ans = []\n",
    "    \n",
    "    for i in range(length):\n",
    "        if i == 0:\n",
    "            Ans.append(\"A\")\n",
    "        elif i <= (a-1):\n",
    "            Ans.append(\"B\")\n",
    "        else:\n",
    "            Ans.append(\"A\")\n",
    "    ans = \"\".join(Ans)\n",
    "\n",
    "    return ans\n",
    "print(solve())"
   ]
  },
  {
   "cell_type": "code",
   "execution_count": null,
   "id": "34b57366",
   "metadata": {},
   "outputs": [],
   "source": []
  },
  {
   "cell_type": "code",
   "execution_count": null,
   "id": "583a3426",
   "metadata": {},
   "outputs": [],
   "source": []
  },
  {
   "cell_type": "code",
   "execution_count": 34,
   "id": "95de570e",
   "metadata": {},
   "outputs": [
    {
     "name": "stdout",
     "output_type": "stream",
     "text": [
      "baba 4\n",
      "baab\n"
     ]
    }
   ],
   "source": [
    "def solve():\n",
    "    from itertools import permutations \n",
    "    \n",
    "    n,k = map(str, input().split())\n",
    "    k = int(k)\n",
    "    \n",
    "    n_set = set()\n",
    "    for element in permutations(n):\n",
    "        n_set.add(\"\".join(element))\n",
    "    \n",
    "    A = list(n_set)\n",
    "    B = sorted(A, reverse = False)\n",
    "    \n",
    "    ans = B[k-1]\n",
    "    \n",
    "    return ans\n",
    "\n",
    "print(solve())\n",
    "    "
   ]
  },
  {
   "cell_type": "markdown",
   "id": "8f753455",
   "metadata": {},
   "source": [
    "# ABC219C\n",
    "\n",
    "方針：二次元配列を作り、"
   ]
  },
  {
   "cell_type": "code",
   "execution_count": null,
   "id": "350c3462",
   "metadata": {},
   "outputs": [],
   "source": [
    "def solve():\n",
    "    \n",
    "    "
   ]
  },
  {
   "cell_type": "code",
   "execution_count": 2,
   "id": "abf9341c",
   "metadata": {},
   "outputs": [
    {
     "ename": "SyntaxError",
     "evalue": "unexpected EOF while parsing (<ipython-input-2-2d1e276a1fc9>, line 14)",
     "output_type": "error",
     "traceback": [
      "\u001b[1;36m  File \u001b[1;32m\"<ipython-input-2-2d1e276a1fc9>\"\u001b[1;36m, line \u001b[1;32m14\u001b[0m\n\u001b[1;33m    for char in S:\u001b[0m\n\u001b[1;37m                  ^\u001b[0m\n\u001b[1;31mSyntaxError\u001b[0m\u001b[1;31m:\u001b[0m unexpected EOF while parsing\n"
     ]
    }
   ],
   "source": [
    "X = input()\n",
    "D = dict()\n",
    "\n",
    "for i in range(26):\n",
    "    nxt = chr(i+ord(\"a\"))\n",
    "    D[X[i]] = nxt\n",
    "\n",
    "N = int(input())\n",
    "A = []\n",
    "\n",
    "for _ in range(N):\n",
    "    S = input()\n",
    "    T = \"\"\n",
    "    for char in S:\n",
    "        T += D[char]"
   ]
  },
  {
   "cell_type": "code",
   "execution_count": 5,
   "id": "d4b3b6ec",
   "metadata": {},
   "outputs": [
    {
     "name": "stdout",
     "output_type": "stream",
     "text": [
      "bacdefghijklmnopqrstuvwxzy\n"
     ]
    },
    {
     "ename": "KeyError",
     "evalue": "'aab'",
     "output_type": "error",
     "traceback": [
      "\u001b[1;31m---------------------------------------------------------------------------\u001b[0m",
      "\u001b[1;31mKeyError\u001b[0m                                  Traceback (most recent call last)",
      "\u001b[1;32m<ipython-input-5-40404bae4cbd>\u001b[0m in \u001b[0;36m<module>\u001b[1;34m\u001b[0m\n\u001b[0;32m      6\u001b[0m     \u001b[0mD\u001b[0m\u001b[1;33m[\u001b[0m\u001b[0mX\u001b[0m\u001b[1;33m[\u001b[0m\u001b[0mi\u001b[0m\u001b[1;33m]\u001b[0m\u001b[1;33m]\u001b[0m \u001b[1;33m=\u001b[0m \u001b[0mnxt\u001b[0m\u001b[1;33m\u001b[0m\u001b[1;33m\u001b[0m\u001b[0m\n\u001b[0;32m      7\u001b[0m \u001b[1;33m\u001b[0m\u001b[0m\n\u001b[1;32m----> 8\u001b[1;33m \u001b[0mprint\u001b[0m\u001b[1;33m(\u001b[0m\u001b[0mD\u001b[0m\u001b[1;33m[\u001b[0m\u001b[1;34m\"aab\"\u001b[0m\u001b[1;33m]\u001b[0m\u001b[1;33m)\u001b[0m\u001b[1;33m\u001b[0m\u001b[1;33m\u001b[0m\u001b[0m\n\u001b[0m",
      "\u001b[1;31mKeyError\u001b[0m: 'aab'"
     ]
    }
   ],
   "source": [
    "X = input()\n",
    "D = dict()\n",
    "\n",
    "for i in range(26):\n",
    "    nxt = chr(i+ord(\"a\"))\n",
    "    D[X[i]] = nxt\n",
    "    \n",
    "print(D[\"aab\"])"
   ]
  },
  {
   "cell_type": "markdown",
   "id": "f06f5c72",
   "metadata": {},
   "source": [
    "# ABC204A"
   ]
  },
  {
   "cell_type": "code",
   "execution_count": 1,
   "id": "5a2ea95e",
   "metadata": {},
   "outputs": [
    {
     "name": "stdout",
     "output_type": "stream",
     "text": [
      "0 1\n",
      "2\n"
     ]
    }
   ],
   "source": [
    "def solve():\n",
    "    x,y = map(int, input().split())\n",
    "    \n",
    "    if x == y:\n",
    "        ans = x\n",
    "    elif x + y == 1:\n",
    "        ans = 2\n",
    "    elif x + y == 2:\n",
    "        ans = 1\n",
    "    else:\n",
    "        ans = 0\n",
    "    return ans \n",
    "\n",
    "print(solve())"
   ]
  },
  {
   "cell_type": "markdown",
   "id": "f4ab5cdb",
   "metadata": {},
   "source": [
    "# ABC204B"
   ]
  },
  {
   "cell_type": "code",
   "execution_count": 5,
   "id": "68dc7864",
   "metadata": {},
   "outputs": [
    {
     "name": "stdout",
     "output_type": "stream",
     "text": [
      "3\n",
      "6 17 28\n",
      "25\n"
     ]
    }
   ],
   "source": [
    "def solve():\n",
    "    n = int(input())\n",
    "    A = list(map(int, input().split()))\n",
    "    \n",
    "    count = 0\n",
    "    for fruits in A:\n",
    "        if fruits > 10:\n",
    "            count += fruits - 10\n",
    "    return count \n",
    "\n",
    "print(solve())"
   ]
  },
  {
   "cell_type": "markdown",
   "id": "f0e45f47",
   "metadata": {},
   "source": [
    "# ABC204C **\n",
    "\n",
    "深さ優先探索"
   ]
  },
  {
   "cell_type": "code",
   "execution_count": 8,
   "id": "6f15e8ed",
   "metadata": {},
   "outputs": [
    {
     "name": "stdout",
     "output_type": "stream",
     "text": [
      "4 4\n",
      "1 2 \n",
      "2 3\n",
      "3 4\n",
      "4 1\n",
      "16\n"
     ]
    }
   ],
   "source": [
    "import sys \n",
    "#再帰上限をあげておく\n",
    "sys.setrecursionlimit(10**6)\n",
    "\n",
    "def main():\n",
    "    def dfs(u):\n",
    "        # startから到達可能な都市の数を返す\n",
    "        for v in edge[u]:\n",
    "            if not seen[v]:\n",
    "                # 再帰関数\n",
    "                seen[v] = True\n",
    "                dfs(v)\n",
    "                \n",
    "    N,M = map(int, input().split())\n",
    "    edge = [[] for _ in range(N)]\n",
    "    # 二次元配列で辺の各頂点を表している\n",
    "    for _ in range(M):\n",
    "        # ０始まりにするために全部から1引いておく\n",
    "        a,b = (x-1 for x in map(int, input().split()))\n",
    "        edge[a].append(b)\n",
    "            \n",
    "    ans = 0\n",
    "        \n",
    "    for i in range(N):\n",
    "        seen = [False]*N\n",
    "        seen[i] = True\n",
    "        dfs(i)\n",
    "        ans += seen.count(True)\n",
    "        \n",
    "    print(ans)\n",
    "\n",
    "if __name__ == \"__main__\":\n",
    "    main()"
   ]
  },
  {
   "cell_type": "markdown",
   "id": "a64c2b06",
   "metadata": {},
   "source": [
    "# ABC203A"
   ]
  },
  {
   "cell_type": "code",
   "execution_count": 10,
   "id": "14c08ff0",
   "metadata": {},
   "outputs": [
    {
     "name": "stdout",
     "output_type": "stream",
     "text": [
      "1 1 1\n",
      "1\n"
     ]
    }
   ],
   "source": [
    "a,b,c = map(int, input().split())\n",
    "\n",
    "if a != b and a!= c and b!= c:\n",
    "    print(0)\n",
    "elif a == b:\n",
    "    print(c)\n",
    "elif a == c:\n",
    "    print(b)\n",
    "else:\n",
    "    print(a)"
   ]
  },
  {
   "cell_type": "markdown",
   "id": "ac8e53c9",
   "metadata": {},
   "source": [
    "# ABC203B"
   ]
  },
  {
   "cell_type": "code",
   "execution_count": 11,
   "id": "de8a7b68",
   "metadata": {},
   "outputs": [
    {
     "name": "stdout",
     "output_type": "stream",
     "text": [
      "3 3\n",
      "1818\n"
     ]
    }
   ],
   "source": [
    "def solve():\n",
    "    n,k = map(int,input().split())\n",
    "    \n",
    "    ans = 0\n",
    "    for i in range(k+1):\n",
    "        ans += i\n",
    "    ans = ans * n\n",
    "    \n",
    "    for j in range(1,n+1):\n",
    "        ans += j * 100 * k\n",
    "    \n",
    "    return ans \n",
    "\n",
    "print(solve())\n",
    "        "
   ]
  },
  {
   "cell_type": "markdown",
   "id": "5d3ce5ca",
   "metadata": {},
   "source": [
    "# ABC203C **"
   ]
  },
  {
   "cell_type": "code",
   "execution_count": 16,
   "id": "088ab6d0",
   "metadata": {},
   "outputs": [
    {
     "name": "stdout",
     "output_type": "stream",
     "text": [
      "2 3\n",
      "2 1\n",
      "5 10\n",
      "4\n"
     ]
    }
   ],
   "source": [
    "def solve():\n",
    "    n,k = map(int, input().split())\n",
    "    \n",
    "    towns = []\n",
    "    for _ in range(n):\n",
    "        a,b = map(int, input().split())\n",
    "        towns.append((a,b))\n",
    "    \n",
    "    towns.sort()\n",
    "    \n",
    "    now = k\n",
    "    for i in range(n):\n",
    "        a,b = towns[i]\n",
    "        if now >= a:\n",
    "            now += b\n",
    "        else:\n",
    "            break \n",
    "    \n",
    "    return now\n",
    "\n",
    "print(solve())\n",
    "    \n",
    "    \n",
    "    "
   ]
  },
  {
   "cell_type": "markdown",
   "id": "bb976e27",
   "metadata": {},
   "source": [
    "# ABC202A\n"
   ]
  },
  {
   "cell_type": "code",
   "execution_count": 17,
   "id": "59784a56",
   "metadata": {},
   "outputs": [
    {
     "name": "stdout",
     "output_type": "stream",
     "text": [
      "3 2 1\n",
      "15\n"
     ]
    }
   ],
   "source": [
    "a,b,c = map(int, input().split())\n",
    "print(21-(a+b+c))"
   ]
  },
  {
   "cell_type": "markdown",
   "id": "be0f0430",
   "metadata": {},
   "source": [
    "# ABC202B"
   ]
  },
  {
   "cell_type": "code",
   "execution_count": 19,
   "id": "4813e1c4",
   "metadata": {},
   "outputs": [
    {
     "name": "stdout",
     "output_type": "stream",
     "text": [
      "0601889\n",
      "6881090\n"
     ]
    }
   ],
   "source": [
    "def solve():\n",
    "    s = input()\n",
    "    A = [int(a) for a in str(s)]\n",
    "    \n",
    "    A.reverse()\n",
    "    B = []\n",
    "    for val in A:\n",
    "        if val == 6:\n",
    "            B.append(\"9\")\n",
    "        elif val == 9:\n",
    "            B.append(\"6\")\n",
    "        else:\n",
    "            B.append(str(val))\n",
    "            \n",
    "    ans = \"\".join(B)\n",
    "    \n",
    "    return ans\n",
    "\n",
    "print(solve())"
   ]
  },
  {
   "cell_type": "markdown",
   "id": "1f550e12",
   "metadata": {},
   "source": [
    "# ABC202C **\n",
    "\n",
    "リストの中の要素の個数をほかのリストとくらべてはじき出す\n",
    "\n",
    "https://note.nkmk.me/python-collections-counter/"
   ]
  },
  {
   "cell_type": "code",
   "execution_count": 22,
   "id": "262ddcd6",
   "metadata": {},
   "outputs": [
    {
     "name": "stdout",
     "output_type": "stream",
     "text": [
      "3\n",
      "1 2 2\n",
      "3 1 2\n",
      "2 3 2\n",
      "4\n"
     ]
    }
   ],
   "source": [
    "def solve():\n",
    "    n = int(input())\n",
    "    A = list(map(int, input().split()))\n",
    "    B = list(map(int, input().split()))\n",
    "    C = list(map(int, input().split()))\n",
    "    \n",
    "    from collections import Counter \n",
    "    \n",
    "    count_in_A = Counter(A)\n",
    "    ans = 0\n",
    "    for i in C:\n",
    "        b = B[i-1]\n",
    "        ans += count_in_A[b]\n",
    "    \n",
    "    return ans\n",
    "\n",
    "print(solve())\n",
    "            "
   ]
  },
  {
   "cell_type": "markdown",
   "id": "18d843a3",
   "metadata": {},
   "source": [
    "# ABC201A"
   ]
  },
  {
   "cell_type": "code",
   "execution_count": 25,
   "id": "f9aeb332",
   "metadata": {},
   "outputs": [
    {
     "name": "stdout",
     "output_type": "stream",
     "text": [
      "5 5 5\n",
      "Yes\n"
     ]
    }
   ],
   "source": [
    "A = list(map(int, input().split()))\n",
    "A.sort()\n",
    "\n",
    "x = A[2] - A[1]\n",
    "y = A[1] - A[0]\n",
    "\n",
    "if x == y:\n",
    "    print(\"Yes\")\n",
    "else:\n",
    "    print(\"No\")"
   ]
  },
  {
   "cell_type": "markdown",
   "id": "82c90cb4",
   "metadata": {},
   "source": [
    "# ABC201B"
   ]
  },
  {
   "cell_type": "code",
   "execution_count": 30,
   "id": "7b985df0",
   "metadata": {},
   "outputs": [
    {
     "name": "stdout",
     "output_type": "stream",
     "text": [
      "4\n",
      "A 100\n",
      "C 70\n",
      "B 90\n",
      "D 10\n",
      "B\n"
     ]
    }
   ],
   "source": [
    "def solve():\n",
    "    n = int(input())\n",
    "    A = []\n",
    "    \n",
    "    for _ in range(n):\n",
    "        s,t = input().split()\n",
    "        s = str(s)\n",
    "        t = int(t)\n",
    "        A.append([s,t])\n",
    "    \n",
    "    from operator import itemgetter\n",
    "    A.sort(reverse = True, key = itemgetter(1))\n",
    "    \n",
    "    ans = A[1][0]\n",
    "    \n",
    "    return ans\n",
    "\n",
    "print(solve())\n",
    "    \n",
    "    "
   ]
  },
  {
   "cell_type": "markdown",
   "id": "433fede1",
   "metadata": {},
   "source": [
    "# ABC201C"
   ]
  },
  {
   "cell_type": "code",
   "execution_count": null,
   "id": "105067c4",
   "metadata": {},
   "outputs": [],
   "source": [
    "def solve():\n",
    "    def judge():\n",
    "        if x in O:\n",
    "            \n",
    "            "
   ]
  },
  {
   "cell_type": "markdown",
   "id": "7670f274",
   "metadata": {},
   "source": [
    "# ABC200B"
   ]
  },
  {
   "cell_type": "code",
   "execution_count": 1,
   "id": "8090be6c",
   "metadata": {},
   "outputs": [
    {
     "name": "stdout",
     "output_type": "stream",
     "text": [
      "3 190\n",
      "25637979419682877979654279009943106355200\n"
     ]
    }
   ],
   "source": [
    "def solve():\n",
    "    n,k = map(int, input().split())\n",
    "    \n",
    "    for _ in range(k):\n",
    "        if n % 200 == 0:\n",
    "            n = n/200\n",
    "        else:\n",
    "            n = (n * 1000) + 200\n",
    "    \n",
    "    return int(n)\n",
    "\n",
    "print(solve())"
   ]
  },
  {
   "cell_type": "markdown",
   "id": "db9768a1",
   "metadata": {},
   "source": [
    "# ABC199A"
   ]
  },
  {
   "cell_type": "code",
   "execution_count": 2,
   "id": "bc83bdcb",
   "metadata": {},
   "outputs": [
    {
     "name": "stdout",
     "output_type": "stream",
     "text": [
      "2 2 4\n",
      "Yes\n"
     ]
    }
   ],
   "source": [
    "a,b,c = map(int, input().split())\n",
    "ans = a**2 + b**2\n",
    "if ans < c **2:\n",
    "    print(\"Yes\")\n",
    "else:\n",
    "    print(\"No\")"
   ]
  },
  {
   "cell_type": "markdown",
   "id": "671846c0",
   "metadata": {},
   "source": [
    "# ABC199B"
   ]
  },
  {
   "cell_type": "code",
   "execution_count": 6,
   "id": "6a5b4eba",
   "metadata": {},
   "outputs": [
    {
     "name": "stdout",
     "output_type": "stream",
     "text": [
      "2\n",
      "3 2 \n",
      "7 5\n",
      "3\n"
     ]
    }
   ],
   "source": [
    "def solve():\n",
    "    n = int(input())\n",
    "    A = list(map(int, input().split()))\n",
    "    B = list(map(int, input().split()))\n",
    "    \n",
    "    a = max(A)\n",
    "    b = min(B)\n",
    "    \n",
    "    Ans = b - a + 1\n",
    "    if Ans >= 0:\n",
    "        ans = Ans\n",
    "    else:\n",
    "        ans = 0\n",
    "    return ans\n",
    "print(solve())\n",
    "    \n",
    "    "
   ]
  },
  {
   "cell_type": "markdown",
   "id": "25f9b75f",
   "metadata": {},
   "source": [
    "# ABC199C"
   ]
  },
  {
   "cell_type": "code",
   "execution_count": 19,
   "id": "cefebea7",
   "metadata": {},
   "outputs": [
    {
     "ename": "ValueError",
     "evalue": "invalid literal for int() with base 10: ''",
     "output_type": "error",
     "traceback": [
      "\u001b[1;31m---------------------------------------------------------------------------\u001b[0m",
      "\u001b[1;31mValueError\u001b[0m                                Traceback (most recent call last)",
      "\u001b[1;32m<ipython-input-19-f9c40c412de6>\u001b[0m in \u001b[0;36m<module>\u001b[1;34m\u001b[0m\n\u001b[0;32m     14\u001b[0m \u001b[1;33m\u001b[0m\u001b[0m\n\u001b[0;32m     15\u001b[0m     \u001b[1;32mreturn\u001b[0m \u001b[0mans\u001b[0m\u001b[1;33m\u001b[0m\u001b[1;33m\u001b[0m\u001b[0m\n\u001b[1;32m---> 16\u001b[1;33m \u001b[0mprint\u001b[0m\u001b[1;33m(\u001b[0m\u001b[0msolve\u001b[0m\u001b[1;33m(\u001b[0m\u001b[1;33m)\u001b[0m\u001b[1;33m)\u001b[0m\u001b[1;33m\u001b[0m\u001b[1;33m\u001b[0m\u001b[0m\n\u001b[0m\u001b[0;32m     17\u001b[0m \u001b[1;33m\u001b[0m\u001b[0m\n\u001b[0;32m     18\u001b[0m \u001b[1;33m\u001b[0m\u001b[0m\n",
      "\u001b[1;32m<ipython-input-19-f9c40c412de6>\u001b[0m in \u001b[0;36msolve\u001b[1;34m()\u001b[0m\n\u001b[0;32m      1\u001b[0m \u001b[1;32mdef\u001b[0m \u001b[0msolve\u001b[0m\u001b[1;33m(\u001b[0m\u001b[1;33m)\u001b[0m\u001b[1;33m:\u001b[0m\u001b[1;33m\u001b[0m\u001b[1;33m\u001b[0m\u001b[0m\n\u001b[1;32m----> 2\u001b[1;33m     \u001b[0mn\u001b[0m \u001b[1;33m=\u001b[0m \u001b[0mint\u001b[0m\u001b[1;33m(\u001b[0m\u001b[0minput\u001b[0m\u001b[1;33m(\u001b[0m\u001b[1;33m)\u001b[0m\u001b[1;33m)\u001b[0m\u001b[1;33m\u001b[0m\u001b[1;33m\u001b[0m\u001b[0m\n\u001b[0m\u001b[0;32m      3\u001b[0m     \u001b[0ms\u001b[0m \u001b[1;33m=\u001b[0m \u001b[0mlist\u001b[0m\u001b[1;33m(\u001b[0m\u001b[0minput\u001b[0m\u001b[1;33m(\u001b[0m\u001b[1;33m)\u001b[0m\u001b[1;33m)\u001b[0m\u001b[1;33m\u001b[0m\u001b[1;33m\u001b[0m\u001b[0m\n\u001b[0;32m      4\u001b[0m     \u001b[0mq\u001b[0m \u001b[1;33m=\u001b[0m \u001b[0mint\u001b[0m\u001b[1;33m(\u001b[0m\u001b[0minput\u001b[0m\u001b[1;33m(\u001b[0m\u001b[1;33m)\u001b[0m\u001b[1;33m)\u001b[0m\u001b[1;33m\u001b[0m\u001b[1;33m\u001b[0m\u001b[0m\n\u001b[0;32m      5\u001b[0m \u001b[1;33m\u001b[0m\u001b[0m\n",
      "\u001b[1;31mValueError\u001b[0m: invalid literal for int() with base 10: ''"
     ]
    }
   ],
   "source": [
    "def solve():\n",
    "    n = int(input())\n",
    "    s = list(input())\n",
    "    q = int(input())\n",
    "    \n",
    "    L = []\n",
    "    for _ in range(q):\n",
    "        t,a,b = map(int, input().split())\n",
    "        if t == 1:\n",
    "            s[a-1], s[b-1] = s[b-1],s[a-1]\n",
    "        else:\n",
    "            s = s[n:] + s[:n]\n",
    "    ans = \"\".join(s)\n",
    "    \n",
    "    return ans\n",
    "print(solve())\n",
    "            \n",
    "        "
   ]
  },
  {
   "cell_type": "code",
   "execution_count": null,
   "id": "f9b3978f",
   "metadata": {},
   "outputs": [],
   "source": [
    "s = list(input())\n",
    "\n",
    "print(s[4:] + s[:4])"
   ]
  },
  {
   "cell_type": "markdown",
   "id": "488d65e3",
   "metadata": {},
   "source": [
    "# ABC233A"
   ]
  },
  {
   "cell_type": "code",
   "execution_count": null,
   "id": "d5b453d9",
   "metadata": {},
   "outputs": [],
   "source": [
    "import sys\n",
    "input = sys.stdin.readline\n",
    "from math import ceil\n",
    "\n",
    "x,y = map(int, input().split())\n",
    "gap = y - x\n",
    "if gap > 0:\n",
    "    print(ceil(gap/10))\n",
    "else:print(0)"
   ]
  },
  {
   "cell_type": "markdown",
   "id": "22abfa75",
   "metadata": {},
   "source": [
    "# ABC233B"
   ]
  },
  {
   "cell_type": "code",
   "execution_count": null,
   "id": "bb56a097",
   "metadata": {},
   "outputs": [],
   "source": [
    "def solve():\n",
    "    l,r = map(int, input().split())\n",
    "    s = list(input())\n",
    "    \n",
    "    ans = s[:l-1] + s[r-1:l-1:-1]+s[r-1:]\n",
    "    return ans\n",
    "print(solve())\n",
    "    \n",
    "    \n",
    "    \n",
    "    "
   ]
  },
  {
   "cell_type": "markdown",
   "id": "809bc953",
   "metadata": {},
   "source": [
    "# ABC198B"
   ]
  },
  {
   "cell_type": "code",
   "execution_count": 13,
   "id": "4c7ae9ac",
   "metadata": {},
   "outputs": [
    {
     "name": "stdout",
     "output_type": "stream",
     "text": [
      "1210\n",
      "Yes\n"
     ]
    }
   ],
   "source": [
    "def solve():\n",
    "    \n",
    "    s = input()\n",
    "    \n",
    "    for i in range(10):\n",
    "        z = \"0\" * i\n",
    "        T = z + s\n",
    "        if T == T[::-1]:\n",
    "            return True\n",
    "    \n",
    "    return False\n",
    "\n",
    "if solve():\n",
    "    print(\"Yes\")\n",
    "else:\n",
    "    print(\"No\")"
   ]
  },
  {
   "cell_type": "markdown",
   "id": "5ec18088",
   "metadata": {},
   "source": [
    "# ABC197B"
   ]
  },
  {
   "cell_type": "code",
   "execution_count": 2,
   "id": "666e77fb",
   "metadata": {},
   "outputs": [
    {
     "name": "stdout",
     "output_type": "stream",
     "text": [
      "4 4 2 2\n",
      "##..\n",
      "...#\n",
      "#.#.\n",
      ".#.#\n",
      "4\n"
     ]
    }
   ],
   "source": [
    "def solve():\n",
    "    h,w,x,y = map(int,input().split())\n",
    "    S = []\n",
    "    for _ in range(h):\n",
    "        a = input()\n",
    "        S.append(a)\n",
    "        \n",
    "    ans = 1\n",
    "    x -= 1\n",
    "    y -= 1\n",
    "    \n",
    "    # upwards\n",
    "    for row in reversed(range(x)):\n",
    "        if S[row][y] == \"#\":\n",
    "            break\n",
    "        else:\n",
    "            ans += 1\n",
    "    # downwards\n",
    "    for row in range(x+1,h):\n",
    "        if S[row][y] == \"#\":\n",
    "            break \n",
    "        else:\n",
    "            ans += 1\n",
    "    \n",
    "    # leftwards \n",
    "    for col in reversed(range(y)):\n",
    "        if S[x][col] == \"#\":\n",
    "            break \n",
    "        else:\n",
    "            ans += 1\n",
    "    \n",
    "    # rightwards\n",
    "    for col in range(y+1, w):\n",
    "        if S[x][col] == \"#\":\n",
    "            break \n",
    "        else:\n",
    "            ans += 1\n",
    "    \n",
    "    return ans\n",
    "\n",
    "print(solve())\n",
    "        \n",
    "    \n",
    "        \n",
    "    "
   ]
  },
  {
   "cell_type": "code",
   "execution_count": null,
   "id": "b74e9622",
   "metadata": {},
   "outputs": [],
   "source": []
  }
 ],
 "metadata": {
  "kernelspec": {
   "display_name": "Python 3",
   "language": "python",
   "name": "python3"
  },
  "language_info": {
   "codemirror_mode": {
    "name": "ipython",
    "version": 3
   },
   "file_extension": ".py",
   "mimetype": "text/x-python",
   "name": "python",
   "nbconvert_exporter": "python",
   "pygments_lexer": "ipython3",
   "version": "3.8.8"
  },
  "toc": {
   "base_numbering": 1,
   "nav_menu": {},
   "number_sections": true,
   "sideBar": true,
   "skip_h1_title": false,
   "title_cell": "Table of Contents",
   "title_sidebar": "Contents",
   "toc_cell": false,
   "toc_position": {
    "height": "calc(100% - 180px)",
    "left": "10px",
    "top": "150px",
    "width": "256px"
   },
   "toc_section_display": true,
   "toc_window_display": false
  }
 },
 "nbformat": 4,
 "nbformat_minor": 5
}
